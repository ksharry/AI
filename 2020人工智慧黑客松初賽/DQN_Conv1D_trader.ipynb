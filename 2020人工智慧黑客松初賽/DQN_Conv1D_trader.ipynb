{
  "nbformat": 4,
  "nbformat_minor": 0,
  "metadata": {
    "colab": {
      "name": "DQN_Conv1D_trader.ipynb",
      "provenance": []
    },
    "kernelspec": {
      "name": "python3",
      "display_name": "Python 3"
    },
    "accelerator": "GPU"
  },
  "cells": [
    {
      "cell_type": "code",
      "metadata": {
        "id": "b2sEqrWXD_Ct"
      },
      "source": [
        "#!pip install pandas-datareader"
      ],
      "execution_count": null,
      "outputs": []
    },
    {
      "cell_type": "code",
      "metadata": {
        "id": "uGvqSuy4wWKo",
        "outputId": "727fb967-d41f-4a89-c01e-f1f407ee3a77",
        "colab": {
          "base_uri": "https://localhost:8080/",
          "height": 34
        }
      },
      "source": [
        "from google.colab import drive\n",
        "drive.mount('/content/gdrive')"
      ],
      "execution_count": null,
      "outputs": [
        {
          "output_type": "stream",
          "text": [
            "Mounted at /content/gdrive\n"
          ],
          "name": "stdout"
        }
      ]
    },
    {
      "cell_type": "code",
      "metadata": {
        "id": "K1z7xVeqEzQR"
      },
      "source": [
        "import math\n",
        "import random\n",
        "import numpy as np\n",
        "import pandas as pd\n",
        "import tensorflow as tf\n",
        "import matplotlib.pyplot as plt\n",
        "import pandas_datareader as data_reader\n",
        "import xgboost as xgb\n",
        "from tqdm import tqdm_notebook, tqdm\n",
        "from collections import deque\n",
        "from sklearn.metrics import mean_absolute_error\n",
        "from sklearn.preprocessing import StandardScaler"
      ],
      "execution_count": null,
      "outputs": []
    },
    {
      "cell_type": "code",
      "metadata": {
        "id": "8safjQw_ELwM"
      },
      "source": [
        "import tensorflow as tf"
      ],
      "execution_count": null,
      "outputs": []
    },
    {
      "cell_type": "code",
      "metadata": {
        "id": "morTF0x0E8CM"
      },
      "source": [
        "class DQN_trader():\n",
        "  \n",
        "  def __init__(self, state_size, action_num=3, model_name=\"DQN_trader\"): # state_size指要看過去幾天的價格（window_size)\n",
        "    \n",
        "    self.state_size = state_size\n",
        "    self.action_num = action_num # number = 3 (stay, buy, sell)\n",
        "    self.memory = deque(maxlen=2000) # 記憶最大2000組\n",
        "    self.inventory = [] # 買入庫存\n",
        "    self.model_name = model_name\n",
        "    \n",
        "    self.gamma = 0.95\n",
        "    self.epsilon = 1.0 # 隨機或預測threshold\n",
        "    self.epsilon_final = 0.01 # 訓練停止點\n",
        "    self.epsilon_decay = 0.995 # 每次epsilon遞減比率\n",
        "    \n",
        "    self.model = self.model_dnn()\n",
        "    \n",
        "  def model_dnn(self):\n",
        "    \n",
        "    model = tf.keras.models.Sequential()\n",
        "    \n",
        "    model.add(tf.keras.layers.Dense(units=16, activation='relu', input_dim=self.state_size))\n",
        "    \n",
        "    model.add(tf.keras.layers.Dense(units=32, activation='relu'))\n",
        "    \n",
        "    model.add(tf.keras.layers.Dense(units=64, activation='relu'))\n",
        "    \n",
        "    model.add(tf.keras.layers.Dense(units=128, activation='relu'))\n",
        "    \n",
        "    model.add(tf.keras.layers.Dense(units=self.action_num, activation='linear'))\n",
        "    # 最後輸出3個linear值,然後做argmax\n",
        "    model.compile(loss='mse', optimizer=tf.keras.optimizers.Adam(lr=1e-3))\n",
        "    \n",
        "    return model\n",
        "  \n",
        "  def trade(self, state):\n",
        "    # random or use model predict\n",
        "    \n",
        "    if random.random() <= self.epsilon: # epsilon在每次dnn訓練後會減少千分之5讓以隨機決策交易的機會降低\n",
        "      return random.randrange(self.action_num)\n",
        "    \n",
        "    actions = self.model.predict(state) #predict出三組數字然後argmax產出0,1,2三個數字 #0Stay, 1Buy, 2Sell\n",
        "    return np.argmax(actions[0]) \n",
        "  \n",
        "  \n",
        "  def batch_train(self, batch_size): \n",
        "    \n",
        "    batch = []\n",
        "    # get pervious action\n",
        "    for i in range(len(self.memory) - batch_size + 1, len(self.memory)):\n",
        "      batch.append(self.memory[i]) # 取出最新32筆memory, 每個memory包含5個items\n",
        "      \n",
        "    for state, action, reward, next_state, done in batch:\n",
        "      reward = reward\n",
        "      if not done:\n",
        "        reward = reward + self.gamma * np.amax(self.model.predict(next_state)[0])#引導模型往這次＋預期下次最大reward方向擬合\n",
        "        \n",
        "      target = self.model.predict(state)\n",
        "      target[0][action] = reward\n",
        "      \n",
        "      self.model.fit(state, target, epochs=1, verbose=0) #以過去32筆memory訓練模型來做預測\n",
        "      \n",
        "    if self.epsilon > self.epsilon_final: # final值為0.01\n",
        "      self.epsilon *= self.epsilon_decay # epsilon初始值1, 每次遞減千分之五"
      ],
      "execution_count": null,
      "outputs": []
    },
    {
      "cell_type": "code",
      "metadata": {
        "id": "w5-KNqNTGXfP"
      },
      "source": [
        "def sigmoid(x):\n",
        "  return 1 / (1 + math.exp(-x))\n",
        "\n",
        "def stocks_price_format(n):\n",
        "  if n < 0:\n",
        "    return \"- $ {0:2f}\".format(abs(n))\n",
        "  else:\n",
        "    return \"$ {0:2f}\".format(abs(n))"
      ],
      "execution_count": null,
      "outputs": []
    },
    {
      "cell_type": "code",
      "metadata": {
        "id": "Aw48fkaoG2bp"
      },
      "source": [
        "def dataset_loader(stock_name):\n",
        "  \n",
        "  #Complete the dataset loader function\n",
        "  dataset = data_reader.DataReader(stock_name, data_source=\"yahoo\") \n",
        "  \n",
        "  start_date = str(dataset.index[0]).split()[0]\n",
        "  end_date = str(dataset.index[-1]).split()[0]\n",
        "  print(f'dataset loaded with start date {start_date}, end date {end_date}')\n",
        "  close = dataset['Close'] #收盤價\n",
        "\n",
        "  return close\n",
        "\n",
        "\n",
        "def state_creator(data, timestep, window_size): \n",
        "#呼叫這個function時會windows+1, 所以返回一個array內有10個0~1之間的float\n",
        "#因為漲跌幅被壓縮在0~1之間(sigmoid), 此模型會對漲跌幅大小較不敏感\n",
        "  \n",
        "  starting_id = timestep - window_size + 1 # timestep指data中的index(依時間排列)\n",
        "  \n",
        "  if starting_id >= 0:\n",
        "    windowed_data = data[starting_id:timestep+1]\n",
        "  else:\n",
        "    windowed_data = - starting_id * [data[0]] + list(data[0:timestep+1])\n",
        "    \n",
        "  state = []\n",
        "  for i in range(window_size - 1):\n",
        "    state.append(sigmoid(windowed_data[i+1] - windowed_data[i])) # 11-1 = 10個\n",
        "    \n",
        "  return np.array([state])"
      ],
      "execution_count": null,
      "outputs": []
    },
    {
      "cell_type": "code",
      "metadata": {
        "id": "WbeetIPQG6L1",
        "outputId": "169be17a-dce7-4edf-83e1-539ddaf9b7af",
        "colab": {
          "base_uri": "https://localhost:8080/",
          "height": 34
        }
      },
      "source": [
        "stock_name = \"TSM\"\n",
        "data = dataset_loader(stock_name)\n",
        "#df = data_reader.DataReader(stock_name, data_source=\"yahoo\")"
      ],
      "execution_count": null,
      "outputs": [
        {
          "output_type": "stream",
          "text": [
            "dataset loaded with start date 2015-10-19, end date 2020-10-14\n"
          ],
          "name": "stdout"
        }
      ]
    },
    {
      "cell_type": "code",
      "metadata": {
        "id": "NCPRASfano5-",
        "outputId": "266587dd-6d65-4106-aabf-7e0892fc9373",
        "colab": {
          "base_uri": "https://localhost:8080/",
          "height": 136
        }
      },
      "source": [
        "data.head()"
      ],
      "execution_count": null,
      "outputs": [
        {
          "output_type": "execute_result",
          "data": {
            "text/plain": [
              "Date\n",
              "2015-10-19    22.230000\n",
              "2015-10-20    22.309999\n",
              "2015-10-21    22.219999\n",
              "2015-10-22    22.510000\n",
              "2015-10-23    22.469999\n",
              "Name: Close, dtype: float64"
            ]
          },
          "metadata": {
            "tags": []
          },
          "execution_count": 9
        }
      ]
    },
    {
      "cell_type": "code",
      "metadata": {
        "id": "xlkfvAHUhtQw",
        "outputId": "ae25cfc4-6e00-4f32-d622-56ee21bfd395",
        "colab": {
          "base_uri": "https://localhost:8080/",
          "height": 34
        }
      },
      "source": [
        "len(data)"
      ],
      "execution_count": null,
      "outputs": [
        {
          "output_type": "execute_result",
          "data": {
            "text/plain": [
              "1257"
            ]
          },
          "metadata": {
            "tags": []
          },
          "execution_count": 10
        }
      ]
    },
    {
      "cell_type": "code",
      "metadata": {
        "id": "DxE7shp0HHBJ"
      },
      "source": [
        "window_size = 10 # 依照前10天資料做預測\n",
        "episodes = 1 # 因時間不足先跑1次\n",
        "\n",
        "batch_size = 32 # 每次DNN模型訓練使用最新32筆memory\n",
        "data_samples = len(data) - 1 # 可訓練資料數量（需要nextday-today)"
      ],
      "execution_count": null,
      "outputs": []
    },
    {
      "cell_type": "code",
      "metadata": {
        "id": "fwHxqKPAHKIr"
      },
      "source": [
        "trader = DQN_trader(window_size) # window_size用來設定DNN的輸入dimension"
      ],
      "execution_count": null,
      "outputs": []
    },
    {
      "cell_type": "code",
      "metadata": {
        "id": "4fGD3-h0TUqU",
        "outputId": "ce837701-14f2-48ff-e64c-0464cd87aedf",
        "colab": {
          "base_uri": "https://localhost:8080/",
          "height": 323
        }
      },
      "source": [
        "trader.model.summary() # 輸出3個linear數字（訓練時3個數字的y值為環境reward)"
      ],
      "execution_count": null,
      "outputs": [
        {
          "output_type": "stream",
          "text": [
            "Model: \"sequential\"\n",
            "_________________________________________________________________\n",
            "Layer (type)                 Output Shape              Param #   \n",
            "=================================================================\n",
            "dense (Dense)                (None, 16)                176       \n",
            "_________________________________________________________________\n",
            "dense_1 (Dense)              (None, 32)                544       \n",
            "_________________________________________________________________\n",
            "dense_2 (Dense)              (None, 64)                2112      \n",
            "_________________________________________________________________\n",
            "dense_3 (Dense)              (None, 128)               8320      \n",
            "_________________________________________________________________\n",
            "dense_4 (Dense)              (None, 3)                 387       \n",
            "=================================================================\n",
            "Total params: 11,539\n",
            "Trainable params: 11,539\n",
            "Non-trainable params: 0\n",
            "_________________________________________________________________\n"
          ],
          "name": "stdout"
        }
      ]
    },
    {
      "cell_type": "code",
      "metadata": {
        "id": "Jn4lW3n0TWo8",
        "outputId": "1551f522-c22a-4e2f-ad6d-5fda7c8e7530",
        "colab": {
          "base_uri": "https://localhost:8080/",
          "height": 1000
        }
      },
      "source": [
        "for episode in range(1, episodes + 1):\n",
        "  \n",
        "  print(\"Episode: {}/{}\".format(episode, episodes))\n",
        "  \n",
        "  #產出第一個state\n",
        "  state = state_creator(data, 0, window_size + 1)\n",
        "  \n",
        "  total_profit = 0\n",
        "  trader.inventory = []\n",
        "  \n",
        "  for t in tqdm(range(data_samples)): # 走完所有資料1257筆\n",
        "    \n",
        "    action = trader.trade(state) # 產出第一個action(可能是隨機, 也可能是模型預測)\n",
        "    \n",
        "    next_state = state_creator(data, t+1, window_size + 1) # 產出\b第二個state\n",
        "    \n",
        "    # 回饋初始值\n",
        "    reward = 0\n",
        "    \n",
        "    if action == 1: #Buying\n",
        "      trader.inventory.append(data[t]) # 在此記入買時價格\n",
        "      print(\"DQN Trader bought: \", stocks_price_format(data[t]))\n",
        "      \n",
        "    elif action == 2 and len(trader.inventory) > 0: #Selling\n",
        "      buy_price = trader.inventory.pop(0)\n",
        "      \n",
        "      reward = max(data[t] - buy_price, 0) # reward指環境回饋, 最小值為0 \n",
        "      total_profit += data[t] - buy_price # 這裡才反應實際賺賠金額\n",
        "      print(\"DQN Trader sold: \", stocks_price_format(data[t]), \" Profit: \" + stocks_price_format(data[t] - buy_price) )\n",
        "      \n",
        "    if t == data_samples - 1: # 跑到最後一筆資料了(因為需要t+1-t)\n",
        "      done = True\n",
        "    else:\n",
        "      done = False\n",
        "      \n",
        "    trader.memory.append((state, action, reward, next_state, done))\n",
        "    \n",
        "    state = next_state # 為下個iteration做準備\n",
        "    \n",
        "    if done:\n",
        "      print(\"########################\")\n",
        "      print(\"TOTAL PROFIT: {}\".format(total_profit))\n",
        "      print(\"########################\")\n",
        "    \n",
        "    if len(trader.memory) > batch_size: # 用今天跟前面31天的memory訓練DNN\n",
        "      trader.batch_train(batch_size)\n",
        "      \n",
        "  if episode % 10 == 0: #每10次episode存下DNN模型\n",
        "    trader.model.save(\"/content/gdrive/My Drive/ai_trader_{}.h5\".format(episode))\n",
        "    "
      ],
      "execution_count": null,
      "outputs": [
        {
          "output_type": "stream",
          "text": [
            "\n",
            "  0%|          | 0/1256 [00:00<?, ?it/s]\u001b[A"
          ],
          "name": "stderr"
        },
        {
          "output_type": "stream",
          "text": [
            "Episode: 1/1\n",
            "DQN Trader bought:  $ 22.230000\n"
          ],
          "name": "stdout"
        },
        {
          "output_type": "stream",
          "text": [
            "\n",
            "  0%|          | 1/1256 [00:02<57:24,  2.74s/it]\u001b[A"
          ],
          "name": "stderr"
        },
        {
          "output_type": "stream",
          "text": [
            "DQN Trader bought:  $ 22.309999\n"
          ],
          "name": "stdout"
        },
        {
          "output_type": "stream",
          "text": [
            "\n",
            "  0%|          | 2/1256 [00:05<56:52,  2.72s/it]\u001b[A"
          ],
          "name": "stderr"
        },
        {
          "output_type": "stream",
          "text": [
            "DQN Trader bought:  $ 22.219999\n"
          ],
          "name": "stdout"
        },
        {
          "output_type": "stream",
          "text": [
            "\n",
            "  0%|          | 3/1256 [00:08<56:47,  2.72s/it]\u001b[A"
          ],
          "name": "stderr"
        },
        {
          "output_type": "stream",
          "text": [
            "DQN Trader bought:  $ 22.510000\n"
          ],
          "name": "stdout"
        },
        {
          "output_type": "stream",
          "text": [
            "\n",
            "  0%|          | 4/1256 [00:10<56:15,  2.70s/it]\u001b[A"
          ],
          "name": "stderr"
        },
        {
          "output_type": "stream",
          "text": [
            "DQN Trader bought:  $ 22.469999\n"
          ],
          "name": "stdout"
        },
        {
          "output_type": "stream",
          "text": [
            "\n",
            "  0%|          | 5/1256 [00:13<56:02,  2.69s/it]\u001b[A"
          ],
          "name": "stderr"
        },
        {
          "output_type": "stream",
          "text": [
            "DQN Trader bought:  $ 22.160000\n"
          ],
          "name": "stdout"
        },
        {
          "output_type": "stream",
          "text": [
            "\n",
            "  0%|          | 6/1256 [00:16<56:41,  2.72s/it]\u001b[A"
          ],
          "name": "stderr"
        },
        {
          "output_type": "stream",
          "text": [
            "DQN Trader bought:  $ 22.200001\n"
          ],
          "name": "stdout"
        },
        {
          "output_type": "stream",
          "text": [
            "\n",
            "  1%|          | 7/1256 [00:18<56:10,  2.70s/it]\u001b[A"
          ],
          "name": "stderr"
        },
        {
          "output_type": "stream",
          "text": [
            "DQN Trader bought:  $ 22.080000\n"
          ],
          "name": "stdout"
        },
        {
          "output_type": "stream",
          "text": [
            "\n",
            "  1%|          | 8/1256 [00:21<55:59,  2.69s/it]\u001b[A"
          ],
          "name": "stderr"
        },
        {
          "output_type": "stream",
          "text": [
            "DQN Trader bought:  $ 21.820000\n"
          ],
          "name": "stdout"
        },
        {
          "output_type": "stream",
          "text": [
            "\n",
            "  1%|          | 9/1256 [00:24<55:44,  2.68s/it]\u001b[A"
          ],
          "name": "stderr"
        },
        {
          "output_type": "stream",
          "text": [
            "DQN Trader bought:  $ 21.959999\n"
          ],
          "name": "stdout"
        },
        {
          "output_type": "stream",
          "text": [
            "\n",
            "  1%|          | 10/1256 [00:26<55:23,  2.67s/it]\u001b[A"
          ],
          "name": "stderr"
        },
        {
          "output_type": "stream",
          "text": [
            "DQN Trader bought:  $ 22.100000\n"
          ],
          "name": "stdout"
        },
        {
          "output_type": "stream",
          "text": [
            "\n",
            "  1%|          | 11/1256 [00:29<55:15,  2.66s/it]\u001b[A"
          ],
          "name": "stderr"
        },
        {
          "output_type": "stream",
          "text": [
            "DQN Trader bought:  $ 22.770000\n"
          ],
          "name": "stdout"
        },
        {
          "output_type": "stream",
          "text": [
            "\n",
            "  1%|          | 12/1256 [00:32<55:46,  2.69s/it]\u001b[A"
          ],
          "name": "stderr"
        },
        {
          "output_type": "stream",
          "text": [
            "DQN Trader bought:  $ 23.549999\n"
          ],
          "name": "stdout"
        },
        {
          "output_type": "stream",
          "text": [
            "\n",
            "  1%|          | 13/1256 [00:34<55:45,  2.69s/it]\u001b[A"
          ],
          "name": "stderr"
        },
        {
          "output_type": "stream",
          "text": [
            "DQN Trader bought:  $ 22.980000\n"
          ],
          "name": "stdout"
        },
        {
          "output_type": "stream",
          "text": [
            "\n",
            "  1%|          | 14/1256 [00:37<55:30,  2.68s/it]\u001b[A"
          ],
          "name": "stderr"
        },
        {
          "output_type": "stream",
          "text": [
            "DQN Trader bought:  $ 22.820000\n"
          ],
          "name": "stdout"
        },
        {
          "output_type": "stream",
          "text": [
            "\n",
            "  1%|          | 15/1256 [00:40<55:23,  2.68s/it]\u001b[A"
          ],
          "name": "stderr"
        },
        {
          "output_type": "stream",
          "text": [
            "DQN Trader bought:  $ 22.959999\n"
          ],
          "name": "stdout"
        },
        {
          "output_type": "stream",
          "text": [
            "\n",
            "  1%|▏         | 16/1256 [00:42<55:16,  2.67s/it]\u001b[A"
          ],
          "name": "stderr"
        },
        {
          "output_type": "stream",
          "text": [
            "DQN Trader bought:  $ 22.510000\n"
          ],
          "name": "stdout"
        },
        {
          "output_type": "stream",
          "text": [
            "\n",
            "  1%|▏         | 17/1256 [00:45<56:12,  2.72s/it]\u001b[A"
          ],
          "name": "stderr"
        },
        {
          "output_type": "stream",
          "text": [
            "DQN Trader bought:  $ 22.580000\n"
          ],
          "name": "stdout"
        },
        {
          "output_type": "stream",
          "text": [
            "\n",
            "  1%|▏         | 18/1256 [00:48<56:10,  2.72s/it]\u001b[A"
          ],
          "name": "stderr"
        },
        {
          "output_type": "stream",
          "text": [
            "DQN Trader bought:  $ 22.240000\n"
          ],
          "name": "stdout"
        },
        {
          "output_type": "stream",
          "text": [
            "\n",
            "  2%|▏         | 19/1256 [00:51<56:25,  2.74s/it]\u001b[A"
          ],
          "name": "stderr"
        },
        {
          "output_type": "stream",
          "text": [
            "DQN Trader bought:  $ 21.889999\n"
          ],
          "name": "stdout"
        },
        {
          "output_type": "stream",
          "text": [
            "\n",
            "  2%|▏         | 20/1256 [00:53<56:11,  2.73s/it]\u001b[A"
          ],
          "name": "stderr"
        },
        {
          "output_type": "stream",
          "text": [
            "DQN Trader bought:  $ 22.350000\n"
          ],
          "name": "stdout"
        },
        {
          "output_type": "stream",
          "text": [
            "\n",
            "  2%|▏         | 21/1256 [00:56<55:30,  2.70s/it]\u001b[A"
          ],
          "name": "stderr"
        },
        {
          "output_type": "stream",
          "text": [
            "DQN Trader bought:  $ 22.520000\n"
          ],
          "name": "stdout"
        },
        {
          "output_type": "stream",
          "text": [
            "\n",
            "  2%|▏         | 22/1256 [00:59<55:20,  2.69s/it]\u001b[A"
          ],
          "name": "stderr"
        },
        {
          "output_type": "stream",
          "text": [
            "DQN Trader bought:  $ 22.520000\n"
          ],
          "name": "stdout"
        },
        {
          "output_type": "stream",
          "text": [
            "\n",
            "  2%|▏         | 23/1256 [01:02<56:13,  2.74s/it]\u001b[A"
          ],
          "name": "stderr"
        },
        {
          "output_type": "stream",
          "text": [
            "DQN Trader bought:  $ 22.670000\n"
          ],
          "name": "stdout"
        },
        {
          "output_type": "stream",
          "text": [
            "\n",
            "  2%|▏         | 24/1256 [01:04<56:04,  2.73s/it]\u001b[A"
          ],
          "name": "stderr"
        },
        {
          "output_type": "stream",
          "text": [
            "DQN Trader bought:  $ 22.830000\n"
          ],
          "name": "stdout"
        },
        {
          "output_type": "stream",
          "text": [
            "\n",
            "  2%|▏         | 25/1256 [01:07<56:01,  2.73s/it]\u001b[A"
          ],
          "name": "stderr"
        },
        {
          "output_type": "stream",
          "text": [
            "DQN Trader bought:  $ 22.570000\n"
          ],
          "name": "stdout"
        },
        {
          "output_type": "stream",
          "text": [
            "\n",
            "  2%|▏         | 26/1256 [01:10<55:43,  2.72s/it]\u001b[A"
          ],
          "name": "stderr"
        },
        {
          "output_type": "stream",
          "text": [
            "DQN Trader bought:  $ 22.500000\n"
          ],
          "name": "stdout"
        },
        {
          "output_type": "stream",
          "text": [
            "\n",
            "  2%|▏         | 27/1256 [01:12<55:19,  2.70s/it]\u001b[A"
          ],
          "name": "stderr"
        },
        {
          "output_type": "stream",
          "text": [
            "DQN Trader bought:  $ 22.559999\n"
          ],
          "name": "stdout"
        },
        {
          "output_type": "stream",
          "text": [
            "\n",
            "  2%|▏         | 28/1256 [01:15<55:07,  2.69s/it]\u001b[A"
          ],
          "name": "stderr"
        },
        {
          "output_type": "stream",
          "text": [
            "DQN Trader bought:  $ 22.450001\n"
          ],
          "name": "stdout"
        },
        {
          "output_type": "stream",
          "text": [
            "\n",
            "  2%|▏         | 29/1256 [01:18<56:14,  2.75s/it]\u001b[A"
          ],
          "name": "stderr"
        },
        {
          "output_type": "stream",
          "text": [
            "DQN Trader bought:  $ 22.760000\n"
          ],
          "name": "stdout"
        },
        {
          "output_type": "stream",
          "text": [
            "\n",
            "  2%|▏         | 30/1256 [01:21<55:41,  2.73s/it]\u001b[A"
          ],
          "name": "stderr"
        },
        {
          "output_type": "stream",
          "text": [
            "DQN Trader bought:  $ 23.280001\n"
          ],
          "name": "stdout"
        },
        {
          "output_type": "stream",
          "text": [
            "\n",
            "  2%|▏         | 31/1256 [01:23<55:21,  2.71s/it]\u001b[A"
          ],
          "name": "stderr"
        },
        {
          "output_type": "stream",
          "text": [
            "DQN Trader bought:  $ 23.190001\n"
          ],
          "name": "stdout"
        },
        {
          "output_type": "stream",
          "text": [
            "\n",
            "  3%|▎         | 32/1256 [01:26<55:04,  2.70s/it]\u001b[A"
          ],
          "name": "stderr"
        },
        {
          "output_type": "stream",
          "text": [
            "DQN Trader bought:  $ 22.930000\n"
          ],
          "name": "stdout"
        },
        {
          "output_type": "stream",
          "text": [
            "\n",
            "  3%|▎         | 33/1256 [01:29<54:34,  2.68s/it]\u001b[A"
          ],
          "name": "stderr"
        },
        {
          "output_type": "stream",
          "text": [
            "DQN Trader bought:  $ 23.309999\n"
          ],
          "name": "stdout"
        },
        {
          "output_type": "stream",
          "text": [
            "\n",
            "  3%|▎         | 34/1256 [01:31<54:21,  2.67s/it]\u001b[A"
          ],
          "name": "stderr"
        },
        {
          "output_type": "stream",
          "text": [
            "DQN Trader bought:  $ 23.240000\n"
          ],
          "name": "stdout"
        },
        {
          "output_type": "stream",
          "text": [
            "\n",
            "  3%|▎         | 35/1256 [01:34<55:03,  2.71s/it]\u001b[A"
          ],
          "name": "stderr"
        },
        {
          "output_type": "stream",
          "text": [
            "DQN Trader bought:  $ 23.080000\n"
          ],
          "name": "stdout"
        },
        {
          "output_type": "stream",
          "text": [
            "\n",
            "  3%|▎         | 36/1256 [01:37<55:13,  2.72s/it]\u001b[A"
          ],
          "name": "stderr"
        },
        {
          "output_type": "stream",
          "text": [
            "DQN Trader bought:  $ 22.730000\n"
          ],
          "name": "stdout"
        },
        {
          "output_type": "stream",
          "text": [
            "\n",
            "  3%|▎         | 37/1256 [01:39<55:00,  2.71s/it]\u001b[A"
          ],
          "name": "stderr"
        },
        {
          "output_type": "stream",
          "text": [
            "DQN Trader bought:  $ 22.650000\n"
          ],
          "name": "stdout"
        },
        {
          "output_type": "stream",
          "text": [
            "\n",
            "  3%|▎         | 38/1256 [01:42<54:53,  2.70s/it]\u001b[A"
          ],
          "name": "stderr"
        },
        {
          "output_type": "stream",
          "text": [
            "DQN Trader bought:  $ 22.180000\n"
          ],
          "name": "stdout"
        },
        {
          "output_type": "stream",
          "text": [
            "\n",
            "  3%|▎         | 39/1256 [01:45<54:48,  2.70s/it]\u001b[A"
          ],
          "name": "stderr"
        },
        {
          "output_type": "stream",
          "text": [
            "DQN Trader sold:  $ 22.219999  Profit: - $ 0.010000\n"
          ],
          "name": "stdout"
        },
        {
          "output_type": "stream",
          "text": [
            "\n",
            "  3%|▎         | 40/1256 [01:48<54:25,  2.69s/it]\u001b[A"
          ],
          "name": "stderr"
        },
        {
          "output_type": "stream",
          "text": [
            "DQN Trader bought:  $ 22.820000\n"
          ],
          "name": "stdout"
        },
        {
          "output_type": "stream",
          "text": [
            "\n",
            "  3%|▎         | 41/1256 [01:50<55:27,  2.74s/it]\u001b[A"
          ],
          "name": "stderr"
        },
        {
          "output_type": "stream",
          "text": [
            "DQN Trader bought:  $ 23.160000\n"
          ],
          "name": "stdout"
        },
        {
          "output_type": "stream",
          "text": [
            "\n",
            "  3%|▎         | 42/1256 [01:53<55:32,  2.75s/it]\u001b[A"
          ],
          "name": "stderr"
        },
        {
          "output_type": "stream",
          "text": [
            "DQN Trader bought:  $ 22.959999\n"
          ],
          "name": "stdout"
        },
        {
          "output_type": "stream",
          "text": [
            "\n",
            "  3%|▎         | 43/1256 [01:56<55:15,  2.73s/it]\u001b[A"
          ],
          "name": "stderr"
        },
        {
          "output_type": "stream",
          "text": [
            "DQN Trader bought:  $ 22.930000\n"
          ],
          "name": "stdout"
        },
        {
          "output_type": "stream",
          "text": [
            "\n",
            "  4%|▎         | 44/1256 [01:59<54:48,  2.71s/it]\u001b[A"
          ],
          "name": "stderr"
        },
        {
          "output_type": "stream",
          "text": [
            "DQN Trader bought:  $ 22.950001\n"
          ],
          "name": "stdout"
        },
        {
          "output_type": "stream",
          "text": [
            "\n",
            "  4%|▎         | 45/1256 [02:01<54:45,  2.71s/it]\u001b[A"
          ],
          "name": "stderr"
        },
        {
          "output_type": "stream",
          "text": [
            "DQN Trader bought:  $ 23.059999\n"
          ],
          "name": "stdout"
        },
        {
          "output_type": "stream",
          "text": [
            "\n",
            "  4%|▎         | 46/1256 [02:04<55:56,  2.77s/it]\u001b[A"
          ],
          "name": "stderr"
        },
        {
          "output_type": "stream",
          "text": [
            "DQN Trader bought:  $ 23.080000\n"
          ],
          "name": "stdout"
        },
        {
          "output_type": "stream",
          "text": [
            "\n",
            "  4%|▎         | 47/1256 [02:07<56:02,  2.78s/it]\u001b[A"
          ],
          "name": "stderr"
        },
        {
          "output_type": "stream",
          "text": [
            "DQN Trader bought:  $ 23.150000\n"
          ],
          "name": "stdout"
        },
        {
          "output_type": "stream",
          "text": [
            "\n",
            "  4%|▍         | 48/1256 [02:10<55:42,  2.77s/it]\u001b[A"
          ],
          "name": "stderr"
        },
        {
          "output_type": "stream",
          "text": [
            "DQN Trader bought:  $ 23.010000\n"
          ],
          "name": "stdout"
        },
        {
          "output_type": "stream",
          "text": [
            "\n",
            "  4%|▍         | 49/1256 [02:12<55:42,  2.77s/it]\u001b[A"
          ],
          "name": "stderr"
        },
        {
          "output_type": "stream",
          "text": [
            "DQN Trader bought:  $ 23.080000\n"
          ],
          "name": "stdout"
        },
        {
          "output_type": "stream",
          "text": [
            "\n",
            "  4%|▍         | 50/1256 [02:15<55:10,  2.74s/it]\u001b[A"
          ],
          "name": "stderr"
        },
        {
          "output_type": "stream",
          "text": [
            "DQN Trader bought:  $ 22.879999\n"
          ],
          "name": "stdout"
        },
        {
          "output_type": "stream",
          "text": [
            "\n",
            "  4%|▍         | 51/1256 [02:18<54:38,  2.72s/it]\u001b[A"
          ],
          "name": "stderr"
        },
        {
          "output_type": "stream",
          "text": [
            "DQN Trader bought:  $ 22.750000\n"
          ],
          "name": "stdout"
        },
        {
          "output_type": "stream",
          "text": [
            "\n",
            "  4%|▍         | 52/1256 [02:21<55:21,  2.76s/it]\u001b[A"
          ],
          "name": "stderr"
        },
        {
          "output_type": "stream",
          "text": [
            "DQN Trader bought:  $ 22.090000\n"
          ],
          "name": "stdout"
        },
        {
          "output_type": "stream",
          "text": [
            "\n",
            "  4%|▍         | 53/1256 [02:23<55:10,  2.75s/it]\u001b[A"
          ],
          "name": "stderr"
        },
        {
          "output_type": "stream",
          "text": [
            "DQN Trader sold:  $ 21.950001  Profit: - $ 0.359999\n"
          ],
          "name": "stdout"
        },
        {
          "output_type": "stream",
          "text": [
            "\n",
            "  4%|▍         | 54/1256 [02:26<54:58,  2.74s/it]\u001b[A"
          ],
          "name": "stderr"
        },
        {
          "output_type": "stream",
          "text": [
            "DQN Trader sold:  $ 21.340000  Profit: - $ 0.879999\n"
          ],
          "name": "stdout"
        },
        {
          "output_type": "stream",
          "text": [
            "\n",
            "  4%|▍         | 55/1256 [02:29<54:53,  2.74s/it]\u001b[A"
          ],
          "name": "stderr"
        },
        {
          "output_type": "stream",
          "text": [
            "DQN Trader sold:  $ 21.100000  Profit: - $ 1.410000\n"
          ],
          "name": "stdout"
        },
        {
          "output_type": "stream",
          "text": [
            "\n",
            "  4%|▍         | 56/1256 [02:32<54:34,  2.73s/it]\u001b[A"
          ],
          "name": "stderr"
        },
        {
          "output_type": "stream",
          "text": [
            "DQN Trader sold:  $ 20.809999  Profit: - $ 1.660000\n"
          ],
          "name": "stdout"
        },
        {
          "output_type": "stream",
          "text": [
            "\n",
            "  5%|▍         | 57/1256 [02:34<54:08,  2.71s/it]\u001b[A"
          ],
          "name": "stderr"
        },
        {
          "output_type": "stream",
          "text": [
            "DQN Trader sold:  $ 20.930000  Profit: - $ 1.230000\n"
          ],
          "name": "stdout"
        },
        {
          "output_type": "stream",
          "text": [
            "\n",
            "  5%|▍         | 58/1256 [02:37<54:49,  2.75s/it]\u001b[A"
          ],
          "name": "stderr"
        },
        {
          "output_type": "stream",
          "text": [
            "DQN Trader bought:  $ 20.750000\n"
          ],
          "name": "stdout"
        },
        {
          "output_type": "stream",
          "text": [
            "\n",
            "  5%|▍         | 59/1256 [02:40<54:30,  2.73s/it]\u001b[A"
          ],
          "name": "stderr"
        },
        {
          "output_type": "stream",
          "text": [
            "DQN Trader sold:  $ 20.480000  Profit: - $ 1.720001\n"
          ],
          "name": "stdout"
        },
        {
          "output_type": "stream",
          "text": [
            "\n",
            "  5%|▍         | 60/1256 [02:42<54:04,  2.71s/it]\u001b[A"
          ],
          "name": "stderr"
        },
        {
          "output_type": "stream",
          "text": [
            "DQN Trader sold:  $ 21.820000  Profit: - $ 0.260000\n"
          ],
          "name": "stdout"
        },
        {
          "output_type": "stream",
          "text": [
            "\n",
            "  5%|▍         | 61/1256 [02:45<53:44,  2.70s/it]\u001b[A"
          ],
          "name": "stderr"
        },
        {
          "output_type": "stream",
          "text": [
            "DQN Trader sold:  $ 21.100000  Profit: - $ 0.719999\n"
          ],
          "name": "stdout"
        },
        {
          "output_type": "stream",
          "text": [
            "\n",
            "  5%|▍         | 62/1256 [02:48<53:30,  2.69s/it]\u001b[A"
          ],
          "name": "stderr"
        },
        {
          "output_type": "stream",
          "text": [
            "DQN Trader bought:  $ 21.660000\n"
          ],
          "name": "stdout"
        },
        {
          "output_type": "stream",
          "text": [
            "\n",
            "  5%|▌         | 63/1256 [02:51<53:59,  2.72s/it]\u001b[A"
          ],
          "name": "stderr"
        },
        {
          "output_type": "stream",
          "text": [
            "DQN Trader sold:  $ 21.090000  Profit: - $ 0.869999\n"
          ],
          "name": "stdout"
        },
        {
          "output_type": "stream",
          "text": [
            "\n",
            "  5%|▌         | 64/1256 [02:53<53:55,  2.71s/it]\u001b[A"
          ],
          "name": "stderr"
        },
        {
          "output_type": "stream",
          "text": [
            "DQN Trader bought:  $ 21.330000\n"
          ],
          "name": "stdout"
        },
        {
          "output_type": "stream",
          "text": [
            "\n",
            "  5%|▌         | 65/1256 [02:56<53:32,  2.70s/it]\u001b[A"
          ],
          "name": "stderr"
        },
        {
          "output_type": "stream",
          "text": [
            "DQN Trader bought:  $ 21.930000\n"
          ],
          "name": "stdout"
        },
        {
          "output_type": "stream",
          "text": [
            "\n",
            "  5%|▌         | 66/1256 [02:59<53:08,  2.68s/it]\u001b[A"
          ],
          "name": "stderr"
        },
        {
          "output_type": "stream",
          "text": [
            "DQN Trader bought:  $ 21.790001\n"
          ],
          "name": "stdout"
        },
        {
          "output_type": "stream",
          "text": [
            "\n",
            "  5%|▌         | 67/1256 [03:01<52:54,  2.67s/it]\u001b[A"
          ],
          "name": "stderr"
        },
        {
          "output_type": "stream",
          "text": [
            "DQN Trader bought:  $ 21.590000\n"
          ],
          "name": "stdout"
        },
        {
          "output_type": "stream",
          "text": [
            "\n",
            "  5%|▌         | 68/1256 [03:04<52:33,  2.65s/it]\u001b[A"
          ],
          "name": "stderr"
        },
        {
          "output_type": "stream",
          "text": [
            "DQN Trader bought:  $ 21.680000\n"
          ],
          "name": "stdout"
        },
        {
          "output_type": "stream",
          "text": [
            "\n",
            "  5%|▌         | 69/1256 [03:07<53:28,  2.70s/it]\u001b[A"
          ],
          "name": "stderr"
        },
        {
          "output_type": "stream",
          "text": [
            "DQN Trader bought:  $ 21.629999\n"
          ],
          "name": "stdout"
        },
        {
          "output_type": "stream",
          "text": [
            "\n",
            "  6%|▌         | 70/1256 [03:09<53:08,  2.69s/it]\u001b[A"
          ],
          "name": "stderr"
        },
        {
          "output_type": "stream",
          "text": [
            "DQN Trader bought:  $ 22.350000\n"
          ],
          "name": "stdout"
        },
        {
          "output_type": "stream",
          "text": [
            "\n",
            "  6%|▌         | 71/1256 [03:12<52:49,  2.67s/it]\u001b[A"
          ],
          "name": "stderr"
        },
        {
          "output_type": "stream",
          "text": [
            "DQN Trader bought:  $ 22.459999\n"
          ],
          "name": "stdout"
        },
        {
          "output_type": "stream",
          "text": [
            "\n",
            "  6%|▌         | 72/1256 [03:15<52:35,  2.67s/it]\u001b[A"
          ],
          "name": "stderr"
        },
        {
          "output_type": "stream",
          "text": [
            "DQN Trader bought:  $ 22.559999\n"
          ],
          "name": "stdout"
        },
        {
          "output_type": "stream",
          "text": [
            "\n",
            "  6%|▌         | 73/1256 [03:17<52:26,  2.66s/it]\u001b[A"
          ],
          "name": "stderr"
        },
        {
          "output_type": "stream",
          "text": [
            "DQN Trader bought:  $ 22.920000\n"
          ],
          "name": "stdout"
        },
        {
          "output_type": "stream",
          "text": [
            "\n",
            "  6%|▌         | 74/1256 [03:20<52:21,  2.66s/it]\u001b[A"
          ],
          "name": "stderr"
        },
        {
          "output_type": "stream",
          "text": [
            "DQN Trader bought:  $ 23.230000\n"
          ],
          "name": "stdout"
        },
        {
          "output_type": "stream",
          "text": [
            "\n",
            "  6%|▌         | 75/1256 [03:23<53:22,  2.71s/it]\u001b[A"
          ],
          "name": "stderr"
        },
        {
          "output_type": "stream",
          "text": [
            "DQN Trader bought:  $ 22.750000\n"
          ],
          "name": "stdout"
        },
        {
          "output_type": "stream",
          "text": [
            "\n",
            "  6%|▌         | 76/1256 [03:25<53:13,  2.71s/it]\u001b[A"
          ],
          "name": "stderr"
        },
        {
          "output_type": "stream",
          "text": [
            "DQN Trader bought:  $ 22.799999\n"
          ],
          "name": "stdout"
        },
        {
          "output_type": "stream",
          "text": [
            "\n",
            "  6%|▌         | 77/1256 [03:28<52:57,  2.69s/it]\u001b[A"
          ],
          "name": "stderr"
        },
        {
          "output_type": "stream",
          "text": [
            "DQN Trader bought:  $ 22.559999\n"
          ],
          "name": "stdout"
        },
        {
          "output_type": "stream",
          "text": [
            "\n",
            "  6%|▌         | 78/1256 [03:31<52:45,  2.69s/it]\u001b[A"
          ],
          "name": "stderr"
        },
        {
          "output_type": "stream",
          "text": [
            "DQN Trader bought:  $ 22.299999\n"
          ],
          "name": "stdout"
        },
        {
          "output_type": "stream",
          "text": [
            "\n",
            "  6%|▋         | 79/1256 [03:33<52:40,  2.68s/it]\u001b[A"
          ],
          "name": "stderr"
        },
        {
          "output_type": "stream",
          "text": [
            "DQN Trader bought:  $ 22.000000\n"
          ],
          "name": "stdout"
        },
        {
          "output_type": "stream",
          "text": [
            "\n",
            "  6%|▋         | 80/1256 [03:36<52:42,  2.69s/it]\u001b[A"
          ],
          "name": "stderr"
        },
        {
          "output_type": "stream",
          "text": [
            "DQN Trader bought:  $ 22.240000\n"
          ],
          "name": "stdout"
        },
        {
          "output_type": "stream",
          "text": [
            "\n",
            "  6%|▋         | 81/1256 [03:39<53:22,  2.73s/it]\u001b[A"
          ],
          "name": "stderr"
        },
        {
          "output_type": "stream",
          "text": [
            "DQN Trader bought:  $ 23.340000\n"
          ],
          "name": "stdout"
        },
        {
          "output_type": "stream",
          "text": [
            "\n",
            "  7%|▋         | 82/1256 [03:42<53:19,  2.73s/it]\u001b[A"
          ],
          "name": "stderr"
        },
        {
          "output_type": "stream",
          "text": [
            "DQN Trader bought:  $ 23.639999\n"
          ],
          "name": "stdout"
        },
        {
          "output_type": "stream",
          "text": [
            "\n",
            "  7%|▋         | 83/1256 [03:44<53:18,  2.73s/it]\u001b[A"
          ],
          "name": "stderr"
        },
        {
          "output_type": "stream",
          "text": [
            "DQN Trader bought:  $ 23.799999\n"
          ],
          "name": "stdout"
        },
        {
          "output_type": "stream",
          "text": [
            "\n",
            "  7%|▋         | 84/1256 [03:47<53:09,  2.72s/it]\u001b[A"
          ],
          "name": "stderr"
        },
        {
          "output_type": "stream",
          "text": [
            "DQN Trader bought:  $ 23.780001\n"
          ],
          "name": "stdout"
        },
        {
          "output_type": "stream",
          "text": [
            "\n",
            "  7%|▋         | 85/1256 [03:50<52:58,  2.71s/it]\u001b[A"
          ],
          "name": "stderr"
        },
        {
          "output_type": "stream",
          "text": [
            "DQN Trader bought:  $ 23.959999\n"
          ],
          "name": "stdout"
        },
        {
          "output_type": "stream",
          "text": [
            "\n",
            "  7%|▋         | 86/1256 [03:52<52:47,  2.71s/it]\u001b[A"
          ],
          "name": "stderr"
        },
        {
          "output_type": "stream",
          "text": [
            "DQN Trader bought:  $ 23.400000\n"
          ],
          "name": "stdout"
        },
        {
          "output_type": "stream",
          "text": [
            "\n",
            "  7%|▋         | 87/1256 [03:55<53:38,  2.75s/it]\u001b[A"
          ],
          "name": "stderr"
        },
        {
          "output_type": "stream",
          "text": [
            "DQN Trader bought:  $ 23.420000\n"
          ],
          "name": "stdout"
        },
        {
          "output_type": "stream",
          "text": [
            "\n",
            "  7%|▋         | 88/1256 [03:58<53:10,  2.73s/it]\u001b[A"
          ],
          "name": "stderr"
        },
        {
          "output_type": "stream",
          "text": [
            "DQN Trader bought:  $ 23.690001\n"
          ],
          "name": "stdout"
        },
        {
          "output_type": "stream",
          "text": [
            "\n",
            "  7%|▋         | 89/1256 [04:01<52:50,  2.72s/it]\u001b[A"
          ],
          "name": "stderr"
        },
        {
          "output_type": "stream",
          "text": [
            "DQN Trader bought:  $ 23.770000\n"
          ],
          "name": "stdout"
        },
        {
          "output_type": "stream",
          "text": [
            "\n",
            "  7%|▋         | 90/1256 [04:03<52:34,  2.71s/it]\u001b[A"
          ],
          "name": "stderr"
        },
        {
          "output_type": "stream",
          "text": [
            "DQN Trader bought:  $ 23.549999\n"
          ],
          "name": "stdout"
        },
        {
          "output_type": "stream",
          "text": [
            "\n",
            "  7%|▋         | 91/1256 [04:06<52:27,  2.70s/it]\u001b[A"
          ],
          "name": "stderr"
        },
        {
          "output_type": "stream",
          "text": [
            "DQN Trader bought:  $ 24.580000\n"
          ],
          "name": "stdout"
        },
        {
          "output_type": "stream",
          "text": [
            "\n",
            "  7%|▋         | 92/1256 [04:09<52:55,  2.73s/it]\u001b[A"
          ],
          "name": "stderr"
        },
        {
          "output_type": "stream",
          "text": [
            "DQN Trader bought:  $ 24.620001\n"
          ],
          "name": "stdout"
        },
        {
          "output_type": "stream",
          "text": [
            "\n",
            "  7%|▋         | 93/1256 [04:12<52:30,  2.71s/it]\u001b[A"
          ],
          "name": "stderr"
        },
        {
          "output_type": "stream",
          "text": [
            "DQN Trader bought:  $ 24.559999\n"
          ],
          "name": "stdout"
        },
        {
          "output_type": "stream",
          "text": [
            "\n",
            "  7%|▋         | 94/1256 [04:14<52:10,  2.69s/it]\u001b[A"
          ],
          "name": "stderr"
        },
        {
          "output_type": "stream",
          "text": [
            "DQN Trader bought:  $ 24.650000\n"
          ],
          "name": "stdout"
        },
        {
          "output_type": "stream",
          "text": [
            "\n",
            "  8%|▊         | 95/1256 [04:17<51:59,  2.69s/it]\u001b[A"
          ],
          "name": "stderr"
        },
        {
          "output_type": "stream",
          "text": [
            "DQN Trader bought:  $ 24.700001\n"
          ],
          "name": "stdout"
        },
        {
          "output_type": "stream",
          "text": [
            "\n",
            "  8%|▊         | 96/1256 [04:20<51:48,  2.68s/it]\u001b[A"
          ],
          "name": "stderr"
        },
        {
          "output_type": "stream",
          "text": [
            "DQN Trader bought:  $ 24.650000\n"
          ],
          "name": "stdout"
        },
        {
          "output_type": "stream",
          "text": [
            "\n",
            "  8%|▊         | 97/1256 [04:22<51:39,  2.67s/it]\u001b[A"
          ],
          "name": "stderr"
        },
        {
          "output_type": "stream",
          "text": [
            "DQN Trader bought:  $ 24.740000\n"
          ],
          "name": "stdout"
        },
        {
          "output_type": "stream",
          "text": [
            "\n",
            "  8%|▊         | 98/1256 [04:25<52:22,  2.71s/it]\u001b[A"
          ],
          "name": "stderr"
        },
        {
          "output_type": "stream",
          "text": [
            "DQN Trader bought:  $ 24.740000\n"
          ],
          "name": "stdout"
        },
        {
          "output_type": "stream",
          "text": [
            "\n",
            "  8%|▊         | 99/1256 [04:28<52:14,  2.71s/it]\u001b[A"
          ],
          "name": "stderr"
        },
        {
          "output_type": "stream",
          "text": [
            "DQN Trader bought:  $ 25.350000\n"
          ],
          "name": "stdout"
        },
        {
          "output_type": "stream",
          "text": [
            "\n",
            "  8%|▊         | 100/1256 [04:30<51:59,  2.70s/it]\u001b[A"
          ],
          "name": "stderr"
        },
        {
          "output_type": "stream",
          "text": [
            "DQN Trader bought:  $ 25.219999\n"
          ],
          "name": "stdout"
        },
        {
          "output_type": "stream",
          "text": [
            "\n",
            "  8%|▊         | 101/1256 [04:33<51:44,  2.69s/it]\u001b[A"
          ],
          "name": "stderr"
        },
        {
          "output_type": "stream",
          "text": [
            "DQN Trader bought:  $ 24.879999\n"
          ],
          "name": "stdout"
        },
        {
          "output_type": "stream",
          "text": [
            "\n",
            "  8%|▊         | 102/1256 [04:36<51:29,  2.68s/it]\u001b[A"
          ],
          "name": "stderr"
        },
        {
          "output_type": "stream",
          "text": [
            "DQN Trader bought:  $ 25.780001\n"
          ],
          "name": "stdout"
        },
        {
          "output_type": "stream",
          "text": [
            "\n",
            "  8%|▊         | 103/1256 [04:38<51:23,  2.67s/it]\u001b[A"
          ],
          "name": "stderr"
        },
        {
          "output_type": "stream",
          "text": [
            "DQN Trader bought:  $ 25.770000\n"
          ],
          "name": "stdout"
        },
        {
          "output_type": "stream",
          "text": [
            "\n",
            "  8%|▊         | 104/1256 [04:41<52:03,  2.71s/it]\u001b[A"
          ],
          "name": "stderr"
        },
        {
          "output_type": "stream",
          "text": [
            "DQN Trader bought:  $ 26.040001\n"
          ],
          "name": "stdout"
        },
        {
          "output_type": "stream",
          "text": [
            "\n",
            "  8%|▊         | 105/1256 [04:44<51:38,  2.69s/it]\u001b[A"
          ],
          "name": "stderr"
        },
        {
          "output_type": "stream",
          "text": [
            "DQN Trader bought:  $ 25.930000\n"
          ],
          "name": "stdout"
        },
        {
          "output_type": "stream",
          "text": [
            "\n",
            "  8%|▊         | 106/1256 [04:46<51:24,  2.68s/it]\u001b[A"
          ],
          "name": "stderr"
        },
        {
          "output_type": "stream",
          "text": [
            "DQN Trader bought:  $ 25.809999\n"
          ],
          "name": "stdout"
        },
        {
          "output_type": "stream",
          "text": [
            "\n",
            "  9%|▊         | 107/1256 [04:49<51:07,  2.67s/it]\u001b[A"
          ],
          "name": "stderr"
        },
        {
          "output_type": "stream",
          "text": [
            "DQN Trader bought:  $ 25.680000\n"
          ],
          "name": "stdout"
        },
        {
          "output_type": "stream",
          "text": [
            "\n",
            "  9%|▊         | 108/1256 [04:52<51:03,  2.67s/it]\u001b[A"
          ],
          "name": "stderr"
        },
        {
          "output_type": "stream",
          "text": [
            "DQN Trader bought:  $ 25.730000\n"
          ],
          "name": "stdout"
        },
        {
          "output_type": "stream",
          "text": [
            "\n",
            "  9%|▊         | 109/1256 [04:54<51:02,  2.67s/it]\u001b[A"
          ],
          "name": "stderr"
        },
        {
          "output_type": "stream",
          "text": [
            "DQN Trader bought:  $ 25.629999\n"
          ],
          "name": "stdout"
        },
        {
          "output_type": "stream",
          "text": [
            "\n",
            "  9%|▉         | 110/1256 [04:57<51:48,  2.71s/it]\u001b[A"
          ],
          "name": "stderr"
        },
        {
          "output_type": "stream",
          "text": [
            "DQN Trader bought:  $ 25.969999\n"
          ],
          "name": "stdout"
        },
        {
          "output_type": "stream",
          "text": [
            "\n",
            "  9%|▉         | 111/1256 [05:00<51:34,  2.70s/it]\u001b[A"
          ],
          "name": "stderr"
        },
        {
          "output_type": "stream",
          "text": [
            "DQN Trader bought:  $ 26.459999\n"
          ],
          "name": "stdout"
        },
        {
          "output_type": "stream",
          "text": [
            "\n",
            "  9%|▉         | 112/1256 [05:03<51:26,  2.70s/it]\u001b[A"
          ],
          "name": "stderr"
        },
        {
          "output_type": "stream",
          "text": [
            "DQN Trader bought:  $ 26.200001\n"
          ],
          "name": "stdout"
        },
        {
          "output_type": "stream",
          "text": [
            "\n",
            "  9%|▉         | 113/1256 [05:05<51:17,  2.69s/it]\u001b[A"
          ],
          "name": "stderr"
        },
        {
          "output_type": "stream",
          "text": [
            "DQN Trader bought:  $ 26.120001\n"
          ],
          "name": "stdout"
        },
        {
          "output_type": "stream",
          "text": [
            "\n",
            "  9%|▉         | 114/1256 [05:08<51:16,  2.69s/it]\u001b[A"
          ],
          "name": "stderr"
        },
        {
          "output_type": "stream",
          "text": [
            "DQN Trader bought:  $ 25.850000\n"
          ],
          "name": "stdout"
        },
        {
          "output_type": "stream",
          "text": [
            "\n",
            "  9%|▉         | 115/1256 [05:11<51:29,  2.71s/it]\u001b[A"
          ],
          "name": "stderr"
        },
        {
          "output_type": "stream",
          "text": [
            "DQN Trader bought:  $ 25.510000\n"
          ],
          "name": "stdout"
        },
        {
          "output_type": "stream",
          "text": [
            "\n",
            "  9%|▉         | 116/1256 [05:14<52:03,  2.74s/it]\u001b[A"
          ],
          "name": "stderr"
        },
        {
          "output_type": "stream",
          "text": [
            "DQN Trader sold:  $ 25.620001  Profit: $ 3.520000\n"
          ],
          "name": "stdout"
        },
        {
          "output_type": "stream",
          "text": [
            "\n",
            "  9%|▉         | 117/1256 [05:16<51:29,  2.71s/it]\u001b[A"
          ],
          "name": "stderr"
        },
        {
          "output_type": "stream",
          "text": [
            "DQN Trader sold:  $ 25.370001  Profit: $ 2.600000\n"
          ],
          "name": "stdout"
        },
        {
          "output_type": "stream",
          "text": [
            "\n",
            "  9%|▉         | 118/1256 [05:19<51:14,  2.70s/it]\u001b[A"
          ],
          "name": "stderr"
        },
        {
          "output_type": "stream",
          "text": [
            "DQN Trader sold:  $ 25.280001  Profit: $ 1.730001\n"
          ],
          "name": "stdout"
        },
        {
          "output_type": "stream",
          "text": [
            "\n",
            "  9%|▉         | 119/1256 [05:22<50:54,  2.69s/it]\u001b[A"
          ],
          "name": "stderr"
        },
        {
          "output_type": "stream",
          "text": [
            "DQN Trader sold:  $ 25.510000  Profit: $ 2.530001\n"
          ],
          "name": "stdout"
        },
        {
          "output_type": "stream",
          "text": [
            "\n",
            " 10%|▉         | 120/1256 [05:24<50:38,  2.67s/it]\u001b[A"
          ],
          "name": "stderr"
        },
        {
          "output_type": "stream",
          "text": [
            "DQN Trader sold:  $ 25.570000  Profit: $ 2.750000\n"
          ],
          "name": "stdout"
        },
        {
          "output_type": "stream",
          "text": [
            "\n",
            " 10%|▉         | 121/1256 [05:27<50:19,  2.66s/it]\u001b[A"
          ],
          "name": "stderr"
        },
        {
          "output_type": "stream",
          "text": [
            "DQN Trader sold:  $ 26.170000  Profit: $ 3.210001\n"
          ],
          "name": "stdout"
        },
        {
          "output_type": "stream",
          "text": [
            "\n",
            " 10%|▉         | 122/1256 [05:30<51:07,  2.71s/it]\u001b[A"
          ],
          "name": "stderr"
        },
        {
          "output_type": "stream",
          "text": [
            "DQN Trader sold:  $ 25.299999  Profit: $ 2.789999\n"
          ],
          "name": "stdout"
        },
        {
          "output_type": "stream",
          "text": [
            "\n",
            " 10%|▉         | 123/1256 [05:32<50:46,  2.69s/it]\u001b[A"
          ],
          "name": "stderr"
        },
        {
          "output_type": "stream",
          "text": [
            "DQN Trader sold:  $ 25.459999  Profit: $ 2.879999\n"
          ],
          "name": "stdout"
        },
        {
          "output_type": "stream",
          "text": [
            "\n",
            " 10%|▉         | 124/1256 [05:35<50:34,  2.68s/it]\u001b[A"
          ],
          "name": "stderr"
        },
        {
          "output_type": "stream",
          "text": [
            "DQN Trader sold:  $ 25.500000  Profit: $ 3.260000\n"
          ],
          "name": "stdout"
        },
        {
          "output_type": "stream",
          "text": [
            "\n",
            " 10%|▉         | 125/1256 [05:38<50:18,  2.67s/it]\u001b[A"
          ],
          "name": "stderr"
        },
        {
          "output_type": "stream",
          "text": [
            "DQN Trader sold:  $ 25.160000  Profit: $ 3.270000\n"
          ],
          "name": "stdout"
        },
        {
          "output_type": "stream",
          "text": [
            "\n",
            " 10%|█         | 126/1256 [05:40<50:09,  2.66s/it]\u001b[A"
          ],
          "name": "stderr"
        },
        {
          "output_type": "stream",
          "text": [
            "DQN Trader sold:  $ 25.120001  Profit: $ 2.770000\n"
          ],
          "name": "stdout"
        },
        {
          "output_type": "stream",
          "text": [
            "\n",
            " 10%|█         | 127/1256 [05:43<50:53,  2.70s/it]\u001b[A"
          ],
          "name": "stderr"
        },
        {
          "output_type": "stream",
          "text": [
            "DQN Trader sold:  $ 25.160000  Profit: $ 2.639999\n"
          ],
          "name": "stdout"
        },
        {
          "output_type": "stream",
          "text": [
            "\n",
            " 10%|█         | 128/1256 [05:46<50:39,  2.69s/it]\u001b[A"
          ],
          "name": "stderr"
        },
        {
          "output_type": "stream",
          "text": [
            "DQN Trader sold:  $ 25.070000  Profit: $ 2.549999\n"
          ],
          "name": "stdout"
        },
        {
          "output_type": "stream",
          "text": [
            "\n",
            " 10%|█         | 129/1256 [05:48<50:29,  2.69s/it]\u001b[A"
          ],
          "name": "stderr"
        },
        {
          "output_type": "stream",
          "text": [
            "DQN Trader sold:  $ 25.010000  Profit: $ 2.340000\n"
          ],
          "name": "stdout"
        },
        {
          "output_type": "stream",
          "text": [
            "\n",
            " 10%|█         | 130/1256 [05:51<50:18,  2.68s/it]\u001b[A"
          ],
          "name": "stderr"
        },
        {
          "output_type": "stream",
          "text": [
            "DQN Trader sold:  $ 25.010000  Profit: $ 2.180000\n"
          ],
          "name": "stdout"
        },
        {
          "output_type": "stream",
          "text": [
            "\n",
            " 10%|█         | 131/1256 [05:54<50:34,  2.70s/it]\u001b[A"
          ],
          "name": "stderr"
        },
        {
          "output_type": "stream",
          "text": [
            "DQN Trader sold:  $ 25.250000  Profit: $ 2.680000\n"
          ],
          "name": "stdout"
        },
        {
          "output_type": "stream",
          "text": [
            "\n",
            " 11%|█         | 132/1256 [05:56<50:41,  2.71s/it]\u001b[A"
          ],
          "name": "stderr"
        },
        {
          "output_type": "stream",
          "text": [
            "DQN Trader sold:  $ 24.160000  Profit: $ 1.660000\n"
          ],
          "name": "stdout"
        },
        {
          "output_type": "stream",
          "text": [
            "\n",
            " 11%|█         | 133/1256 [05:59<51:28,  2.75s/it]\u001b[A"
          ],
          "name": "stderr"
        },
        {
          "output_type": "stream",
          "text": [
            "DQN Trader sold:  $ 23.590000  Profit: $ 1.030001\n"
          ],
          "name": "stdout"
        },
        {
          "output_type": "stream",
          "text": [
            "\n",
            " 11%|█         | 134/1256 [06:02<51:09,  2.74s/it]\u001b[A"
          ],
          "name": "stderr"
        },
        {
          "output_type": "stream",
          "text": [
            "DQN Trader sold:  $ 23.690001  Profit: $ 1.240000\n"
          ],
          "name": "stdout"
        },
        {
          "output_type": "stream",
          "text": [
            "\n",
            " 11%|█         | 135/1256 [06:05<50:55,  2.73s/it]\u001b[A"
          ],
          "name": "stderr"
        },
        {
          "output_type": "stream",
          "text": [
            "DQN Trader sold:  $ 23.320000  Profit: $ 0.559999\n"
          ],
          "name": "stdout"
        },
        {
          "output_type": "stream",
          "text": [
            "\n",
            " 11%|█         | 136/1256 [06:07<50:53,  2.73s/it]\u001b[A"
          ],
          "name": "stderr"
        },
        {
          "output_type": "stream",
          "text": [
            "DQN Trader sold:  $ 23.420000  Profit: $ 0.139999\n"
          ],
          "name": "stdout"
        },
        {
          "output_type": "stream",
          "text": [
            "\n",
            " 11%|█         | 137/1256 [06:10<50:33,  2.71s/it]\u001b[A"
          ],
          "name": "stderr"
        },
        {
          "output_type": "stream",
          "text": [
            "DQN Trader bought:  $ 23.500000\n"
          ],
          "name": "stdout"
        },
        {
          "output_type": "stream",
          "text": [
            "\n",
            " 11%|█         | 138/1256 [06:13<50:23,  2.70s/it]\u001b[A"
          ],
          "name": "stderr"
        },
        {
          "output_type": "stream",
          "text": [
            "DQN Trader sold:  $ 23.410000  Profit: $ 0.219999\n"
          ],
          "name": "stdout"
        },
        {
          "output_type": "stream",
          "text": [
            "\n",
            " 11%|█         | 139/1256 [06:16<50:58,  2.74s/it]\u001b[A"
          ],
          "name": "stderr"
        },
        {
          "output_type": "stream",
          "text": [
            "DQN Trader bought:  $ 23.370001\n"
          ],
          "name": "stdout"
        },
        {
          "output_type": "stream",
          "text": [
            "\n",
            " 11%|█         | 140/1256 [06:18<50:33,  2.72s/it]\u001b[A"
          ],
          "name": "stderr"
        },
        {
          "output_type": "stream",
          "text": [
            "DQN Trader sold:  $ 23.389999  Profit: $ 0.459999\n"
          ],
          "name": "stdout"
        },
        {
          "output_type": "stream",
          "text": [
            "\n",
            " 11%|█         | 141/1256 [06:21<50:14,  2.70s/it]\u001b[A"
          ],
          "name": "stderr"
        },
        {
          "output_type": "stream",
          "text": [
            "DQN Trader sold:  $ 23.219999  Profit: - $ 0.090000\n"
          ],
          "name": "stdout"
        },
        {
          "output_type": "stream",
          "text": [
            "\n",
            " 11%|█▏        | 142/1256 [06:24<50:18,  2.71s/it]\u001b[A"
          ],
          "name": "stderr"
        },
        {
          "output_type": "stream",
          "text": [
            "DQN Trader sold:  $ 22.990000  Profit: - $ 0.250000\n"
          ],
          "name": "stdout"
        },
        {
          "output_type": "stream",
          "text": [
            "\n",
            " 11%|█▏        | 143/1256 [06:26<50:20,  2.71s/it]\u001b[A"
          ],
          "name": "stderr"
        },
        {
          "output_type": "stream",
          "text": [
            "DQN Trader sold:  $ 22.820000  Profit: - $ 0.260000\n"
          ],
          "name": "stdout"
        },
        {
          "output_type": "stream",
          "text": [
            "\n",
            " 11%|█▏        | 144/1256 [06:29<50:13,  2.71s/it]\u001b[A"
          ],
          "name": "stderr"
        },
        {
          "output_type": "stream",
          "text": [
            "DQN Trader sold:  $ 23.110001  Profit: $ 0.380001\n"
          ],
          "name": "stdout"
        },
        {
          "output_type": "stream",
          "text": [
            "\n",
            " 12%|█▏        | 145/1256 [06:32<51:04,  2.76s/it]\u001b[A"
          ],
          "name": "stderr"
        },
        {
          "output_type": "stream",
          "text": [
            "DQN Trader sold:  $ 22.950001  Profit: $ 0.300001\n"
          ],
          "name": "stdout"
        },
        {
          "output_type": "stream",
          "text": [
            "\n",
            " 12%|█▏        | 146/1256 [06:35<50:54,  2.75s/it]\u001b[A"
          ],
          "name": "stderr"
        },
        {
          "output_type": "stream",
          "text": [
            "DQN Trader sold:  $ 23.520000  Profit: $ 1.340000\n"
          ],
          "name": "stdout"
        },
        {
          "output_type": "stream",
          "text": [
            "\n",
            " 12%|█▏        | 147/1256 [06:37<50:31,  2.73s/it]\u001b[A"
          ],
          "name": "stderr"
        },
        {
          "output_type": "stream",
          "text": [
            "DQN Trader sold:  $ 23.250000  Profit: $ 0.430000\n"
          ],
          "name": "stdout"
        },
        {
          "output_type": "stream",
          "text": [
            "\n",
            " 12%|█▏        | 148/1256 [06:40<50:13,  2.72s/it]\u001b[A"
          ],
          "name": "stderr"
        },
        {
          "output_type": "stream",
          "text": [
            "DQN Trader sold:  $ 23.910000  Profit: $ 0.750000\n"
          ],
          "name": "stdout"
        },
        {
          "output_type": "stream",
          "text": [
            "\n",
            " 12%|█▏        | 149/1256 [06:43<49:47,  2.70s/it]\u001b[A"
          ],
          "name": "stderr"
        },
        {
          "output_type": "stream",
          "text": [
            "DQN Trader sold:  $ 24.270000  Profit: $ 1.310001\n"
          ],
          "name": "stdout"
        },
        {
          "output_type": "stream",
          "text": [
            "\n",
            " 12%|█▏        | 150/1256 [06:45<49:32,  2.69s/it]\u001b[A"
          ],
          "name": "stderr"
        },
        {
          "output_type": "stream",
          "text": [
            "DQN Trader sold:  $ 24.469999  Profit: $ 1.539999\n"
          ],
          "name": "stdout"
        },
        {
          "output_type": "stream",
          "text": [
            "\n",
            " 12%|█▏        | 151/1256 [06:48<50:07,  2.72s/it]\u001b[A"
          ],
          "name": "stderr"
        },
        {
          "output_type": "stream",
          "text": [
            "DQN Trader sold:  $ 24.620001  Profit: $ 1.670000\n"
          ],
          "name": "stdout"
        },
        {
          "output_type": "stream",
          "text": [
            "\n",
            " 12%|█▏        | 152/1256 [06:51<49:49,  2.71s/it]\u001b[A"
          ],
          "name": "stderr"
        },
        {
          "output_type": "stream",
          "text": [
            "DQN Trader sold:  $ 24.790001  Profit: $ 1.730001\n"
          ],
          "name": "stdout"
        },
        {
          "output_type": "stream",
          "text": [
            "\n",
            " 12%|█▏        | 153/1256 [06:54<49:24,  2.69s/it]\u001b[A"
          ],
          "name": "stderr"
        },
        {
          "output_type": "stream",
          "text": [
            "DQN Trader sold:  $ 24.799999  Profit: $ 1.719999\n"
          ],
          "name": "stdout"
        },
        {
          "output_type": "stream",
          "text": [
            "\n",
            " 12%|█▏        | 154/1256 [06:56<49:09,  2.68s/it]\u001b[A"
          ],
          "name": "stderr"
        },
        {
          "output_type": "stream",
          "text": [
            "DQN Trader sold:  $ 24.719999  Profit: $ 1.570000\n"
          ],
          "name": "stdout"
        },
        {
          "output_type": "stream",
          "text": [
            "\n",
            " 12%|█▏        | 155/1256 [06:59<48:59,  2.67s/it]\u001b[A"
          ],
          "name": "stderr"
        },
        {
          "output_type": "stream",
          "text": [
            "DQN Trader sold:  $ 25.250000  Profit: $ 2.240000\n"
          ],
          "name": "stdout"
        },
        {
          "output_type": "stream",
          "text": [
            "\n",
            " 12%|█▏        | 156/1256 [07:02<49:43,  2.71s/it]\u001b[A"
          ],
          "name": "stderr"
        },
        {
          "output_type": "stream",
          "text": [
            "DQN Trader sold:  $ 25.180000  Profit: $ 2.100000\n"
          ],
          "name": "stdout"
        },
        {
          "output_type": "stream",
          "text": [
            "\n",
            " 12%|█▎        | 157/1256 [07:04<49:35,  2.71s/it]\u001b[A"
          ],
          "name": "stderr"
        },
        {
          "output_type": "stream",
          "text": [
            "DQN Trader sold:  $ 25.530001  Profit: $ 2.650002\n"
          ],
          "name": "stdout"
        },
        {
          "output_type": "stream",
          "text": [
            "\n",
            " 13%|█▎        | 158/1256 [07:07<49:32,  2.71s/it]\u001b[A"
          ],
          "name": "stderr"
        },
        {
          "output_type": "stream",
          "text": [
            "DQN Trader sold:  $ 25.469999  Profit: $ 2.719999\n"
          ],
          "name": "stdout"
        },
        {
          "output_type": "stream",
          "text": [
            "\n",
            " 13%|█▎        | 159/1256 [07:10<49:11,  2.69s/it]\u001b[A"
          ],
          "name": "stderr"
        },
        {
          "output_type": "stream",
          "text": [
            "DQN Trader sold:  $ 26.059999  Profit: $ 3.969999\n"
          ],
          "name": "stdout"
        },
        {
          "output_type": "stream",
          "text": [
            "\n",
            " 13%|█▎        | 160/1256 [07:12<49:14,  2.70s/it]\u001b[A"
          ],
          "name": "stderr"
        },
        {
          "output_type": "stream",
          "text": [
            "DQN Trader sold:  $ 26.330000  Profit: $ 5.580000\n"
          ],
          "name": "stdout"
        },
        {
          "output_type": "stream",
          "text": [
            "\n",
            " 13%|█▎        | 161/1256 [07:15<49:19,  2.70s/it]\u001b[A"
          ],
          "name": "stderr"
        },
        {
          "output_type": "stream",
          "text": [
            "DQN Trader sold:  $ 26.230000  Profit: $ 4.570000\n"
          ],
          "name": "stdout"
        },
        {
          "output_type": "stream",
          "text": [
            "\n",
            " 13%|█▎        | 162/1256 [07:18<50:17,  2.76s/it]\u001b[A"
          ],
          "name": "stderr"
        },
        {
          "output_type": "stream",
          "text": [
            "DQN Trader sold:  $ 25.860001  Profit: $ 4.530001\n"
          ],
          "name": "stdout"
        },
        {
          "output_type": "stream",
          "text": [
            "\n",
            " 13%|█▎        | 163/1256 [07:21<50:14,  2.76s/it]\u001b[A"
          ],
          "name": "stderr"
        },
        {
          "output_type": "stream",
          "text": [
            "DQN Trader sold:  $ 25.629999  Profit: $ 3.699999\n"
          ],
          "name": "stdout"
        },
        {
          "output_type": "stream",
          "text": [
            "\n",
            " 13%|█▎        | 164/1256 [07:24<49:59,  2.75s/it]\u001b[A"
          ],
          "name": "stderr"
        },
        {
          "output_type": "stream",
          "text": [
            "DQN Trader sold:  $ 25.570000  Profit: $ 3.779999\n"
          ],
          "name": "stdout"
        },
        {
          "output_type": "stream",
          "text": [
            "\n",
            " 13%|█▎        | 165/1256 [07:26<49:15,  2.71s/it]\u001b[A"
          ],
          "name": "stderr"
        },
        {
          "output_type": "stream",
          "text": [
            "DQN Trader sold:  $ 25.840000  Profit: $ 4.250000\n"
          ],
          "name": "stdout"
        },
        {
          "output_type": "stream",
          "text": [
            "\n",
            " 13%|█▎        | 166/1256 [07:29<48:52,  2.69s/it]\u001b[A"
          ],
          "name": "stderr"
        },
        {
          "output_type": "stream",
          "text": [
            "DQN Trader sold:  $ 25.860001  Profit: $ 4.180000\n"
          ],
          "name": "stdout"
        },
        {
          "output_type": "stream",
          "text": [
            "\n",
            " 13%|█▎        | 167/1256 [07:31<48:36,  2.68s/it]\u001b[A"
          ],
          "name": "stderr"
        },
        {
          "output_type": "stream",
          "text": [
            "DQN Trader sold:  $ 25.850000  Profit: $ 4.220001\n"
          ],
          "name": "stdout"
        },
        {
          "output_type": "stream",
          "text": [
            "\n",
            " 13%|█▎        | 168/1256 [07:34<49:21,  2.72s/it]\u001b[A"
          ],
          "name": "stderr"
        },
        {
          "output_type": "stream",
          "text": [
            "DQN Trader sold:  $ 26.370001  Profit: $ 4.020000\n"
          ],
          "name": "stdout"
        },
        {
          "output_type": "stream",
          "text": [
            "\n",
            " 13%|█▎        | 169/1256 [07:37<49:05,  2.71s/it]\u001b[A"
          ],
          "name": "stderr"
        },
        {
          "output_type": "stream",
          "text": [
            "DQN Trader sold:  $ 26.590000  Profit: $ 4.130001\n"
          ],
          "name": "stdout"
        },
        {
          "output_type": "stream",
          "text": [
            "\n",
            " 14%|█▎        | 170/1256 [07:40<48:50,  2.70s/it]\u001b[A"
          ],
          "name": "stderr"
        },
        {
          "output_type": "stream",
          "text": [
            "DQN Trader sold:  $ 26.540001  Profit: $ 3.980001\n"
          ],
          "name": "stdout"
        },
        {
          "output_type": "stream",
          "text": [
            "\n",
            " 14%|█▎        | 171/1256 [07:42<48:34,  2.69s/it]\u001b[A"
          ],
          "name": "stderr"
        },
        {
          "output_type": "stream",
          "text": [
            "DQN Trader sold:  $ 26.809999  Profit: $ 3.889999\n"
          ],
          "name": "stdout"
        },
        {
          "output_type": "stream",
          "text": [
            "\n",
            " 14%|█▎        | 172/1256 [07:45<48:33,  2.69s/it]\u001b[A"
          ],
          "name": "stderr"
        },
        {
          "output_type": "stream",
          "text": [
            "DQN Trader sold:  $ 25.680000  Profit: $ 2.450001\n"
          ],
          "name": "stdout"
        },
        {
          "output_type": "stream",
          "text": [
            "\n",
            " 14%|█▍        | 173/1256 [07:48<48:30,  2.69s/it]\u001b[A"
          ],
          "name": "stderr"
        },
        {
          "output_type": "stream",
          "text": [
            "DQN Trader sold:  $ 24.900000  Profit: $ 2.150000\n"
          ],
          "name": "stdout"
        },
        {
          "output_type": "stream",
          "text": [
            "\n",
            " 14%|█▍        | 174/1256 [07:50<49:09,  2.73s/it]\u001b[A"
          ],
          "name": "stderr"
        },
        {
          "output_type": "stream",
          "text": [
            "DQN Trader sold:  $ 25.260000  Profit: $ 2.460001\n"
          ],
          "name": "stdout"
        },
        {
          "output_type": "stream",
          "text": [
            "\n",
            " 14%|█▍        | 175/1256 [07:53<48:57,  2.72s/it]\u001b[A"
          ],
          "name": "stderr"
        },
        {
          "output_type": "stream",
          "text": [
            "DQN Trader sold:  $ 25.799999  Profit: $ 3.240000\n"
          ],
          "name": "stdout"
        },
        {
          "output_type": "stream",
          "text": [
            "\n",
            " 14%|█▍        | 176/1256 [07:56<48:30,  2.69s/it]\u001b[A"
          ],
          "name": "stderr"
        },
        {
          "output_type": "stream",
          "text": [
            "DQN Trader sold:  $ 26.230000  Profit: $ 3.930000\n"
          ],
          "name": "stdout"
        },
        {
          "output_type": "stream",
          "text": [
            "\n",
            " 14%|█▍        | 177/1256 [07:58<48:05,  2.67s/it]\u001b[A"
          ],
          "name": "stderr"
        },
        {
          "output_type": "stream",
          "text": [
            "DQN Trader sold:  $ 26.530001  Profit: $ 4.530001\n"
          ],
          "name": "stdout"
        },
        {
          "output_type": "stream",
          "text": [
            "\n",
            " 14%|█▍        | 178/1256 [08:01<47:48,  2.66s/it]\u001b[A"
          ],
          "name": "stderr"
        },
        {
          "output_type": "stream",
          "text": [
            "DQN Trader sold:  $ 26.260000  Profit: $ 4.020000\n"
          ],
          "name": "stdout"
        },
        {
          "output_type": "stream",
          "text": [
            "\n",
            " 14%|█▍        | 179/1256 [08:04<47:44,  2.66s/it]\u001b[A"
          ],
          "name": "stderr"
        },
        {
          "output_type": "stream",
          "text": [
            "DQN Trader sold:  $ 26.150000  Profit: $ 2.809999\n"
          ],
          "name": "stdout"
        },
        {
          "output_type": "stream",
          "text": [
            "\n",
            " 14%|█▍        | 180/1256 [08:07<48:37,  2.71s/it]\u001b[A"
          ],
          "name": "stderr"
        },
        {
          "output_type": "stream",
          "text": [
            "DQN Trader sold:  $ 26.309999  Profit: $ 2.670000\n"
          ],
          "name": "stdout"
        },
        {
          "output_type": "stream",
          "text": [
            "\n",
            " 14%|█▍        | 181/1256 [08:09<48:20,  2.70s/it]\u001b[A"
          ],
          "name": "stderr"
        },
        {
          "output_type": "stream",
          "text": [
            "DQN Trader sold:  $ 26.730000  Profit: $ 2.930000\n"
          ],
          "name": "stdout"
        },
        {
          "output_type": "stream",
          "text": [
            "\n",
            " 14%|█▍        | 182/1256 [08:12<48:07,  2.69s/it]\u001b[A"
          ],
          "name": "stderr"
        },
        {
          "output_type": "stream",
          "text": [
            "DQN Trader sold:  $ 27.200001  Profit: $ 3.420000\n"
          ],
          "name": "stdout"
        },
        {
          "output_type": "stream",
          "text": [
            "\n",
            " 15%|█▍        | 183/1256 [08:15<47:55,  2.68s/it]\u001b[A"
          ],
          "name": "stderr"
        },
        {
          "output_type": "stream",
          "text": [
            "DQN Trader sold:  $ 26.969999  Profit: $ 3.010000\n"
          ],
          "name": "stdout"
        },
        {
          "output_type": "stream",
          "text": [
            "\n",
            " 15%|█▍        | 184/1256 [08:17<47:32,  2.66s/it]\u001b[A"
          ],
          "name": "stderr"
        },
        {
          "output_type": "stream",
          "text": [
            "DQN Trader sold:  $ 26.889999  Profit: $ 3.490000\n"
          ],
          "name": "stdout"
        },
        {
          "output_type": "stream",
          "text": [
            "\n",
            " 15%|█▍        | 185/1256 [08:20<48:10,  2.70s/it]\u001b[A"
          ],
          "name": "stderr"
        },
        {
          "output_type": "stream",
          "text": [
            "DQN Trader sold:  $ 27.110001  Profit: $ 3.690001\n"
          ],
          "name": "stdout"
        },
        {
          "output_type": "stream",
          "text": [
            "\n",
            " 15%|█▍        | 186/1256 [08:23<47:54,  2.69s/it]\u001b[A"
          ],
          "name": "stderr"
        },
        {
          "output_type": "stream",
          "text": [
            "DQN Trader sold:  $ 27.010000  Profit: $ 3.320000\n"
          ],
          "name": "stdout"
        },
        {
          "output_type": "stream",
          "text": [
            "\n",
            " 15%|█▍        | 187/1256 [08:25<47:35,  2.67s/it]\u001b[A"
          ],
          "name": "stderr"
        },
        {
          "output_type": "stream",
          "text": [
            "DQN Trader sold:  $ 27.639999  Profit: $ 3.869999\n"
          ],
          "name": "stdout"
        },
        {
          "output_type": "stream",
          "text": [
            "\n",
            " 15%|█▍        | 188/1256 [08:28<47:12,  2.65s/it]\u001b[A"
          ],
          "name": "stderr"
        },
        {
          "output_type": "stream",
          "text": [
            "DQN Trader sold:  $ 27.270000  Profit: $ 3.720001\n"
          ],
          "name": "stdout"
        },
        {
          "output_type": "stream",
          "text": [
            "\n",
            " 15%|█▌        | 189/1256 [08:30<47:03,  2.65s/it]\u001b[A"
          ],
          "name": "stderr"
        },
        {
          "output_type": "stream",
          "text": [
            "DQN Trader sold:  $ 27.549999  Profit: $ 2.969999\n"
          ],
          "name": "stdout"
        },
        {
          "output_type": "stream",
          "text": [
            "\n",
            " 15%|█▌        | 190/1256 [08:33<47:01,  2.65s/it]\u001b[A"
          ],
          "name": "stderr"
        },
        {
          "output_type": "stream",
          "text": [
            "DQN Trader sold:  $ 27.480000  Profit: $ 2.859999\n"
          ],
          "name": "stdout"
        },
        {
          "output_type": "stream",
          "text": [
            "\n",
            " 15%|█▌        | 191/1256 [08:36<47:43,  2.69s/it]\u001b[A"
          ],
          "name": "stderr"
        },
        {
          "output_type": "stream",
          "text": [
            "DQN Trader sold:  $ 27.740000  Profit: $ 3.180000\n"
          ],
          "name": "stdout"
        },
        {
          "output_type": "stream",
          "text": [
            "\n",
            " 15%|█▌        | 192/1256 [08:39<47:28,  2.68s/it]\u001b[A"
          ],
          "name": "stderr"
        },
        {
          "output_type": "stream",
          "text": [
            "DQN Trader sold:  $ 27.860001  Profit: $ 3.210001\n"
          ],
          "name": "stdout"
        },
        {
          "output_type": "stream",
          "text": [
            "\n",
            " 15%|█▌        | 193/1256 [08:41<47:22,  2.67s/it]\u001b[A"
          ],
          "name": "stderr"
        },
        {
          "output_type": "stream",
          "text": [
            "DQN Trader sold:  $ 28.330000  Profit: $ 3.629999\n"
          ],
          "name": "stdout"
        },
        {
          "output_type": "stream",
          "text": [
            "\n",
            " 15%|█▌        | 194/1256 [08:44<47:10,  2.67s/it]\u001b[A"
          ],
          "name": "stderr"
        },
        {
          "output_type": "stream",
          "text": [
            "DQN Trader sold:  $ 28.100000  Profit: $ 3.450001\n"
          ],
          "name": "stdout"
        },
        {
          "output_type": "stream",
          "text": [
            "\n",
            " 16%|█▌        | 195/1256 [08:47<47:03,  2.66s/it]\u001b[A"
          ],
          "name": "stderr"
        },
        {
          "output_type": "stream",
          "text": [
            "DQN Trader sold:  $ 28.139999  Profit: $ 3.400000\n"
          ],
          "name": "stdout"
        },
        {
          "output_type": "stream",
          "text": [
            "\n",
            " 16%|█▌        | 196/1256 [08:49<46:57,  2.66s/it]\u001b[A"
          ],
          "name": "stderr"
        },
        {
          "output_type": "stream",
          "text": [
            "DQN Trader sold:  $ 27.780001  Profit: $ 3.040001\n"
          ],
          "name": "stdout"
        },
        {
          "output_type": "stream",
          "text": [
            "\n",
            " 16%|█▌        | 197/1256 [08:52<47:35,  2.70s/it]\u001b[A"
          ],
          "name": "stderr"
        },
        {
          "output_type": "stream",
          "text": [
            "DQN Trader sold:  $ 28.620001  Profit: $ 3.270000\n"
          ],
          "name": "stdout"
        },
        {
          "output_type": "stream",
          "text": [
            "\n",
            " 16%|█▌        | 198/1256 [08:55<47:38,  2.70s/it]\u001b[A"
          ],
          "name": "stderr"
        },
        {
          "output_type": "stream",
          "text": [
            "DQN Trader sold:  $ 28.160000  Profit: $ 2.940001\n"
          ],
          "name": "stdout"
        },
        {
          "output_type": "stream",
          "text": [
            "\n",
            " 16%|█▌        | 199/1256 [08:57<47:35,  2.70s/it]\u001b[A"
          ],
          "name": "stderr"
        },
        {
          "output_type": "stream",
          "text": [
            "DQN Trader sold:  $ 28.160000  Profit: $ 3.280001\n"
          ],
          "name": "stdout"
        },
        {
          "output_type": "stream",
          "text": [
            "\n",
            " 16%|█▌        | 200/1256 [09:00<47:21,  2.69s/it]\u001b[A"
          ],
          "name": "stderr"
        },
        {
          "output_type": "stream",
          "text": [
            "DQN Trader sold:  $ 28.400000  Profit: $ 2.619999\n"
          ],
          "name": "stdout"
        },
        {
          "output_type": "stream",
          "text": [
            "\n",
            " 16%|█▌        | 201/1256 [09:03<47:16,  2.69s/it]\u001b[A"
          ],
          "name": "stderr"
        },
        {
          "output_type": "stream",
          "text": [
            "DQN Trader sold:  $ 28.790001  Profit: $ 3.020000\n"
          ],
          "name": "stdout"
        },
        {
          "output_type": "stream",
          "text": [
            "\n",
            " 16%|█▌        | 202/1256 [09:05<47:23,  2.70s/it]\u001b[A"
          ],
          "name": "stderr"
        },
        {
          "output_type": "stream",
          "text": [
            "DQN Trader sold:  $ 29.090000  Profit: $ 3.049999\n"
          ],
          "name": "stdout"
        },
        {
          "output_type": "stream",
          "text": [
            "\n",
            " 16%|█▌        | 203/1256 [09:08<48:17,  2.75s/it]\u001b[A"
          ],
          "name": "stderr"
        },
        {
          "output_type": "stream",
          "text": [
            "DQN Trader sold:  $ 29.400000  Profit: $ 3.469999\n"
          ],
          "name": "stdout"
        },
        {
          "output_type": "stream",
          "text": [
            "\n",
            " 16%|█▌        | 204/1256 [09:11<48:00,  2.74s/it]\u001b[A"
          ],
          "name": "stderr"
        },
        {
          "output_type": "stream",
          "text": [
            "DQN Trader sold:  $ 29.219999  Profit: $ 3.410000\n"
          ],
          "name": "stdout"
        },
        {
          "output_type": "stream",
          "text": [
            "\n",
            " 16%|█▋        | 205/1256 [09:14<47:42,  2.72s/it]\u001b[A"
          ],
          "name": "stderr"
        },
        {
          "output_type": "stream",
          "text": [
            "DQN Trader sold:  $ 29.139999  Profit: $ 3.459999\n"
          ],
          "name": "stdout"
        },
        {
          "output_type": "stream",
          "text": [
            "\n",
            " 16%|█▋        | 206/1256 [09:16<47:15,  2.70s/it]\u001b[A"
          ],
          "name": "stderr"
        },
        {
          "output_type": "stream",
          "text": [
            "DQN Trader sold:  $ 29.240000  Profit: $ 3.510000\n"
          ],
          "name": "stdout"
        },
        {
          "output_type": "stream",
          "text": [
            "\n",
            " 16%|█▋        | 207/1256 [09:19<46:57,  2.69s/it]\u001b[A"
          ],
          "name": "stderr"
        },
        {
          "output_type": "stream",
          "text": [
            "DQN Trader sold:  $ 29.389999  Profit: $ 3.760000\n"
          ],
          "name": "stdout"
        },
        {
          "output_type": "stream",
          "text": [
            "\n",
            " 17%|█▋        | 208/1256 [09:22<46:36,  2.67s/it]\u001b[A"
          ],
          "name": "stderr"
        },
        {
          "output_type": "stream",
          "text": [
            "DQN Trader sold:  $ 29.080000  Profit: $ 3.110001\n"
          ],
          "name": "stdout"
        },
        {
          "output_type": "stream",
          "text": [
            "\n",
            " 17%|█▋        | 209/1256 [09:24<47:13,  2.71s/it]\u001b[A"
          ],
          "name": "stderr"
        },
        {
          "output_type": "stream",
          "text": [
            "DQN Trader sold:  $ 28.980000  Profit: $ 2.520000\n"
          ],
          "name": "stdout"
        },
        {
          "output_type": "stream",
          "text": [
            "\n",
            " 17%|█▋        | 210/1256 [09:27<46:54,  2.69s/it]\u001b[A"
          ],
          "name": "stderr"
        },
        {
          "output_type": "stream",
          "text": [
            "DQN Trader sold:  $ 29.160000  Profit: $ 2.959999\n"
          ],
          "name": "stdout"
        },
        {
          "output_type": "stream",
          "text": [
            "\n",
            " 17%|█▋        | 211/1256 [09:30<46:32,  2.67s/it]\u001b[A"
          ],
          "name": "stderr"
        },
        {
          "output_type": "stream",
          "text": [
            "DQN Trader sold:  $ 28.639999  Profit: $ 2.519999\n"
          ],
          "name": "stdout"
        },
        {
          "output_type": "stream",
          "text": [
            "\n",
            " 17%|█▋        | 212/1256 [09:32<46:29,  2.67s/it]\u001b[A"
          ],
          "name": "stderr"
        },
        {
          "output_type": "stream",
          "text": [
            "DQN Trader sold:  $ 28.400000  Profit: $ 2.549999\n"
          ],
          "name": "stdout"
        },
        {
          "output_type": "stream",
          "text": [
            "\n",
            " 17%|█▋        | 213/1256 [09:35<46:23,  2.67s/it]\u001b[A"
          ],
          "name": "stderr"
        },
        {
          "output_type": "stream",
          "text": [
            "DQN Trader sold:  $ 28.500000  Profit: $ 2.990000\n"
          ],
          "name": "stdout"
        },
        {
          "output_type": "stream",
          "text": [
            "\n",
            " 17%|█▋        | 214/1256 [09:38<46:58,  2.71s/it]\u001b[A"
          ],
          "name": "stderr"
        },
        {
          "output_type": "stream",
          "text": [
            "DQN Trader sold:  $ 28.389999  Profit: $ 4.889999\n"
          ],
          "name": "stdout"
        },
        {
          "output_type": "stream",
          "text": [
            "\n",
            " 17%|█▋        | 215/1256 [09:40<46:41,  2.69s/it]\u001b[A"
          ],
          "name": "stderr"
        },
        {
          "output_type": "stream",
          "text": [
            "DQN Trader sold:  $ 28.600000  Profit: $ 5.230000\n"
          ],
          "name": "stdout"
        },
        {
          "output_type": "stream",
          "text": [
            "\n",
            " 17%|█▋        | 216/1256 [09:43<46:34,  2.69s/it]\u001b[A\n",
            " 17%|█▋        | 217/1256 [09:46<46:09,  2.67s/it]\u001b[A\n",
            " 17%|█▋        | 218/1256 [09:48<45:59,  2.66s/it]\u001b[A\n",
            " 17%|█▋        | 219/1256 [09:51<45:44,  2.65s/it]\u001b[A\n",
            " 18%|█▊        | 220/1256 [09:54<46:24,  2.69s/it]\u001b[A\n",
            " 18%|█▊        | 221/1256 [09:56<46:05,  2.67s/it]\u001b[A\n",
            " 18%|█▊        | 222/1256 [09:59<45:54,  2.66s/it]\u001b[A\n",
            " 18%|█▊        | 223/1256 [10:02<45:50,  2.66s/it]\u001b[A\n",
            " 18%|█▊        | 224/1256 [10:04<45:40,  2.66s/it]\u001b[A\n",
            " 18%|█▊        | 225/1256 [10:07<45:42,  2.66s/it]\u001b[A\n",
            " 18%|█▊        | 226/1256 [10:10<46:16,  2.70s/it]\u001b[A\n",
            " 18%|█▊        | 227/1256 [10:13<46:07,  2.69s/it]\u001b[A\n",
            " 18%|█▊        | 228/1256 [10:15<46:00,  2.69s/it]\u001b[A\n",
            " 18%|█▊        | 229/1256 [10:18<45:53,  2.68s/it]\u001b[A\n",
            " 18%|█▊        | 230/1256 [10:21<45:43,  2.67s/it]\u001b[A\n",
            " 18%|█▊        | 231/1256 [10:23<45:24,  2.66s/it]\u001b[A"
          ],
          "name": "stderr"
        },
        {
          "output_type": "stream",
          "text": [
            "DQN Trader bought:  $ 29.930000\n"
          ],
          "name": "stdout"
        },
        {
          "output_type": "stream",
          "text": [
            "\n",
            " 18%|█▊        | 232/1256 [10:26<46:13,  2.71s/it]\u001b[A"
          ],
          "name": "stderr"
        },
        {
          "output_type": "stream",
          "text": [
            "DQN Trader bought:  $ 29.900000\n"
          ],
          "name": "stdout"
        },
        {
          "output_type": "stream",
          "text": [
            "\n",
            " 19%|█▊        | 233/1256 [10:29<46:01,  2.70s/it]\u001b[A"
          ],
          "name": "stderr"
        },
        {
          "output_type": "stream",
          "text": [
            "DQN Trader sold:  $ 30.500000  Profit: $ 0.570000\n"
          ],
          "name": "stdout"
        },
        {
          "output_type": "stream",
          "text": [
            "\n",
            " 19%|█▊        | 234/1256 [10:31<45:52,  2.69s/it]\u001b[A"
          ],
          "name": "stderr"
        },
        {
          "output_type": "stream",
          "text": [
            "DQN Trader sold:  $ 30.660000  Profit: $ 0.760000\n"
          ],
          "name": "stdout"
        },
        {
          "output_type": "stream",
          "text": [
            "\n",
            " 19%|█▊        | 235/1256 [10:34<45:45,  2.69s/it]\u001b[A\n",
            " 19%|█▉        | 236/1256 [10:37<45:36,  2.68s/it]\u001b[A\n",
            " 19%|█▉        | 237/1256 [10:39<45:59,  2.71s/it]\u001b[A\n",
            " 19%|█▉        | 238/1256 [10:42<45:35,  2.69s/it]\u001b[A\n",
            " 19%|█▉        | 239/1256 [10:45<45:22,  2.68s/it]\u001b[A\n",
            " 19%|█▉        | 240/1256 [10:47<45:07,  2.67s/it]\u001b[A\n",
            " 19%|█▉        | 241/1256 [10:50<44:59,  2.66s/it]\u001b[A\n",
            " 19%|█▉        | 242/1256 [10:53<44:41,  2.64s/it]\u001b[A\n",
            " 19%|█▉        | 243/1256 [10:55<45:12,  2.68s/it]\u001b[A\n",
            " 19%|█▉        | 244/1256 [10:58<45:14,  2.68s/it]\u001b[A\n",
            " 20%|█▉        | 245/1256 [11:01<45:11,  2.68s/it]\u001b[A\n",
            " 20%|█▉        | 246/1256 [11:03<45:08,  2.68s/it]\u001b[A"
          ],
          "name": "stderr"
        },
        {
          "output_type": "stream",
          "text": [
            "DQN Trader bought:  $ 31.280001\n"
          ],
          "name": "stdout"
        },
        {
          "output_type": "stream",
          "text": [
            "\n",
            " 20%|█▉        | 247/1256 [11:06<44:56,  2.67s/it]\u001b[A"
          ],
          "name": "stderr"
        },
        {
          "output_type": "stream",
          "text": [
            "DQN Trader bought:  $ 30.730000\n"
          ],
          "name": "stdout"
        },
        {
          "output_type": "stream",
          "text": [
            "\n",
            " 20%|█▉        | 248/1256 [11:09<45:31,  2.71s/it]\u001b[A"
          ],
          "name": "stderr"
        },
        {
          "output_type": "stream",
          "text": [
            "DQN Trader bought:  $ 31.350000\n"
          ],
          "name": "stdout"
        },
        {
          "output_type": "stream",
          "text": [
            "\n",
            " 20%|█▉        | 249/1256 [11:12<45:07,  2.69s/it]\u001b[A"
          ],
          "name": "stderr"
        },
        {
          "output_type": "stream",
          "text": [
            "DQN Trader bought:  $ 30.530001\n"
          ],
          "name": "stdout"
        },
        {
          "output_type": "stream",
          "text": [
            "\n",
            " 20%|█▉        | 250/1256 [11:14<45:00,  2.68s/it]\u001b[A"
          ],
          "name": "stderr"
        },
        {
          "output_type": "stream",
          "text": [
            "DQN Trader bought:  $ 30.660000\n"
          ],
          "name": "stdout"
        },
        {
          "output_type": "stream",
          "text": [
            "\n",
            " 20%|█▉        | 251/1256 [11:17<44:47,  2.67s/it]\u001b[A"
          ],
          "name": "stderr"
        },
        {
          "output_type": "stream",
          "text": [
            "DQN Trader sold:  $ 30.570000  Profit: - $ 0.710001\n"
          ],
          "name": "stdout"
        },
        {
          "output_type": "stream",
          "text": [
            "\n",
            " 20%|██        | 252/1256 [11:20<44:46,  2.68s/it]\u001b[A"
          ],
          "name": "stderr"
        },
        {
          "output_type": "stream",
          "text": [
            "DQN Trader sold:  $ 30.860001  Profit: $ 0.130001\n"
          ],
          "name": "stdout"
        },
        {
          "output_type": "stream",
          "text": [
            "\n",
            " 20%|██        | 253/1256 [11:22<44:34,  2.67s/it]\u001b[A"
          ],
          "name": "stderr"
        },
        {
          "output_type": "stream",
          "text": [
            "DQN Trader bought:  $ 30.980000\n"
          ],
          "name": "stdout"
        },
        {
          "output_type": "stream",
          "text": [
            "\n",
            " 20%|██        | 254/1256 [11:25<45:06,  2.70s/it]\u001b[A"
          ],
          "name": "stderr"
        },
        {
          "output_type": "stream",
          "text": [
            "DQN Trader sold:  $ 31.059999  Profit: - $ 0.290001\n"
          ],
          "name": "stdout"
        },
        {
          "output_type": "stream",
          "text": [
            "\n",
            " 20%|██        | 255/1256 [11:28<44:52,  2.69s/it]\u001b[A"
          ],
          "name": "stderr"
        },
        {
          "output_type": "stream",
          "text": [
            "DQN Trader bought:  $ 31.080000\n"
          ],
          "name": "stdout"
        },
        {
          "output_type": "stream",
          "text": [
            "\n",
            " 20%|██        | 256/1256 [11:30<44:25,  2.67s/it]\u001b[A"
          ],
          "name": "stderr"
        },
        {
          "output_type": "stream",
          "text": [
            "DQN Trader sold:  $ 31.410000  Profit: $ 0.879999\n"
          ],
          "name": "stdout"
        },
        {
          "output_type": "stream",
          "text": [
            "\n",
            " 20%|██        | 257/1256 [11:33<44:13,  2.66s/it]\u001b[A"
          ],
          "name": "stderr"
        },
        {
          "output_type": "stream",
          "text": [
            "DQN Trader bought:  $ 31.549999\n"
          ],
          "name": "stdout"
        },
        {
          "output_type": "stream",
          "text": [
            "\n",
            " 21%|██        | 258/1256 [11:36<44:19,  2.66s/it]\u001b[A"
          ],
          "name": "stderr"
        },
        {
          "output_type": "stream",
          "text": [
            "DQN Trader bought:  $ 31.209999\n"
          ],
          "name": "stdout"
        },
        {
          "output_type": "stream",
          "text": [
            "\n",
            " 21%|██        | 259/1256 [11:38<44:07,  2.66s/it]\u001b[A"
          ],
          "name": "stderr"
        },
        {
          "output_type": "stream",
          "text": [
            "DQN Trader sold:  $ 30.770000  Profit: $ 0.110001\n"
          ],
          "name": "stdout"
        },
        {
          "output_type": "stream",
          "text": [
            "\n",
            " 21%|██        | 260/1256 [11:41<44:41,  2.69s/it]\u001b[A"
          ],
          "name": "stderr"
        },
        {
          "output_type": "stream",
          "text": [
            "DQN Trader sold:  $ 30.770000  Profit: - $ 0.209999\n"
          ],
          "name": "stdout"
        },
        {
          "output_type": "stream",
          "text": [
            "\n",
            " 21%|██        | 261/1256 [11:44<44:26,  2.68s/it]\u001b[A"
          ],
          "name": "stderr"
        },
        {
          "output_type": "stream",
          "text": [
            "DQN Trader sold:  $ 31.100000  Profit: $ 0.020000\n"
          ],
          "name": "stdout"
        },
        {
          "output_type": "stream",
          "text": [
            "\n",
            " 21%|██        | 262/1256 [11:46<44:17,  2.67s/it]\u001b[A"
          ],
          "name": "stderr"
        },
        {
          "output_type": "stream",
          "text": [
            "DQN Trader sold:  $ 30.709999  Profit: - $ 0.840000\n"
          ],
          "name": "stdout"
        },
        {
          "output_type": "stream",
          "text": [
            "\n",
            " 21%|██        | 263/1256 [11:49<44:30,  2.69s/it]\u001b[A"
          ],
          "name": "stderr"
        },
        {
          "output_type": "stream",
          "text": [
            "DQN Trader bought:  $ 30.389999\n"
          ],
          "name": "stdout"
        },
        {
          "output_type": "stream",
          "text": [
            "\n",
            " 21%|██        | 264/1256 [11:52<44:23,  2.69s/it]\u001b[A"
          ],
          "name": "stderr"
        },
        {
          "output_type": "stream",
          "text": [
            "DQN Trader sold:  $ 30.280001  Profit: - $ 0.929998\n"
          ],
          "name": "stdout"
        },
        {
          "output_type": "stream",
          "text": [
            "\n",
            " 21%|██        | 265/1256 [11:54<44:27,  2.69s/it]\u001b[A"
          ],
          "name": "stderr"
        },
        {
          "output_type": "stream",
          "text": [
            "DQN Trader sold:  $ 30.240000  Profit: - $ 0.150000\n"
          ],
          "name": "stdout"
        },
        {
          "output_type": "stream",
          "text": [
            "\n",
            " 21%|██        | 266/1256 [11:57<44:55,  2.72s/it]\u001b[A\n",
            " 21%|██▏       | 267/1256 [12:00<44:31,  2.70s/it]\u001b[A\n",
            " 21%|██▏       | 268/1256 [12:02<44:15,  2.69s/it]\u001b[A"
          ],
          "name": "stderr"
        },
        {
          "output_type": "stream",
          "text": [
            "DQN Trader bought:  $ 30.590000\n"
          ],
          "name": "stdout"
        },
        {
          "output_type": "stream",
          "text": [
            "\n",
            " 21%|██▏       | 269/1256 [12:05<43:52,  2.67s/it]\u001b[A"
          ],
          "name": "stderr"
        },
        {
          "output_type": "stream",
          "text": [
            "DQN Trader sold:  $ 29.440001  Profit: - $ 1.150000\n"
          ],
          "name": "stdout"
        },
        {
          "output_type": "stream",
          "text": [
            "\n",
            " 21%|██▏       | 270/1256 [12:08<43:42,  2.66s/it]\u001b[A\n",
            " 22%|██▏       | 271/1256 [12:10<43:36,  2.66s/it]\u001b[A\n",
            " 22%|██▏       | 272/1256 [12:13<44:08,  2.69s/it]\u001b[A\n",
            " 22%|██▏       | 273/1256 [12:16<43:53,  2.68s/it]\u001b[A\n",
            " 22%|██▏       | 274/1256 [12:18<43:38,  2.67s/it]\u001b[A"
          ],
          "name": "stderr"
        },
        {
          "output_type": "stream",
          "text": [
            "DQN Trader bought:  $ 29.469999\n"
          ],
          "name": "stdout"
        },
        {
          "output_type": "stream",
          "text": [
            "\n",
            " 22%|██▏       | 275/1256 [12:21<43:43,  2.67s/it]\u001b[A"
          ],
          "name": "stderr"
        },
        {
          "output_type": "stream",
          "text": [
            "DQN Trader bought:  $ 29.469999\n"
          ],
          "name": "stdout"
        },
        {
          "output_type": "stream",
          "text": [
            "\n",
            " 22%|██▏       | 276/1256 [12:24<44:01,  2.70s/it]\u001b[A"
          ],
          "name": "stderr"
        },
        {
          "output_type": "stream",
          "text": [
            "DQN Trader sold:  $ 29.650000  Profit: $ 0.180000\n"
          ],
          "name": "stdout"
        },
        {
          "output_type": "stream",
          "text": [
            "\n",
            " 22%|██▏       | 277/1256 [12:27<44:54,  2.75s/it]\u001b[A"
          ],
          "name": "stderr"
        },
        {
          "output_type": "stream",
          "text": [
            "DQN Trader bought:  $ 29.910000\n"
          ],
          "name": "stdout"
        },
        {
          "output_type": "stream",
          "text": [
            "\n",
            " 22%|██▏       | 278/1256 [12:30<44:45,  2.75s/it]\u001b[A"
          ],
          "name": "stderr"
        },
        {
          "output_type": "stream",
          "text": [
            "DQN Trader bought:  $ 29.889999\n"
          ],
          "name": "stdout"
        },
        {
          "output_type": "stream",
          "text": [
            "\n",
            " 22%|██▏       | 279/1256 [12:32<44:52,  2.76s/it]\u001b[A"
          ],
          "name": "stderr"
        },
        {
          "output_type": "stream",
          "text": [
            "DQN Trader bought:  $ 29.660000\n"
          ],
          "name": "stdout"
        },
        {
          "output_type": "stream",
          "text": [
            "\n",
            " 22%|██▏       | 280/1256 [12:35<44:34,  2.74s/it]\u001b[A"
          ],
          "name": "stderr"
        },
        {
          "output_type": "stream",
          "text": [
            "DQN Trader bought:  $ 29.660000\n"
          ],
          "name": "stdout"
        },
        {
          "output_type": "stream",
          "text": [
            "\n",
            " 22%|██▏       | 281/1256 [12:38<44:15,  2.72s/it]\u001b[A"
          ],
          "name": "stderr"
        },
        {
          "output_type": "stream",
          "text": [
            "DQN Trader bought:  $ 29.549999\n"
          ],
          "name": "stdout"
        },
        {
          "output_type": "stream",
          "text": [
            "\n",
            " 22%|██▏       | 282/1256 [12:40<43:54,  2.70s/it]\u001b[A"
          ],
          "name": "stderr"
        },
        {
          "output_type": "stream",
          "text": [
            "DQN Trader bought:  $ 29.690001\n"
          ],
          "name": "stdout"
        },
        {
          "output_type": "stream",
          "text": [
            "\n",
            " 23%|██▎       | 283/1256 [12:43<44:17,  2.73s/it]\u001b[A"
          ],
          "name": "stderr"
        },
        {
          "output_type": "stream",
          "text": [
            "DQN Trader bought:  $ 28.549999\n"
          ],
          "name": "stdout"
        },
        {
          "output_type": "stream",
          "text": [
            "\n",
            " 23%|██▎       | 284/1256 [12:46<43:52,  2.71s/it]\u001b[A"
          ],
          "name": "stderr"
        },
        {
          "output_type": "stream",
          "text": [
            "DQN Trader bought:  $ 28.860001\n"
          ],
          "name": "stdout"
        },
        {
          "output_type": "stream",
          "text": [
            "\n",
            " 23%|██▎       | 285/1256 [12:48<43:37,  2.70s/it]\u001b[A"
          ],
          "name": "stderr"
        },
        {
          "output_type": "stream",
          "text": [
            "DQN Trader bought:  $ 29.020000\n"
          ],
          "name": "stdout"
        },
        {
          "output_type": "stream",
          "text": [
            "\n",
            " 23%|██▎       | 286/1256 [12:51<43:31,  2.69s/it]\u001b[A"
          ],
          "name": "stderr"
        },
        {
          "output_type": "stream",
          "text": [
            "DQN Trader bought:  $ 29.510000\n"
          ],
          "name": "stdout"
        },
        {
          "output_type": "stream",
          "text": [
            "\n",
            " 23%|██▎       | 287/1256 [12:54<43:21,  2.68s/it]\u001b[A"
          ],
          "name": "stderr"
        },
        {
          "output_type": "stream",
          "text": [
            "DQN Trader bought:  $ 29.930000\n"
          ],
          "name": "stdout"
        },
        {
          "output_type": "stream",
          "text": [
            "\n",
            " 23%|██▎       | 288/1256 [12:57<43:26,  2.69s/it]\u001b[A"
          ],
          "name": "stderr"
        },
        {
          "output_type": "stream",
          "text": [
            "DQN Trader bought:  $ 30.040001\n"
          ],
          "name": "stdout"
        },
        {
          "output_type": "stream",
          "text": [
            "\n",
            " 23%|██▎       | 289/1256 [12:59<43:52,  2.72s/it]\u001b[A"
          ],
          "name": "stderr"
        },
        {
          "output_type": "stream",
          "text": [
            "DQN Trader bought:  $ 30.120001\n"
          ],
          "name": "stdout"
        },
        {
          "output_type": "stream",
          "text": [
            "\n",
            " 23%|██▎       | 290/1256 [13:02<43:30,  2.70s/it]\u001b[A"
          ],
          "name": "stderr"
        },
        {
          "output_type": "stream",
          "text": [
            "DQN Trader bought:  $ 29.900000\n"
          ],
          "name": "stdout"
        },
        {
          "output_type": "stream",
          "text": [
            "\n",
            " 23%|██▎       | 291/1256 [13:05<43:16,  2.69s/it]\u001b[A"
          ],
          "name": "stderr"
        },
        {
          "output_type": "stream",
          "text": [
            "DQN Trader bought:  $ 30.360001\n"
          ],
          "name": "stdout"
        },
        {
          "output_type": "stream",
          "text": [
            "\n",
            " 23%|██▎       | 292/1256 [13:07<43:15,  2.69s/it]\u001b[A"
          ],
          "name": "stderr"
        },
        {
          "output_type": "stream",
          "text": [
            "DQN Trader bought:  $ 29.870001\n"
          ],
          "name": "stdout"
        },
        {
          "output_type": "stream",
          "text": [
            "\n",
            " 23%|██▎       | 293/1256 [13:10<43:08,  2.69s/it]\u001b[A"
          ],
          "name": "stderr"
        },
        {
          "output_type": "stream",
          "text": [
            "DQN Trader bought:  $ 30.160000\n"
          ],
          "name": "stdout"
        },
        {
          "output_type": "stream",
          "text": [
            "\n",
            " 23%|██▎       | 294/1256 [13:13<43:44,  2.73s/it]\u001b[A"
          ],
          "name": "stderr"
        },
        {
          "output_type": "stream",
          "text": [
            "DQN Trader bought:  $ 29.480000\n"
          ],
          "name": "stdout"
        },
        {
          "output_type": "stream",
          "text": [
            "\n",
            " 23%|██▎       | 295/1256 [13:15<43:25,  2.71s/it]\u001b[A"
          ],
          "name": "stderr"
        },
        {
          "output_type": "stream",
          "text": [
            "DQN Trader bought:  $ 29.270000\n"
          ],
          "name": "stdout"
        },
        {
          "output_type": "stream",
          "text": [
            "\n",
            " 24%|██▎       | 296/1256 [13:18<43:10,  2.70s/it]\u001b[A"
          ],
          "name": "stderr"
        },
        {
          "output_type": "stream",
          "text": [
            "DQN Trader bought:  $ 29.309999\n"
          ],
          "name": "stdout"
        },
        {
          "output_type": "stream",
          "text": [
            "\n",
            " 24%|██▎       | 297/1256 [13:21<42:59,  2.69s/it]\u001b[A"
          ],
          "name": "stderr"
        },
        {
          "output_type": "stream",
          "text": [
            "DQN Trader bought:  $ 29.139999\n"
          ],
          "name": "stdout"
        },
        {
          "output_type": "stream",
          "text": [
            "\n",
            " 24%|██▎       | 298/1256 [13:23<42:44,  2.68s/it]\u001b[A"
          ],
          "name": "stderr"
        },
        {
          "output_type": "stream",
          "text": [
            "DQN Trader bought:  $ 28.740000\n"
          ],
          "name": "stdout"
        },
        {
          "output_type": "stream",
          "text": [
            "\n",
            " 24%|██▍       | 299/1256 [13:26<42:44,  2.68s/it]\u001b[A"
          ],
          "name": "stderr"
        },
        {
          "output_type": "stream",
          "text": [
            "DQN Trader bought:  $ 29.049999\n"
          ],
          "name": "stdout"
        },
        {
          "output_type": "stream",
          "text": [
            "\n",
            " 24%|██▍       | 300/1256 [13:29<43:19,  2.72s/it]\u001b[A"
          ],
          "name": "stderr"
        },
        {
          "output_type": "stream",
          "text": [
            "DQN Trader bought:  $ 29.100000\n"
          ],
          "name": "stdout"
        },
        {
          "output_type": "stream",
          "text": [
            "\n",
            " 24%|██▍       | 301/1256 [13:32<42:57,  2.70s/it]\u001b[A"
          ],
          "name": "stderr"
        },
        {
          "output_type": "stream",
          "text": [
            "DQN Trader bought:  $ 29.120001\n"
          ],
          "name": "stdout"
        },
        {
          "output_type": "stream",
          "text": [
            "\n",
            " 24%|██▍       | 302/1256 [13:34<42:44,  2.69s/it]\u001b[A"
          ],
          "name": "stderr"
        },
        {
          "output_type": "stream",
          "text": [
            "DQN Trader bought:  $ 29.129999\n"
          ],
          "name": "stdout"
        },
        {
          "output_type": "stream",
          "text": [
            "\n",
            " 24%|██▍       | 303/1256 [13:37<42:33,  2.68s/it]\u001b[A"
          ],
          "name": "stderr"
        },
        {
          "output_type": "stream",
          "text": [
            "DQN Trader sold:  $ 28.750000  Profit: - $ 0.719999\n"
          ],
          "name": "stdout"
        },
        {
          "output_type": "stream",
          "text": [
            "\n",
            " 24%|██▍       | 304/1256 [13:40<42:18,  2.67s/it]\u001b[A\n",
            " 24%|██▍       | 305/1256 [13:42<42:03,  2.65s/it]\u001b[A"
          ],
          "name": "stderr"
        },
        {
          "output_type": "stream",
          "text": [
            "DQN Trader bought:  $ 29.299999\n"
          ],
          "name": "stdout"
        },
        {
          "output_type": "stream",
          "text": [
            "\n",
            " 24%|██▍       | 306/1256 [13:45<42:39,  2.69s/it]\u001b[A"
          ],
          "name": "stderr"
        },
        {
          "output_type": "stream",
          "text": [
            "DQN Trader sold:  $ 29.799999  Profit: - $ 0.110001\n"
          ],
          "name": "stdout"
        },
        {
          "output_type": "stream",
          "text": [
            "\n",
            " 24%|██▍       | 307/1256 [13:48<42:33,  2.69s/it]\u001b[A"
          ],
          "name": "stderr"
        },
        {
          "output_type": "stream",
          "text": [
            "DQN Trader sold:  $ 29.629999  Profit: - $ 0.260000\n"
          ],
          "name": "stdout"
        },
        {
          "output_type": "stream",
          "text": [
            "\n",
            " 25%|██▍       | 308/1256 [13:50<42:23,  2.68s/it]\u001b[A"
          ],
          "name": "stderr"
        },
        {
          "output_type": "stream",
          "text": [
            "DQN Trader sold:  $ 30.040001  Profit: $ 0.380001\n"
          ],
          "name": "stdout"
        },
        {
          "output_type": "stream",
          "text": [
            "\n",
            " 25%|██▍       | 309/1256 [13:53<42:11,  2.67s/it]\u001b[A"
          ],
          "name": "stderr"
        },
        {
          "output_type": "stream",
          "text": [
            "DQN Trader bought:  $ 30.070000\n"
          ],
          "name": "stdout"
        },
        {
          "output_type": "stream",
          "text": [
            "\n",
            " 25%|██▍       | 310/1256 [13:56<42:11,  2.68s/it]\u001b[A"
          ],
          "name": "stderr"
        },
        {
          "output_type": "stream",
          "text": [
            "DQN Trader bought:  $ 30.170000\n"
          ],
          "name": "stdout"
        },
        {
          "output_type": "stream",
          "text": [
            "\n",
            " 25%|██▍       | 311/1256 [13:58<42:02,  2.67s/it]\u001b[A"
          ],
          "name": "stderr"
        },
        {
          "output_type": "stream",
          "text": [
            "DQN Trader bought:  $ 29.290001\n"
          ],
          "name": "stdout"
        },
        {
          "output_type": "stream",
          "text": [
            "\n",
            " 25%|██▍       | 312/1256 [14:01<42:31,  2.70s/it]\u001b[A"
          ],
          "name": "stderr"
        },
        {
          "output_type": "stream",
          "text": [
            "DQN Trader sold:  $ 29.440001  Profit: - $ 0.219999\n"
          ],
          "name": "stdout"
        },
        {
          "output_type": "stream",
          "text": [
            "\n",
            " 25%|██▍       | 313/1256 [14:04<42:16,  2.69s/it]\u001b[A"
          ],
          "name": "stderr"
        },
        {
          "output_type": "stream",
          "text": [
            "DQN Trader sold:  $ 29.620001  Profit: $ 0.070002\n"
          ],
          "name": "stdout"
        },
        {
          "output_type": "stream",
          "text": [
            "\n",
            " 25%|██▌       | 314/1256 [14:06<42:15,  2.69s/it]\u001b[A"
          ],
          "name": "stderr"
        },
        {
          "output_type": "stream",
          "text": [
            "DQN Trader bought:  $ 29.490000\n"
          ],
          "name": "stdout"
        },
        {
          "output_type": "stream",
          "text": [
            "\n",
            " 25%|██▌       | 315/1256 [14:09<41:57,  2.68s/it]\u001b[A"
          ],
          "name": "stderr"
        },
        {
          "output_type": "stream",
          "text": [
            "DQN Trader bought:  $ 29.629999\n"
          ],
          "name": "stdout"
        },
        {
          "output_type": "stream",
          "text": [
            "\n",
            " 25%|██▌       | 316/1256 [14:12<41:45,  2.67s/it]\u001b[A"
          ],
          "name": "stderr"
        },
        {
          "output_type": "stream",
          "text": [
            "DQN Trader sold:  $ 30.070000  Profit: $ 0.379999\n"
          ],
          "name": "stdout"
        },
        {
          "output_type": "stream",
          "text": [
            "\n",
            " 25%|██▌       | 317/1256 [14:14<41:33,  2.66s/it]\u001b[A"
          ],
          "name": "stderr"
        },
        {
          "output_type": "stream",
          "text": [
            "DQN Trader bought:  $ 30.330000\n"
          ],
          "name": "stdout"
        },
        {
          "output_type": "stream",
          "text": [
            "\n",
            " 25%|██▌       | 318/1256 [14:17<42:13,  2.70s/it]\u001b[A"
          ],
          "name": "stderr"
        },
        {
          "output_type": "stream",
          "text": [
            "DQN Trader bought:  $ 30.820000\n"
          ],
          "name": "stdout"
        },
        {
          "output_type": "stream",
          "text": [
            "\n",
            " 25%|██▌       | 319/1256 [14:20<42:00,  2.69s/it]\u001b[A"
          ],
          "name": "stderr"
        },
        {
          "output_type": "stream",
          "text": [
            "DQN Trader bought:  $ 31.309999\n"
          ],
          "name": "stdout"
        },
        {
          "output_type": "stream",
          "text": [
            "\n",
            " 25%|██▌       | 320/1256 [14:22<41:42,  2.67s/it]\u001b[A"
          ],
          "name": "stderr"
        },
        {
          "output_type": "stream",
          "text": [
            "DQN Trader bought:  $ 31.110001\n"
          ],
          "name": "stdout"
        },
        {
          "output_type": "stream",
          "text": [
            "\n",
            " 26%|██▌       | 321/1256 [14:25<41:37,  2.67s/it]\u001b[A"
          ],
          "name": "stderr"
        },
        {
          "output_type": "stream",
          "text": [
            "DQN Trader bought:  $ 31.250000\n"
          ],
          "name": "stdout"
        },
        {
          "output_type": "stream",
          "text": [
            "\n",
            " 26%|██▌       | 322/1256 [14:28<41:43,  2.68s/it]\u001b[A"
          ],
          "name": "stderr"
        },
        {
          "output_type": "stream",
          "text": [
            "DQN Trader sold:  $ 31.190001  Profit: $ 2.640001\n"
          ],
          "name": "stdout"
        },
        {
          "output_type": "stream",
          "text": [
            "\n",
            " 26%|██▌       | 323/1256 [14:31<42:17,  2.72s/it]\u001b[A"
          ],
          "name": "stderr"
        },
        {
          "output_type": "stream",
          "text": [
            "DQN Trader sold:  $ 30.910000  Profit: $ 2.049999\n"
          ],
          "name": "stdout"
        },
        {
          "output_type": "stream",
          "text": [
            "\n",
            " 26%|██▌       | 324/1256 [14:33<41:59,  2.70s/it]\u001b[A"
          ],
          "name": "stderr"
        },
        {
          "output_type": "stream",
          "text": [
            "DQN Trader sold:  $ 31.080000  Profit: $ 2.059999\n"
          ],
          "name": "stdout"
        },
        {
          "output_type": "stream",
          "text": [
            "\n",
            " 26%|██▌       | 325/1256 [14:36<41:49,  2.70s/it]\u001b[A"
          ],
          "name": "stderr"
        },
        {
          "output_type": "stream",
          "text": [
            "DQN Trader sold:  $ 30.780001  Profit: $ 1.270000\n"
          ],
          "name": "stdout"
        },
        {
          "output_type": "stream",
          "text": [
            "\n",
            " 26%|██▌       | 326/1256 [14:39<41:35,  2.68s/it]\u001b[A"
          ],
          "name": "stderr"
        },
        {
          "output_type": "stream",
          "text": [
            "DQN Trader sold:  $ 30.969999  Profit: $ 1.039999\n"
          ],
          "name": "stdout"
        },
        {
          "output_type": "stream",
          "text": [
            "\n",
            " 26%|██▌       | 327/1256 [14:41<41:15,  2.66s/it]\u001b[A\n",
            " 26%|██▌       | 328/1256 [14:44<41:10,  2.66s/it]\u001b[A"
          ],
          "name": "stderr"
        },
        {
          "output_type": "stream",
          "text": [
            "DQN Trader sold:  $ 30.520000  Profit: $ 0.480000\n"
          ],
          "name": "stdout"
        },
        {
          "output_type": "stream",
          "text": [
            "\n",
            " 26%|██▌       | 329/1256 [14:47<40:59,  2.65s/it]\u001b[A\n",
            " 26%|██▋       | 330/1256 [14:49<41:31,  2.69s/it]\u001b[A"
          ],
          "name": "stderr"
        },
        {
          "output_type": "stream",
          "text": [
            "DQN Trader sold:  $ 30.209999  Profit: $ 0.089998\n"
          ],
          "name": "stdout"
        },
        {
          "output_type": "stream",
          "text": [
            "\n",
            " 26%|██▋       | 331/1256 [14:52<41:13,  2.67s/it]\u001b[A"
          ],
          "name": "stderr"
        },
        {
          "output_type": "stream",
          "text": [
            "DQN Trader sold:  $ 30.709999  Profit: $ 0.809999\n"
          ],
          "name": "stdout"
        },
        {
          "output_type": "stream",
          "text": [
            "\n",
            " 26%|██▋       | 332/1256 [14:55<41:02,  2.67s/it]\u001b[A"
          ],
          "name": "stderr"
        },
        {
          "output_type": "stream",
          "text": [
            "DQN Trader sold:  $ 31.690001  Profit: $ 1.330000\n"
          ],
          "name": "stdout"
        },
        {
          "output_type": "stream",
          "text": [
            "\n",
            " 27%|██▋       | 333/1256 [14:57<41:02,  2.67s/it]\u001b[A"
          ],
          "name": "stderr"
        },
        {
          "output_type": "stream",
          "text": [
            "DQN Trader sold:  $ 31.330000  Profit: $ 1.459999\n"
          ],
          "name": "stdout"
        },
        {
          "output_type": "stream",
          "text": [
            "\n",
            " 27%|██▋       | 334/1256 [15:00<40:55,  2.66s/it]\u001b[A"
          ],
          "name": "stderr"
        },
        {
          "output_type": "stream",
          "text": [
            "DQN Trader sold:  $ 31.750000  Profit: $ 1.590000\n"
          ],
          "name": "stdout"
        },
        {
          "output_type": "stream",
          "text": [
            "\n",
            " 27%|██▋       | 335/1256 [15:03<41:28,  2.70s/it]\u001b[A"
          ],
          "name": "stderr"
        },
        {
          "output_type": "stream",
          "text": [
            "DQN Trader sold:  $ 32.320000  Profit: $ 2.840000\n"
          ],
          "name": "stdout"
        },
        {
          "output_type": "stream",
          "text": [
            "\n",
            " 27%|██▋       | 336/1256 [15:05<41:09,  2.68s/it]\u001b[A"
          ],
          "name": "stderr"
        },
        {
          "output_type": "stream",
          "text": [
            "DQN Trader sold:  $ 32.340000  Profit: $ 3.070000\n"
          ],
          "name": "stdout"
        },
        {
          "output_type": "stream",
          "text": [
            "\n",
            " 27%|██▋       | 337/1256 [15:08<40:54,  2.67s/it]\u001b[A"
          ],
          "name": "stderr"
        },
        {
          "output_type": "stream",
          "text": [
            "DQN Trader sold:  $ 32.330002  Profit: $ 3.020002\n"
          ],
          "name": "stdout"
        },
        {
          "output_type": "stream",
          "text": [
            "\n",
            " 27%|██▋       | 338/1256 [15:11<40:34,  2.65s/it]\u001b[A"
          ],
          "name": "stderr"
        },
        {
          "output_type": "stream",
          "text": [
            "DQN Trader sold:  $ 32.070000  Profit: $ 2.930000\n"
          ],
          "name": "stdout"
        },
        {
          "output_type": "stream",
          "text": [
            "\n",
            " 27%|██▋       | 339/1256 [15:13<40:27,  2.65s/it]\u001b[A"
          ],
          "name": "stderr"
        },
        {
          "output_type": "stream",
          "text": [
            "DQN Trader sold:  $ 31.750000  Profit: $ 3.010000\n"
          ],
          "name": "stdout"
        },
        {
          "output_type": "stream",
          "text": [
            "\n",
            " 27%|██▋       | 340/1256 [15:16<40:19,  2.64s/it]\u001b[A"
          ],
          "name": "stderr"
        },
        {
          "output_type": "stream",
          "text": [
            "DQN Trader sold:  $ 31.920000  Profit: $ 2.870001\n"
          ],
          "name": "stdout"
        },
        {
          "output_type": "stream",
          "text": [
            "\n",
            " 27%|██▋       | 341/1256 [15:19<40:56,  2.68s/it]\u001b[A"
          ],
          "name": "stderr"
        },
        {
          "output_type": "stream",
          "text": [
            "DQN Trader sold:  $ 31.530001  Profit: $ 2.430000\n"
          ],
          "name": "stdout"
        },
        {
          "output_type": "stream",
          "text": [
            "\n",
            " 27%|██▋       | 342/1256 [15:21<40:52,  2.68s/it]\u001b[A"
          ],
          "name": "stderr"
        },
        {
          "output_type": "stream",
          "text": [
            "DQN Trader sold:  $ 31.469999  Profit: $ 2.349998\n"
          ],
          "name": "stdout"
        },
        {
          "output_type": "stream",
          "text": [
            "\n",
            " 27%|██▋       | 343/1256 [15:24<40:36,  2.67s/it]\u001b[A"
          ],
          "name": "stderr"
        },
        {
          "output_type": "stream",
          "text": [
            "DQN Trader sold:  $ 31.580000  Profit: $ 2.450001\n"
          ],
          "name": "stdout"
        },
        {
          "output_type": "stream",
          "text": [
            "\n",
            " 27%|██▋       | 344/1256 [15:27<40:34,  2.67s/it]\u001b[A"
          ],
          "name": "stderr"
        },
        {
          "output_type": "stream",
          "text": [
            "DQN Trader sold:  $ 30.870001  Profit: $ 1.570002\n"
          ],
          "name": "stdout"
        },
        {
          "output_type": "stream",
          "text": [
            "\n",
            " 27%|██▋       | 345/1256 [15:29<40:22,  2.66s/it]\u001b[A"
          ],
          "name": "stderr"
        },
        {
          "output_type": "stream",
          "text": [
            "DQN Trader sold:  $ 30.850000  Profit: $ 0.780001\n"
          ],
          "name": "stdout"
        },
        {
          "output_type": "stream",
          "text": [
            "\n",
            " 28%|██▊       | 346/1256 [15:32<40:15,  2.65s/it]\u001b[A"
          ],
          "name": "stderr"
        },
        {
          "output_type": "stream",
          "text": [
            "DQN Trader sold:  $ 30.850000  Profit: $ 0.680000\n"
          ],
          "name": "stdout"
        },
        {
          "output_type": "stream",
          "text": [
            "\n",
            " 28%|██▊       | 347/1256 [15:35<40:47,  2.69s/it]\u001b[A"
          ],
          "name": "stderr"
        },
        {
          "output_type": "stream",
          "text": [
            "DQN Trader sold:  $ 31.309999  Profit: $ 2.019999\n"
          ],
          "name": "stdout"
        },
        {
          "output_type": "stream",
          "text": [
            "\n",
            " 28%|██▊       | 348/1256 [15:37<40:39,  2.69s/it]\u001b[A"
          ],
          "name": "stderr"
        },
        {
          "output_type": "stream",
          "text": [
            "DQN Trader sold:  $ 31.219999  Profit: $ 1.730000\n"
          ],
          "name": "stdout"
        },
        {
          "output_type": "stream",
          "text": [
            "\n",
            " 28%|██▊       | 349/1256 [15:40<40:28,  2.68s/it]\u001b[A"
          ],
          "name": "stderr"
        },
        {
          "output_type": "stream",
          "text": [
            "DQN Trader sold:  $ 30.980000  Profit: $ 1.350000\n"
          ],
          "name": "stdout"
        },
        {
          "output_type": "stream",
          "text": [
            "\n",
            " 28%|██▊       | 350/1256 [15:43<40:23,  2.67s/it]\u001b[A"
          ],
          "name": "stderr"
        },
        {
          "output_type": "stream",
          "text": [
            "DQN Trader sold:  $ 31.059999  Profit: $ 0.730000\n"
          ],
          "name": "stdout"
        },
        {
          "output_type": "stream",
          "text": [
            "\n",
            " 28%|██▊       | 351/1256 [15:45<40:23,  2.68s/it]\u001b[A"
          ],
          "name": "stderr"
        },
        {
          "output_type": "stream",
          "text": [
            "DQN Trader sold:  $ 31.500000  Profit: $ 0.680000\n"
          ],
          "name": "stdout"
        },
        {
          "output_type": "stream",
          "text": [
            "\n",
            " 28%|██▊       | 352/1256 [15:48<40:30,  2.69s/it]\u001b[A"
          ],
          "name": "stderr"
        },
        {
          "output_type": "stream",
          "text": [
            "DQN Trader sold:  $ 31.209999  Profit: - $ 0.100000\n"
          ],
          "name": "stdout"
        },
        {
          "output_type": "stream",
          "text": [
            "\n",
            " 28%|██▊       | 353/1256 [15:51<41:13,  2.74s/it]\u001b[A"
          ],
          "name": "stderr"
        },
        {
          "output_type": "stream",
          "text": [
            "DQN Trader sold:  $ 31.910000  Profit: $ 0.799999\n"
          ],
          "name": "stdout"
        },
        {
          "output_type": "stream",
          "text": [
            "\n",
            " 28%|██▊       | 354/1256 [15:54<41:01,  2.73s/it]\u001b[A"
          ],
          "name": "stderr"
        },
        {
          "output_type": "stream",
          "text": [
            "DQN Trader sold:  $ 32.410000  Profit: $ 1.160000\n"
          ],
          "name": "stdout"
        },
        {
          "output_type": "stream",
          "text": [
            "\n",
            " 28%|██▊       | 355/1256 [15:56<40:59,  2.73s/it]\u001b[A\n",
            " 28%|██▊       | 356/1256 [15:59<40:34,  2.70s/it]\u001b[A\n",
            " 28%|██▊       | 357/1256 [16:02<40:22,  2.70s/it]\u001b[A\n",
            " 29%|██▊       | 358/1256 [16:04<40:33,  2.71s/it]\u001b[A\n",
            " 29%|██▊       | 359/1256 [16:07<41:21,  2.77s/it]\u001b[A\n",
            " 29%|██▊       | 360/1256 [16:10<40:59,  2.74s/it]\u001b[A\n",
            " 29%|██▊       | 361/1256 [16:13<40:37,  2.72s/it]\u001b[A"
          ],
          "name": "stderr"
        },
        {
          "output_type": "stream",
          "text": [
            "DQN Trader bought:  $ 33.169998\n"
          ],
          "name": "stdout"
        },
        {
          "output_type": "stream",
          "text": [
            "\n",
            " 29%|██▉       | 362/1256 [16:15<40:18,  2.71s/it]\u001b[A"
          ],
          "name": "stderr"
        },
        {
          "output_type": "stream",
          "text": [
            "DQN Trader bought:  $ 33.349998\n"
          ],
          "name": "stdout"
        },
        {
          "output_type": "stream",
          "text": [
            "\n",
            " 29%|██▉       | 363/1256 [16:18<40:11,  2.70s/it]\u001b[A"
          ],
          "name": "stderr"
        },
        {
          "output_type": "stream",
          "text": [
            "DQN Trader sold:  $ 32.930000  Profit: - $ 0.239998\n"
          ],
          "name": "stdout"
        },
        {
          "output_type": "stream",
          "text": [
            "\n",
            " 29%|██▉       | 364/1256 [16:21<40:38,  2.73s/it]\u001b[A"
          ],
          "name": "stderr"
        },
        {
          "output_type": "stream",
          "text": [
            "DQN Trader sold:  $ 33.070000  Profit: - $ 0.279999\n"
          ],
          "name": "stdout"
        },
        {
          "output_type": "stream",
          "text": [
            "\n",
            " 29%|██▉       | 365/1256 [16:24<40:13,  2.71s/it]\u001b[A\n",
            " 29%|██▉       | 366/1256 [16:26<40:10,  2.71s/it]\u001b[A\n",
            " 29%|██▉       | 367/1256 [16:29<39:52,  2.69s/it]\u001b[A\n",
            " 29%|██▉       | 368/1256 [16:32<39:43,  2.68s/it]\u001b[A\n",
            " 29%|██▉       | 369/1256 [16:34<39:34,  2.68s/it]\u001b[A\n",
            " 29%|██▉       | 370/1256 [16:37<40:15,  2.73s/it]\u001b[A\n",
            " 30%|██▉       | 371/1256 [16:40<39:56,  2.71s/it]\u001b[A\n",
            " 30%|██▉       | 372/1256 [16:42<39:43,  2.70s/it]\u001b[A\n",
            " 30%|██▉       | 373/1256 [16:45<39:45,  2.70s/it]\u001b[A\n",
            " 30%|██▉       | 374/1256 [16:48<39:34,  2.69s/it]\u001b[A\n",
            " 30%|██▉       | 375/1256 [16:51<40:03,  2.73s/it]\u001b[A\n",
            " 30%|██▉       | 376/1256 [16:53<39:39,  2.70s/it]\u001b[A"
          ],
          "name": "stderr"
        },
        {
          "output_type": "stream",
          "text": [
            "DQN Trader bought:  $ 31.790001\n"
          ],
          "name": "stdout"
        },
        {
          "output_type": "stream",
          "text": [
            "\n",
            " 30%|███       | 377/1256 [16:56<39:30,  2.70s/it]\u001b[A"
          ],
          "name": "stderr"
        },
        {
          "output_type": "stream",
          "text": [
            "DQN Trader bought:  $ 31.610001\n"
          ],
          "name": "stdout"
        },
        {
          "output_type": "stream",
          "text": [
            "\n",
            " 30%|███       | 378/1256 [16:59<39:30,  2.70s/it]\u001b[A"
          ],
          "name": "stderr"
        },
        {
          "output_type": "stream",
          "text": [
            "DQN Trader bought:  $ 31.790001\n"
          ],
          "name": "stdout"
        },
        {
          "output_type": "stream",
          "text": [
            "\n",
            " 30%|███       | 379/1256 [17:01<39:20,  2.69s/it]\u001b[A"
          ],
          "name": "stderr"
        },
        {
          "output_type": "stream",
          "text": [
            "DQN Trader bought:  $ 32.080002\n"
          ],
          "name": "stdout"
        },
        {
          "output_type": "stream",
          "text": [
            "\n",
            " 30%|███       | 380/1256 [17:04<39:14,  2.69s/it]\u001b[A"
          ],
          "name": "stderr"
        },
        {
          "output_type": "stream",
          "text": [
            "DQN Trader bought:  $ 32.700001\n"
          ],
          "name": "stdout"
        },
        {
          "output_type": "stream",
          "text": [
            "\n",
            " 30%|███       | 381/1256 [17:07<40:09,  2.75s/it]\u001b[A"
          ],
          "name": "stderr"
        },
        {
          "output_type": "stream",
          "text": [
            "DQN Trader sold:  $ 33.070000  Profit: $ 1.279999\n"
          ],
          "name": "stdout"
        },
        {
          "output_type": "stream",
          "text": [
            "\n",
            " 30%|███       | 382/1256 [17:10<40:04,  2.75s/it]\u001b[A"
          ],
          "name": "stderr"
        },
        {
          "output_type": "stream",
          "text": [
            "DQN Trader sold:  $ 33.000000  Profit: $ 1.389999\n"
          ],
          "name": "stdout"
        },
        {
          "output_type": "stream",
          "text": [
            "\n",
            " 30%|███       | 383/1256 [17:12<39:53,  2.74s/it]\u001b[A"
          ],
          "name": "stderr"
        },
        {
          "output_type": "stream",
          "text": [
            "DQN Trader sold:  $ 33.020000  Profit: $ 1.230000\n"
          ],
          "name": "stdout"
        },
        {
          "output_type": "stream",
          "text": [
            "\n",
            " 31%|███       | 384/1256 [17:15<39:52,  2.74s/it]\u001b[A"
          ],
          "name": "stderr"
        },
        {
          "output_type": "stream",
          "text": [
            "DQN Trader sold:  $ 33.070000  Profit: $ 0.989998\n"
          ],
          "name": "stdout"
        },
        {
          "output_type": "stream",
          "text": [
            "\n",
            " 31%|███       | 385/1256 [17:18<39:34,  2.73s/it]\u001b[A"
          ],
          "name": "stderr"
        },
        {
          "output_type": "stream",
          "text": [
            "DQN Trader sold:  $ 33.400002  Profit: $ 0.700001\n"
          ],
          "name": "stdout"
        },
        {
          "output_type": "stream",
          "text": [
            "\n",
            " 31%|███       | 386/1256 [17:20<39:18,  2.71s/it]\u001b[A\n",
            " 31%|███       | 387/1256 [17:23<39:40,  2.74s/it]\u001b[A\n",
            " 31%|███       | 388/1256 [17:26<39:44,  2.75s/it]\u001b[A\n",
            " 31%|███       | 389/1256 [17:29<39:24,  2.73s/it]\u001b[A\n",
            " 31%|███       | 390/1256 [17:31<39:03,  2.71s/it]\u001b[A\n",
            " 31%|███       | 391/1256 [17:34<39:11,  2.72s/it]\u001b[A\n",
            " 31%|███       | 392/1256 [17:37<39:35,  2.75s/it]\u001b[A\n",
            " 31%|███▏      | 393/1256 [17:40<39:44,  2.76s/it]\u001b[A\n",
            " 31%|███▏      | 394/1256 [17:43<40:16,  2.80s/it]\u001b[A\n",
            " 31%|███▏      | 395/1256 [17:45<39:48,  2.77s/it]\u001b[A\n",
            " 32%|███▏      | 396/1256 [17:48<39:14,  2.74s/it]\u001b[A\n",
            " 32%|███▏      | 397/1256 [17:51<38:52,  2.71s/it]\u001b[A\n",
            " 32%|███▏      | 398/1256 [17:53<38:32,  2.69s/it]\u001b[A\n",
            " 32%|███▏      | 399/1256 [17:56<38:18,  2.68s/it]\u001b[A\n",
            " 32%|███▏      | 400/1256 [17:59<38:52,  2.72s/it]\u001b[A\n",
            " 32%|███▏      | 401/1256 [18:01<38:28,  2.70s/it]\u001b[A\n",
            " 32%|███▏      | 402/1256 [18:04<38:13,  2.69s/it]\u001b[A\n",
            " 32%|███▏      | 403/1256 [18:07<38:16,  2.69s/it]\u001b[A\n",
            " 32%|███▏      | 404/1256 [18:09<38:00,  2.68s/it]\u001b[A\n",
            " 32%|███▏      | 405/1256 [18:12<38:23,  2.71s/it]\u001b[A\n",
            " 32%|███▏      | 406/1256 [18:15<38:07,  2.69s/it]\u001b[A\n",
            " 32%|███▏      | 407/1256 [18:18<37:55,  2.68s/it]\u001b[A\n",
            " 32%|███▏      | 408/1256 [18:20<37:56,  2.68s/it]\u001b[A\n",
            " 33%|███▎      | 409/1256 [18:23<37:46,  2.68s/it]\u001b[A\n",
            " 33%|███▎      | 410/1256 [18:26<37:41,  2.67s/it]\u001b[A\n",
            " 33%|███▎      | 411/1256 [18:28<38:18,  2.72s/it]\u001b[A\n",
            " 33%|███▎      | 412/1256 [18:31<38:16,  2.72s/it]\u001b[A\n",
            " 33%|███▎      | 413/1256 [18:34<38:15,  2.72s/it]\u001b[A\n",
            " 33%|███▎      | 414/1256 [18:37<38:02,  2.71s/it]\u001b[A"
          ],
          "name": "stderr"
        },
        {
          "output_type": "stream",
          "text": [
            "DQN Trader bought:  $ 35.240002\n"
          ],
          "name": "stdout"
        },
        {
          "output_type": "stream",
          "text": [
            "\n",
            " 33%|███▎      | 415/1256 [18:39<37:53,  2.70s/it]\u001b[A"
          ],
          "name": "stderr"
        },
        {
          "output_type": "stream",
          "text": [
            "DQN Trader bought:  $ 35.560001\n"
          ],
          "name": "stdout"
        },
        {
          "output_type": "stream",
          "text": [
            "\n",
            " 33%|███▎      | 416/1256 [18:42<38:16,  2.73s/it]\u001b[A"
          ],
          "name": "stderr"
        },
        {
          "output_type": "stream",
          "text": [
            "DQN Trader bought:  $ 35.650002\n"
          ],
          "name": "stdout"
        },
        {
          "output_type": "stream",
          "text": [
            "\n",
            " 33%|███▎      | 417/1256 [18:45<38:01,  2.72s/it]\u001b[A"
          ],
          "name": "stderr"
        },
        {
          "output_type": "stream",
          "text": [
            "DQN Trader bought:  $ 35.439999\n"
          ],
          "name": "stdout"
        },
        {
          "output_type": "stream",
          "text": [
            "\n",
            " 33%|███▎      | 418/1256 [18:47<37:46,  2.70s/it]\u001b[A"
          ],
          "name": "stderr"
        },
        {
          "output_type": "stream",
          "text": [
            "DQN Trader bought:  $ 35.869999\n"
          ],
          "name": "stdout"
        },
        {
          "output_type": "stream",
          "text": [
            "\n",
            " 33%|███▎      | 419/1256 [18:50<37:44,  2.70s/it]\u001b[A"
          ],
          "name": "stderr"
        },
        {
          "output_type": "stream",
          "text": [
            "DQN Trader bought:  $ 36.209999\n"
          ],
          "name": "stdout"
        },
        {
          "output_type": "stream",
          "text": [
            "\n",
            " 33%|███▎      | 420/1256 [18:53<37:28,  2.69s/it]\u001b[A"
          ],
          "name": "stderr"
        },
        {
          "output_type": "stream",
          "text": [
            "DQN Trader bought:  $ 36.130001\n"
          ],
          "name": "stdout"
        },
        {
          "output_type": "stream",
          "text": [
            "\n",
            " 34%|███▎      | 421/1256 [18:55<37:23,  2.69s/it]\u001b[A"
          ],
          "name": "stderr"
        },
        {
          "output_type": "stream",
          "text": [
            "DQN Trader bought:  $ 36.709999\n"
          ],
          "name": "stdout"
        },
        {
          "output_type": "stream",
          "text": [
            "\n",
            " 34%|███▎      | 422/1256 [18:58<37:58,  2.73s/it]\u001b[A"
          ],
          "name": "stderr"
        },
        {
          "output_type": "stream",
          "text": [
            "DQN Trader sold:  $ 36.709999  Profit: $ 1.469997\n"
          ],
          "name": "stdout"
        },
        {
          "output_type": "stream",
          "text": [
            "\n",
            " 34%|███▎      | 423/1256 [19:01<37:40,  2.71s/it]\u001b[A"
          ],
          "name": "stderr"
        },
        {
          "output_type": "stream",
          "text": [
            "DQN Trader bought:  $ 36.730000\n"
          ],
          "name": "stdout"
        },
        {
          "output_type": "stream",
          "text": [
            "\n",
            " 34%|███▍      | 424/1256 [19:04<37:25,  2.70s/it]\u001b[A"
          ],
          "name": "stderr"
        },
        {
          "output_type": "stream",
          "text": [
            "DQN Trader sold:  $ 36.130001  Profit: $ 0.570000\n"
          ],
          "name": "stdout"
        },
        {
          "output_type": "stream",
          "text": [
            "\n",
            " 34%|███▍      | 425/1256 [19:06<37:22,  2.70s/it]\u001b[A"
          ],
          "name": "stderr"
        },
        {
          "output_type": "stream",
          "text": [
            "DQN Trader sold:  $ 35.090000  Profit: - $ 0.560001\n"
          ],
          "name": "stdout"
        },
        {
          "output_type": "stream",
          "text": [
            "\n",
            " 34%|███▍      | 426/1256 [19:09<37:10,  2.69s/it]\u001b[A"
          ],
          "name": "stderr"
        },
        {
          "output_type": "stream",
          "text": [
            "DQN Trader sold:  $ 35.349998  Profit: - $ 0.090000\n"
          ],
          "name": "stdout"
        },
        {
          "output_type": "stream",
          "text": [
            "\n",
            " 34%|███▍      | 427/1256 [19:12<37:09,  2.69s/it]\u001b[A"
          ],
          "name": "stderr"
        },
        {
          "output_type": "stream",
          "text": [
            "DQN Trader sold:  $ 34.810001  Profit: - $ 1.059998\n"
          ],
          "name": "stdout"
        },
        {
          "output_type": "stream",
          "text": [
            "\n",
            " 34%|███▍      | 428/1256 [19:14<37:35,  2.72s/it]\u001b[A"
          ],
          "name": "stderr"
        },
        {
          "output_type": "stream",
          "text": [
            "DQN Trader bought:  $ 34.959999\n"
          ],
          "name": "stdout"
        },
        {
          "output_type": "stream",
          "text": [
            "\n",
            " 34%|███▍      | 429/1256 [19:17<37:17,  2.71s/it]\u001b[A"
          ],
          "name": "stderr"
        },
        {
          "output_type": "stream",
          "text": [
            "DQN Trader sold:  $ 34.880001  Profit: - $ 1.329998\n"
          ],
          "name": "stdout"
        },
        {
          "output_type": "stream",
          "text": [
            "\n",
            " 34%|███▍      | 430/1256 [19:20<37:06,  2.70s/it]\u001b[A"
          ],
          "name": "stderr"
        },
        {
          "output_type": "stream",
          "text": [
            "DQN Trader sold:  $ 34.820000  Profit: - $ 1.310001\n"
          ],
          "name": "stdout"
        },
        {
          "output_type": "stream",
          "text": [
            "\n",
            " 34%|███▍      | 431/1256 [19:22<36:55,  2.68s/it]\u001b[A"
          ],
          "name": "stderr"
        },
        {
          "output_type": "stream",
          "text": [
            "DQN Trader sold:  $ 34.500000  Profit: - $ 2.209999\n"
          ],
          "name": "stdout"
        },
        {
          "output_type": "stream",
          "text": [
            "\n",
            " 34%|███▍      | 432/1256 [19:25<36:45,  2.68s/it]\u001b[A"
          ],
          "name": "stderr"
        },
        {
          "output_type": "stream",
          "text": [
            "DQN Trader sold:  $ 34.630001  Profit: - $ 2.099998\n"
          ],
          "name": "stdout"
        },
        {
          "output_type": "stream",
          "text": [
            "\n",
            " 34%|███▍      | 433/1256 [19:28<36:40,  2.67s/it]\u001b[A"
          ],
          "name": "stderr"
        },
        {
          "output_type": "stream",
          "text": [
            "DQN Trader sold:  $ 35.000000  Profit: $ 0.040001\n"
          ],
          "name": "stdout"
        },
        {
          "output_type": "stream",
          "text": [
            "\n",
            " 35%|███▍      | 434/1256 [19:31<37:09,  2.71s/it]\u001b[A\n",
            " 35%|███▍      | 435/1256 [19:33<36:50,  2.69s/it]\u001b[A\n",
            " 35%|███▍      | 436/1256 [19:36<36:42,  2.69s/it]\u001b[A\n",
            " 35%|███▍      | 437/1256 [19:39<36:40,  2.69s/it]\u001b[A\n",
            " 35%|███▍      | 438/1256 [19:41<36:36,  2.68s/it]\u001b[A\n",
            " 35%|███▍      | 439/1256 [19:44<36:31,  2.68s/it]\u001b[A\n",
            " 35%|███▌      | 440/1256 [19:47<36:54,  2.71s/it]\u001b[A\n",
            " 35%|███▌      | 441/1256 [19:49<36:39,  2.70s/it]\u001b[A\n",
            " 35%|███▌      | 442/1256 [19:52<36:31,  2.69s/it]\u001b[A\n",
            " 35%|███▌      | 443/1256 [19:55<36:21,  2.68s/it]\u001b[A\n",
            " 35%|███▌      | 444/1256 [19:57<36:15,  2.68s/it]\u001b[A\n",
            " 35%|███▌      | 445/1256 [20:00<36:40,  2.71s/it]\u001b[A"
          ],
          "name": "stderr"
        },
        {
          "output_type": "stream",
          "text": [
            "DQN Trader bought:  $ 36.220001\n"
          ],
          "name": "stdout"
        },
        {
          "output_type": "stream",
          "text": [
            "\n",
            " 36%|███▌      | 446/1256 [20:03<36:19,  2.69s/it]\u001b[A"
          ],
          "name": "stderr"
        },
        {
          "output_type": "stream",
          "text": [
            "DQN Trader sold:  $ 36.180000  Profit: - $ 0.040001\n"
          ],
          "name": "stdout"
        },
        {
          "output_type": "stream",
          "text": [
            "\n",
            " 36%|███▌      | 447/1256 [20:05<36:02,  2.67s/it]\u001b[A"
          ],
          "name": "stderr"
        },
        {
          "output_type": "stream",
          "text": [
            "DQN Trader bought:  $ 35.860001\n"
          ],
          "name": "stdout"
        },
        {
          "output_type": "stream",
          "text": [
            "\n",
            " 36%|███▌      | 448/1256 [20:08<35:58,  2.67s/it]\u001b[A"
          ],
          "name": "stderr"
        },
        {
          "output_type": "stream",
          "text": [
            "DQN Trader bought:  $ 35.959999\n"
          ],
          "name": "stdout"
        },
        {
          "output_type": "stream",
          "text": [
            "\n",
            " 36%|███▌      | 449/1256 [20:11<35:45,  2.66s/it]\u001b[A"
          ],
          "name": "stderr"
        },
        {
          "output_type": "stream",
          "text": [
            "DQN Trader sold:  $ 35.840000  Profit: - $ 0.020000\n"
          ],
          "name": "stdout"
        },
        {
          "output_type": "stream",
          "text": [
            "\n",
            " 36%|███▌      | 450/1256 [20:13<35:37,  2.65s/it]\u001b[A"
          ],
          "name": "stderr"
        },
        {
          "output_type": "stream",
          "text": [
            "DQN Trader bought:  $ 36.070000\n"
          ],
          "name": "stdout"
        },
        {
          "output_type": "stream",
          "text": [
            "\n",
            " 36%|███▌      | 451/1256 [20:16<36:07,  2.69s/it]\u001b[A"
          ],
          "name": "stderr"
        },
        {
          "output_type": "stream",
          "text": [
            "DQN Trader bought:  $ 35.790001\n"
          ],
          "name": "stdout"
        },
        {
          "output_type": "stream",
          "text": [
            "\n",
            " 36%|███▌      | 452/1256 [20:19<35:57,  2.68s/it]\u001b[A"
          ],
          "name": "stderr"
        },
        {
          "output_type": "stream",
          "text": [
            "DQN Trader bought:  $ 36.029999\n"
          ],
          "name": "stdout"
        },
        {
          "output_type": "stream",
          "text": [
            "\n",
            " 36%|███▌      | 453/1256 [20:21<35:50,  2.68s/it]\u001b[A"
          ],
          "name": "stderr"
        },
        {
          "output_type": "stream",
          "text": [
            "DQN Trader bought:  $ 36.790001\n"
          ],
          "name": "stdout"
        },
        {
          "output_type": "stream",
          "text": [
            "\n",
            " 36%|███▌      | 454/1256 [20:24<35:39,  2.67s/it]\u001b[A"
          ],
          "name": "stderr"
        },
        {
          "output_type": "stream",
          "text": [
            "DQN Trader bought:  $ 36.700001\n"
          ],
          "name": "stdout"
        },
        {
          "output_type": "stream",
          "text": [
            "\n",
            " 36%|███▌      | 455/1256 [20:27<35:38,  2.67s/it]\u001b[A"
          ],
          "name": "stderr"
        },
        {
          "output_type": "stream",
          "text": [
            "DQN Trader bought:  $ 36.459999\n"
          ],
          "name": "stdout"
        },
        {
          "output_type": "stream",
          "text": [
            "\n",
            " 36%|███▋      | 456/1256 [20:29<35:31,  2.66s/it]\u001b[A"
          ],
          "name": "stderr"
        },
        {
          "output_type": "stream",
          "text": [
            "DQN Trader sold:  $ 35.340000  Profit: - $ 0.619999\n"
          ],
          "name": "stdout"
        },
        {
          "output_type": "stream",
          "text": [
            "\n",
            " 36%|███▋      | 457/1256 [20:32<35:55,  2.70s/it]\u001b[A"
          ],
          "name": "stderr"
        },
        {
          "output_type": "stream",
          "text": [
            "DQN Trader bought:  $ 36.139999\n"
          ],
          "name": "stdout"
        },
        {
          "output_type": "stream",
          "text": [
            "\n",
            " 36%|███▋      | 458/1256 [20:35<35:43,  2.69s/it]\u001b[A"
          ],
          "name": "stderr"
        },
        {
          "output_type": "stream",
          "text": [
            "DQN Trader bought:  $ 36.049999\n"
          ],
          "name": "stdout"
        },
        {
          "output_type": "stream",
          "text": [
            "\n",
            " 37%|███▋      | 459/1256 [20:38<35:34,  2.68s/it]\u001b[A"
          ],
          "name": "stderr"
        },
        {
          "output_type": "stream",
          "text": [
            "DQN Trader bought:  $ 36.419998\n"
          ],
          "name": "stdout"
        },
        {
          "output_type": "stream",
          "text": [
            "\n",
            " 37%|███▋      | 460/1256 [20:40<35:18,  2.66s/it]\u001b[A"
          ],
          "name": "stderr"
        },
        {
          "output_type": "stream",
          "text": [
            "DQN Trader bought:  $ 36.340000\n"
          ],
          "name": "stdout"
        },
        {
          "output_type": "stream",
          "text": [
            "\n",
            " 37%|███▋      | 461/1256 [20:43<35:12,  2.66s/it]\u001b[A"
          ],
          "name": "stderr"
        },
        {
          "output_type": "stream",
          "text": [
            "DQN Trader bought:  $ 35.790001\n"
          ],
          "name": "stdout"
        },
        {
          "output_type": "stream",
          "text": [
            "\n",
            " 37%|███▋      | 462/1256 [20:45<35:04,  2.65s/it]\u001b[A"
          ],
          "name": "stderr"
        },
        {
          "output_type": "stream",
          "text": [
            "DQN Trader bought:  $ 35.860001\n"
          ],
          "name": "stdout"
        },
        {
          "output_type": "stream",
          "text": [
            "\n",
            " 37%|███▋      | 463/1256 [20:48<35:37,  2.70s/it]\u001b[A"
          ],
          "name": "stderr"
        },
        {
          "output_type": "stream",
          "text": [
            "DQN Trader sold:  $ 35.980000  Profit: - $ 0.090000\n"
          ],
          "name": "stdout"
        },
        {
          "output_type": "stream",
          "text": [
            "\n",
            " 37%|███▋      | 464/1256 [20:51<35:25,  2.68s/it]\u001b[A"
          ],
          "name": "stderr"
        },
        {
          "output_type": "stream",
          "text": [
            "DQN Trader bought:  $ 36.520000\n"
          ],
          "name": "stdout"
        },
        {
          "output_type": "stream",
          "text": [
            "\n",
            " 37%|███▋      | 465/1256 [20:54<35:13,  2.67s/it]\u001b[A"
          ],
          "name": "stderr"
        },
        {
          "output_type": "stream",
          "text": [
            "DQN Trader bought:  $ 36.580002\n"
          ],
          "name": "stdout"
        },
        {
          "output_type": "stream",
          "text": [
            "\n",
            " 37%|███▋      | 466/1256 [20:56<35:02,  2.66s/it]\u001b[A"
          ],
          "name": "stderr"
        },
        {
          "output_type": "stream",
          "text": [
            "DQN Trader bought:  $ 36.830002\n"
          ],
          "name": "stdout"
        },
        {
          "output_type": "stream",
          "text": [
            "\n",
            " 37%|███▋      | 467/1256 [20:59<34:53,  2.65s/it]\u001b[A"
          ],
          "name": "stderr"
        },
        {
          "output_type": "stream",
          "text": [
            "DQN Trader bought:  $ 36.849998\n"
          ],
          "name": "stdout"
        },
        {
          "output_type": "stream",
          "text": [
            "\n",
            " 37%|███▋      | 468/1256 [21:01<34:46,  2.65s/it]\u001b[A"
          ],
          "name": "stderr"
        },
        {
          "output_type": "stream",
          "text": [
            "DQN Trader bought:  $ 36.770000\n"
          ],
          "name": "stdout"
        },
        {
          "output_type": "stream",
          "text": [
            "\n",
            " 37%|███▋      | 469/1256 [21:04<35:20,  2.69s/it]\u001b[A"
          ],
          "name": "stderr"
        },
        {
          "output_type": "stream",
          "text": [
            "DQN Trader bought:  $ 36.880001\n"
          ],
          "name": "stdout"
        },
        {
          "output_type": "stream",
          "text": [
            "\n",
            " 37%|███▋      | 470/1256 [21:07<35:14,  2.69s/it]\u001b[A"
          ],
          "name": "stderr"
        },
        {
          "output_type": "stream",
          "text": [
            "DQN Trader bought:  $ 36.930000\n"
          ],
          "name": "stdout"
        },
        {
          "output_type": "stream",
          "text": [
            "\n",
            " 38%|███▊      | 471/1256 [21:10<35:17,  2.70s/it]\u001b[A"
          ],
          "name": "stderr"
        },
        {
          "output_type": "stream",
          "text": [
            "DQN Trader bought:  $ 36.970001\n"
          ],
          "name": "stdout"
        },
        {
          "output_type": "stream",
          "text": [
            "\n",
            " 38%|███▊      | 472/1256 [21:12<35:21,  2.71s/it]\u001b[A"
          ],
          "name": "stderr"
        },
        {
          "output_type": "stream",
          "text": [
            "DQN Trader bought:  $ 37.220001\n"
          ],
          "name": "stdout"
        },
        {
          "output_type": "stream",
          "text": [
            "\n",
            " 38%|███▊      | 473/1256 [21:15<35:17,  2.70s/it]\u001b[A"
          ],
          "name": "stderr"
        },
        {
          "output_type": "stream",
          "text": [
            "DQN Trader bought:  $ 36.849998\n"
          ],
          "name": "stdout"
        },
        {
          "output_type": "stream",
          "text": [
            "\n",
            " 38%|███▊      | 474/1256 [21:18<35:51,  2.75s/it]\u001b[A"
          ],
          "name": "stderr"
        },
        {
          "output_type": "stream",
          "text": [
            "DQN Trader bought:  $ 37.270000\n"
          ],
          "name": "stdout"
        },
        {
          "output_type": "stream",
          "text": [
            "\n",
            " 38%|███▊      | 475/1256 [21:21<35:31,  2.73s/it]\u001b[A\n",
            " 38%|███▊      | 476/1256 [21:23<35:07,  2.70s/it]\u001b[A"
          ],
          "name": "stderr"
        },
        {
          "output_type": "stream",
          "text": [
            "DQN Trader bought:  $ 37.500000\n"
          ],
          "name": "stdout"
        },
        {
          "output_type": "stream",
          "text": [
            "\n",
            " 38%|███▊      | 477/1256 [21:26<34:48,  2.68s/it]\u001b[A"
          ],
          "name": "stderr"
        },
        {
          "output_type": "stream",
          "text": [
            "DQN Trader bought:  $ 37.840000\n"
          ],
          "name": "stdout"
        },
        {
          "output_type": "stream",
          "text": [
            "\n",
            " 38%|███▊      | 478/1256 [21:29<34:38,  2.67s/it]\u001b[A"
          ],
          "name": "stderr"
        },
        {
          "output_type": "stream",
          "text": [
            "DQN Trader bought:  $ 37.860001\n"
          ],
          "name": "stdout"
        },
        {
          "output_type": "stream",
          "text": [
            "\n",
            " 38%|███▊      | 479/1256 [21:31<34:22,  2.65s/it]\u001b[A"
          ],
          "name": "stderr"
        },
        {
          "output_type": "stream",
          "text": [
            "DQN Trader bought:  $ 37.529999\n"
          ],
          "name": "stdout"
        },
        {
          "output_type": "stream",
          "text": [
            "\n",
            " 38%|███▊      | 480/1256 [21:34<34:45,  2.69s/it]\u001b[A"
          ],
          "name": "stderr"
        },
        {
          "output_type": "stream",
          "text": [
            "DQN Trader bought:  $ 37.380001\n"
          ],
          "name": "stdout"
        },
        {
          "output_type": "stream",
          "text": [
            "\n",
            " 38%|███▊      | 481/1256 [21:37<34:39,  2.68s/it]\u001b[A"
          ],
          "name": "stderr"
        },
        {
          "output_type": "stream",
          "text": [
            "DQN Trader bought:  $ 37.650002\n"
          ],
          "name": "stdout"
        },
        {
          "output_type": "stream",
          "text": [
            "\n",
            " 38%|███▊      | 482/1256 [21:39<34:22,  2.66s/it]\u001b[A"
          ],
          "name": "stderr"
        },
        {
          "output_type": "stream",
          "text": [
            "DQN Trader bought:  $ 38.070000\n"
          ],
          "name": "stdout"
        },
        {
          "output_type": "stream",
          "text": [
            "\n",
            " 38%|███▊      | 483/1256 [21:42<34:13,  2.66s/it]\u001b[A"
          ],
          "name": "stderr"
        },
        {
          "output_type": "stream",
          "text": [
            "DQN Trader bought:  $ 38.299999\n"
          ],
          "name": "stdout"
        },
        {
          "output_type": "stream",
          "text": [
            "\n",
            " 39%|███▊      | 484/1256 [21:45<34:10,  2.66s/it]\u001b[A"
          ],
          "name": "stderr"
        },
        {
          "output_type": "stream",
          "text": [
            "DQN Trader bought:  $ 37.820000\n"
          ],
          "name": "stdout"
        },
        {
          "output_type": "stream",
          "text": [
            "\n",
            " 39%|███▊      | 485/1256 [21:47<34:02,  2.65s/it]\u001b[A"
          ],
          "name": "stderr"
        },
        {
          "output_type": "stream",
          "text": [
            "DQN Trader bought:  $ 38.240002\n"
          ],
          "name": "stdout"
        },
        {
          "output_type": "stream",
          "text": [
            "\n",
            " 39%|███▊      | 486/1256 [21:50<34:30,  2.69s/it]\u001b[A"
          ],
          "name": "stderr"
        },
        {
          "output_type": "stream",
          "text": [
            "DQN Trader bought:  $ 37.770000\n"
          ],
          "name": "stdout"
        },
        {
          "output_type": "stream",
          "text": [
            "\n",
            " 39%|███▉      | 487/1256 [21:53<34:13,  2.67s/it]\u001b[A"
          ],
          "name": "stderr"
        },
        {
          "output_type": "stream",
          "text": [
            "DQN Trader bought:  $ 37.070000\n"
          ],
          "name": "stdout"
        },
        {
          "output_type": "stream",
          "text": [
            "\n",
            " 39%|███▉      | 488/1256 [21:55<34:05,  2.66s/it]\u001b[A"
          ],
          "name": "stderr"
        },
        {
          "output_type": "stream",
          "text": [
            "DQN Trader bought:  $ 37.139999\n"
          ],
          "name": "stdout"
        },
        {
          "output_type": "stream",
          "text": [
            "\n",
            " 39%|███▉      | 489/1256 [21:58<34:00,  2.66s/it]\u001b[A"
          ],
          "name": "stderr"
        },
        {
          "output_type": "stream",
          "text": [
            "DQN Trader bought:  $ 37.250000\n"
          ],
          "name": "stdout"
        },
        {
          "output_type": "stream",
          "text": [
            "\n",
            " 39%|███▉      | 490/1256 [22:00<33:44,  2.64s/it]\u001b[A"
          ],
          "name": "stderr"
        },
        {
          "output_type": "stream",
          "text": [
            "DQN Trader bought:  $ 37.049999\n"
          ],
          "name": "stdout"
        },
        {
          "output_type": "stream",
          "text": [
            "\n",
            " 39%|███▉      | 491/1256 [22:03<33:41,  2.64s/it]\u001b[A"
          ],
          "name": "stderr"
        },
        {
          "output_type": "stream",
          "text": [
            "DQN Trader bought:  $ 37.549999\n"
          ],
          "name": "stdout"
        },
        {
          "output_type": "stream",
          "text": [
            "\n",
            " 39%|███▉      | 492/1256 [22:06<34:10,  2.68s/it]\u001b[A"
          ],
          "name": "stderr"
        },
        {
          "output_type": "stream",
          "text": [
            "DQN Trader bought:  $ 38.130001\n"
          ],
          "name": "stdout"
        },
        {
          "output_type": "stream",
          "text": [
            "\n",
            " 39%|███▉      | 493/1256 [22:09<33:59,  2.67s/it]\u001b[A"
          ],
          "name": "stderr"
        },
        {
          "output_type": "stream",
          "text": [
            "DQN Trader bought:  $ 38.439999\n"
          ],
          "name": "stdout"
        },
        {
          "output_type": "stream",
          "text": [
            "\n",
            " 39%|███▉      | 494/1256 [22:11<33:54,  2.67s/it]\u001b[A"
          ],
          "name": "stderr"
        },
        {
          "output_type": "stream",
          "text": [
            "DQN Trader bought:  $ 38.270000\n"
          ],
          "name": "stdout"
        },
        {
          "output_type": "stream",
          "text": [
            "\n",
            " 39%|███▉      | 495/1256 [22:14<33:52,  2.67s/it]\u001b[A\n",
            " 39%|███▉      | 496/1256 [22:17<33:46,  2.67s/it]\u001b[A"
          ],
          "name": "stderr"
        },
        {
          "output_type": "stream",
          "text": [
            "DQN Trader bought:  $ 38.459999\n"
          ],
          "name": "stdout"
        },
        {
          "output_type": "stream",
          "text": [
            "\n",
            " 40%|███▉      | 497/1256 [22:19<34:30,  2.73s/it]\u001b[A"
          ],
          "name": "stderr"
        },
        {
          "output_type": "stream",
          "text": [
            "DQN Trader bought:  $ 38.770000\n"
          ],
          "name": "stdout"
        },
        {
          "output_type": "stream",
          "text": [
            "\n",
            " 40%|███▉      | 498/1256 [22:22<34:21,  2.72s/it]\u001b[A"
          ],
          "name": "stderr"
        },
        {
          "output_type": "stream",
          "text": [
            "DQN Trader bought:  $ 38.970001\n"
          ],
          "name": "stdout"
        },
        {
          "output_type": "stream",
          "text": [
            "\n",
            " 40%|███▉      | 499/1256 [22:25<34:17,  2.72s/it]\u001b[A"
          ],
          "name": "stderr"
        },
        {
          "output_type": "stream",
          "text": [
            "DQN Trader bought:  $ 40.349998\n"
          ],
          "name": "stdout"
        },
        {
          "output_type": "stream",
          "text": [
            "\n",
            " 40%|███▉      | 500/1256 [22:28<34:08,  2.71s/it]\u001b[A"
          ],
          "name": "stderr"
        },
        {
          "output_type": "stream",
          "text": [
            "DQN Trader bought:  $ 40.439999\n"
          ],
          "name": "stdout"
        },
        {
          "output_type": "stream",
          "text": [
            "\n",
            " 40%|███▉      | 501/1256 [22:30<33:56,  2.70s/it]\u001b[A"
          ],
          "name": "stderr"
        },
        {
          "output_type": "stream",
          "text": [
            "DQN Trader bought:  $ 40.820000\n"
          ],
          "name": "stdout"
        },
        {
          "output_type": "stream",
          "text": [
            "\n",
            " 40%|███▉      | 502/1256 [22:33<33:50,  2.69s/it]\u001b[A"
          ],
          "name": "stderr"
        },
        {
          "output_type": "stream",
          "text": [
            "DQN Trader bought:  $ 40.889999\n"
          ],
          "name": "stdout"
        },
        {
          "output_type": "stream",
          "text": [
            "\n",
            " 40%|████      | 503/1256 [22:36<34:17,  2.73s/it]\u001b[A"
          ],
          "name": "stderr"
        },
        {
          "output_type": "stream",
          "text": [
            "DQN Trader bought:  $ 41.250000\n"
          ],
          "name": "stdout"
        },
        {
          "output_type": "stream",
          "text": [
            "\n",
            " 40%|████      | 504/1256 [22:38<34:10,  2.73s/it]\u001b[A"
          ],
          "name": "stderr"
        },
        {
          "output_type": "stream",
          "text": [
            "DQN Trader bought:  $ 41.500000\n"
          ],
          "name": "stdout"
        },
        {
          "output_type": "stream",
          "text": [
            "\n",
            " 40%|████      | 505/1256 [22:41<33:55,  2.71s/it]\u001b[A"
          ],
          "name": "stderr"
        },
        {
          "output_type": "stream",
          "text": [
            "DQN Trader bought:  $ 41.070000\n"
          ],
          "name": "stdout"
        },
        {
          "output_type": "stream",
          "text": [
            "\n",
            " 40%|████      | 506/1256 [22:44<33:47,  2.70s/it]\u001b[A"
          ],
          "name": "stderr"
        },
        {
          "output_type": "stream",
          "text": [
            "DQN Trader bought:  $ 41.119999\n"
          ],
          "name": "stdout"
        },
        {
          "output_type": "stream",
          "text": [
            "\n",
            " 40%|████      | 507/1256 [22:47<34:01,  2.73s/it]\u001b[A"
          ],
          "name": "stderr"
        },
        {
          "output_type": "stream",
          "text": [
            "DQN Trader bought:  $ 41.209999\n"
          ],
          "name": "stdout"
        },
        {
          "output_type": "stream",
          "text": [
            "\n",
            " 40%|████      | 508/1256 [22:49<34:09,  2.74s/it]\u001b[A"
          ],
          "name": "stderr"
        },
        {
          "output_type": "stream",
          "text": [
            "DQN Trader bought:  $ 41.320000\n"
          ],
          "name": "stdout"
        },
        {
          "output_type": "stream",
          "text": [
            "\n",
            " 41%|████      | 509/1256 [22:52<34:46,  2.79s/it]\u001b[A"
          ],
          "name": "stderr"
        },
        {
          "output_type": "stream",
          "text": [
            "DQN Trader bought:  $ 41.160000\n"
          ],
          "name": "stdout"
        },
        {
          "output_type": "stream",
          "text": [
            "\n",
            " 41%|████      | 510/1256 [22:55<34:41,  2.79s/it]\u001b[A"
          ],
          "name": "stderr"
        },
        {
          "output_type": "stream",
          "text": [
            "DQN Trader bought:  $ 41.200001\n"
          ],
          "name": "stdout"
        },
        {
          "output_type": "stream",
          "text": [
            "\n",
            " 41%|████      | 511/1256 [22:58<34:14,  2.76s/it]\u001b[A"
          ],
          "name": "stderr"
        },
        {
          "output_type": "stream",
          "text": [
            "DQN Trader bought:  $ 42.150002\n"
          ],
          "name": "stdout"
        },
        {
          "output_type": "stream",
          "text": [
            "\n",
            " 41%|████      | 512/1256 [23:00<33:56,  2.74s/it]\u001b[A"
          ],
          "name": "stderr"
        },
        {
          "output_type": "stream",
          "text": [
            "DQN Trader bought:  $ 42.130001\n"
          ],
          "name": "stdout"
        },
        {
          "output_type": "stream",
          "text": [
            "\n",
            " 41%|████      | 513/1256 [23:03<33:33,  2.71s/it]\u001b[A"
          ],
          "name": "stderr"
        },
        {
          "output_type": "stream",
          "text": [
            "DQN Trader bought:  $ 42.330002\n"
          ],
          "name": "stdout"
        },
        {
          "output_type": "stream",
          "text": [
            "\n",
            " 41%|████      | 514/1256 [23:06<33:26,  2.70s/it]\u001b[A"
          ],
          "name": "stderr"
        },
        {
          "output_type": "stream",
          "text": [
            "DQN Trader bought:  $ 42.099998\n"
          ],
          "name": "stdout"
        },
        {
          "output_type": "stream",
          "text": [
            "\n",
            " 41%|████      | 515/1256 [23:09<33:48,  2.74s/it]\u001b[A"
          ],
          "name": "stderr"
        },
        {
          "output_type": "stream",
          "text": [
            "DQN Trader bought:  $ 42.150002\n"
          ],
          "name": "stdout"
        },
        {
          "output_type": "stream",
          "text": [
            "\n",
            " 41%|████      | 516/1256 [23:11<33:25,  2.71s/it]\u001b[A"
          ],
          "name": "stderr"
        },
        {
          "output_type": "stream",
          "text": [
            "DQN Trader bought:  $ 42.189999\n"
          ],
          "name": "stdout"
        },
        {
          "output_type": "stream",
          "text": [
            "\n",
            " 41%|████      | 517/1256 [23:14<33:12,  2.70s/it]\u001b[A"
          ],
          "name": "stderr"
        },
        {
          "output_type": "stream",
          "text": [
            "DQN Trader bought:  $ 42.430000\n"
          ],
          "name": "stdout"
        },
        {
          "output_type": "stream",
          "text": [
            "\n",
            " 41%|████      | 518/1256 [23:17<33:12,  2.70s/it]\u001b[A"
          ],
          "name": "stderr"
        },
        {
          "output_type": "stream",
          "text": [
            "DQN Trader bought:  $ 42.509998\n"
          ],
          "name": "stdout"
        },
        {
          "output_type": "stream",
          "text": [
            "\n",
            " 41%|████▏     | 519/1256 [23:19<32:55,  2.68s/it]\u001b[A"
          ],
          "name": "stderr"
        },
        {
          "output_type": "stream",
          "text": [
            "DQN Trader bought:  $ 42.430000\n"
          ],
          "name": "stdout"
        },
        {
          "output_type": "stream",
          "text": [
            "\n",
            " 41%|████▏     | 520/1256 [23:22<32:57,  2.69s/it]\u001b[A"
          ],
          "name": "stderr"
        },
        {
          "output_type": "stream",
          "text": [
            "DQN Trader bought:  $ 41.639999\n"
          ],
          "name": "stdout"
        },
        {
          "output_type": "stream",
          "text": [
            "\n",
            " 41%|████▏     | 521/1256 [23:25<33:25,  2.73s/it]\u001b[A"
          ],
          "name": "stderr"
        },
        {
          "output_type": "stream",
          "text": [
            "DQN Trader bought:  $ 41.720001\n"
          ],
          "name": "stdout"
        },
        {
          "output_type": "stream",
          "text": [
            "\n",
            " 42%|████▏     | 522/1256 [23:27<33:17,  2.72s/it]\u001b[A"
          ],
          "name": "stderr"
        },
        {
          "output_type": "stream",
          "text": [
            "DQN Trader bought:  $ 42.009998\n"
          ],
          "name": "stdout"
        },
        {
          "output_type": "stream",
          "text": [
            "\n",
            " 42%|████▏     | 523/1256 [23:30<33:05,  2.71s/it]\u001b[A"
          ],
          "name": "stderr"
        },
        {
          "output_type": "stream",
          "text": [
            "DQN Trader bought:  $ 41.860001\n"
          ],
          "name": "stdout"
        },
        {
          "output_type": "stream",
          "text": [
            "\n",
            " 42%|████▏     | 524/1256 [23:33<32:52,  2.70s/it]\u001b[A"
          ],
          "name": "stderr"
        },
        {
          "output_type": "stream",
          "text": [
            "DQN Trader bought:  $ 41.540001\n"
          ],
          "name": "stdout"
        },
        {
          "output_type": "stream",
          "text": [
            "\n",
            " 42%|████▏     | 525/1256 [23:35<32:37,  2.68s/it]\u001b[A"
          ],
          "name": "stderr"
        },
        {
          "output_type": "stream",
          "text": [
            "DQN Trader bought:  $ 42.099998\n"
          ],
          "name": "stdout"
        },
        {
          "output_type": "stream",
          "text": [
            "\n",
            " 42%|████▏     | 526/1256 [23:38<33:08,  2.72s/it]\u001b[A"
          ],
          "name": "stderr"
        },
        {
          "output_type": "stream",
          "text": [
            "DQN Trader bought:  $ 42.070000\n"
          ],
          "name": "stdout"
        },
        {
          "output_type": "stream",
          "text": [
            "\n",
            " 42%|████▏     | 527/1256 [23:41<33:02,  2.72s/it]\u001b[A"
          ],
          "name": "stderr"
        },
        {
          "output_type": "stream",
          "text": [
            "DQN Trader bought:  $ 42.209999\n"
          ],
          "name": "stdout"
        },
        {
          "output_type": "stream",
          "text": [
            "\n",
            " 42%|████▏     | 528/1256 [23:44<32:40,  2.69s/it]\u001b[A"
          ],
          "name": "stderr"
        },
        {
          "output_type": "stream",
          "text": [
            "DQN Trader bought:  $ 42.580002\n"
          ],
          "name": "stdout"
        },
        {
          "output_type": "stream",
          "text": [
            "\n",
            " 42%|████▏     | 529/1256 [23:46<32:31,  2.68s/it]\u001b[A"
          ],
          "name": "stderr"
        },
        {
          "output_type": "stream",
          "text": [
            "DQN Trader bought:  $ 42.410000\n"
          ],
          "name": "stdout"
        },
        {
          "output_type": "stream",
          "text": [
            "\n",
            " 42%|████▏     | 530/1256 [23:49<32:24,  2.68s/it]\u001b[A"
          ],
          "name": "stderr"
        },
        {
          "output_type": "stream",
          "text": [
            "DQN Trader bought:  $ 42.990002\n"
          ],
          "name": "stdout"
        },
        {
          "output_type": "stream",
          "text": [
            "\n",
            " 42%|████▏     | 531/1256 [23:52<32:24,  2.68s/it]\u001b[A"
          ],
          "name": "stderr"
        },
        {
          "output_type": "stream",
          "text": [
            "DQN Trader bought:  $ 41.090000\n"
          ],
          "name": "stdout"
        },
        {
          "output_type": "stream",
          "text": [
            "\n",
            " 42%|████▏     | 532/1256 [23:54<33:05,  2.74s/it]\u001b[A"
          ],
          "name": "stderr"
        },
        {
          "output_type": "stream",
          "text": [
            "DQN Trader bought:  $ 40.930000\n"
          ],
          "name": "stdout"
        },
        {
          "output_type": "stream",
          "text": [
            "\n",
            " 42%|████▏     | 533/1256 [23:57<32:59,  2.74s/it]\u001b[A"
          ],
          "name": "stderr"
        },
        {
          "output_type": "stream",
          "text": [
            "DQN Trader bought:  $ 39.410000\n"
          ],
          "name": "stdout"
        },
        {
          "output_type": "stream",
          "text": [
            "\n",
            " 43%|████▎     | 534/1256 [24:00<32:43,  2.72s/it]\u001b[A"
          ],
          "name": "stderr"
        },
        {
          "output_type": "stream",
          "text": [
            "DQN Trader bought:  $ 39.599998\n"
          ],
          "name": "stdout"
        },
        {
          "output_type": "stream",
          "text": [
            "\n",
            " 43%|████▎     | 535/1256 [24:03<32:23,  2.70s/it]\u001b[A"
          ],
          "name": "stderr"
        },
        {
          "output_type": "stream",
          "text": [
            "DQN Trader bought:  $ 39.700001\n"
          ],
          "name": "stdout"
        },
        {
          "output_type": "stream",
          "text": [
            "\n",
            " 43%|████▎     | 536/1256 [24:05<32:13,  2.69s/it]\u001b[A"
          ],
          "name": "stderr"
        },
        {
          "output_type": "stream",
          "text": [
            "DQN Trader bought:  $ 39.389999\n"
          ],
          "name": "stdout"
        },
        {
          "output_type": "stream",
          "text": [
            "\n",
            " 43%|████▎     | 537/1256 [24:08<32:08,  2.68s/it]\u001b[A"
          ],
          "name": "stderr"
        },
        {
          "output_type": "stream",
          "text": [
            "DQN Trader bought:  $ 39.200001\n"
          ],
          "name": "stdout"
        },
        {
          "output_type": "stream",
          "text": [
            "\n",
            " 43%|████▎     | 538/1256 [24:11<32:29,  2.71s/it]\u001b[A"
          ],
          "name": "stderr"
        },
        {
          "output_type": "stream",
          "text": [
            "DQN Trader bought:  $ 38.680000\n"
          ],
          "name": "stdout"
        },
        {
          "output_type": "stream",
          "text": [
            "\n",
            " 43%|████▎     | 539/1256 [24:13<32:14,  2.70s/it]\u001b[A"
          ],
          "name": "stderr"
        },
        {
          "output_type": "stream",
          "text": [
            "DQN Trader bought:  $ 39.009998\n"
          ],
          "name": "stdout"
        },
        {
          "output_type": "stream",
          "text": [
            "\n",
            " 43%|████▎     | 540/1256 [24:16<32:05,  2.69s/it]\u001b[A"
          ],
          "name": "stderr"
        },
        {
          "output_type": "stream",
          "text": [
            "DQN Trader bought:  $ 39.000000\n"
          ],
          "name": "stdout"
        },
        {
          "output_type": "stream",
          "text": [
            "\n",
            " 43%|████▎     | 541/1256 [24:19<31:54,  2.68s/it]\u001b[A"
          ],
          "name": "stderr"
        },
        {
          "output_type": "stream",
          "text": [
            "DQN Trader bought:  $ 39.369999\n"
          ],
          "name": "stdout"
        },
        {
          "output_type": "stream",
          "text": [
            "\n",
            " 43%|████▎     | 542/1256 [24:21<31:51,  2.68s/it]\u001b[A"
          ],
          "name": "stderr"
        },
        {
          "output_type": "stream",
          "text": [
            "DQN Trader bought:  $ 39.299999\n"
          ],
          "name": "stdout"
        },
        {
          "output_type": "stream",
          "text": [
            "\n",
            " 43%|████▎     | 543/1256 [24:24<31:44,  2.67s/it]\u001b[A"
          ],
          "name": "stderr"
        },
        {
          "output_type": "stream",
          "text": [
            "DQN Trader bought:  $ 39.290001\n"
          ],
          "name": "stdout"
        },
        {
          "output_type": "stream",
          "text": [
            "\n",
            " 43%|████▎     | 544/1256 [24:27<32:18,  2.72s/it]\u001b[A"
          ],
          "name": "stderr"
        },
        {
          "output_type": "stream",
          "text": [
            "DQN Trader bought:  $ 39.400002\n"
          ],
          "name": "stdout"
        },
        {
          "output_type": "stream",
          "text": [
            "\n",
            " 43%|████▎     | 545/1256 [24:29<32:07,  2.71s/it]\u001b[A"
          ],
          "name": "stderr"
        },
        {
          "output_type": "stream",
          "text": [
            "DQN Trader bought:  $ 39.500000\n"
          ],
          "name": "stdout"
        },
        {
          "output_type": "stream",
          "text": [
            "\n",
            " 43%|████▎     | 546/1256 [24:32<31:51,  2.69s/it]\u001b[A"
          ],
          "name": "stderr"
        },
        {
          "output_type": "stream",
          "text": [
            "DQN Trader bought:  $ 39.400002\n"
          ],
          "name": "stdout"
        },
        {
          "output_type": "stream",
          "text": [
            "\n",
            " 44%|████▎     | 547/1256 [24:35<31:41,  2.68s/it]\u001b[A"
          ],
          "name": "stderr"
        },
        {
          "output_type": "stream",
          "text": [
            "DQN Trader bought:  $ 39.340000\n"
          ],
          "name": "stdout"
        },
        {
          "output_type": "stream",
          "text": [
            "\n",
            " 44%|████▎     | 548/1256 [24:37<31:38,  2.68s/it]\u001b[A"
          ],
          "name": "stderr"
        },
        {
          "output_type": "stream",
          "text": [
            "DQN Trader bought:  $ 39.439999\n"
          ],
          "name": "stdout"
        },
        {
          "output_type": "stream",
          "text": [
            "\n",
            " 44%|████▎     | 549/1256 [24:40<32:03,  2.72s/it]\u001b[A"
          ],
          "name": "stderr"
        },
        {
          "output_type": "stream",
          "text": [
            "DQN Trader bought:  $ 39.230000\n"
          ],
          "name": "stdout"
        },
        {
          "output_type": "stream",
          "text": [
            "\n",
            " 44%|████▍     | 550/1256 [24:43<31:51,  2.71s/it]\u001b[A"
          ],
          "name": "stderr"
        },
        {
          "output_type": "stream",
          "text": [
            "DQN Trader bought:  $ 39.630001\n"
          ],
          "name": "stdout"
        },
        {
          "output_type": "stream",
          "text": [
            "\n",
            " 44%|████▍     | 551/1256 [24:46<31:38,  2.69s/it]\u001b[A"
          ],
          "name": "stderr"
        },
        {
          "output_type": "stream",
          "text": [
            "DQN Trader bought:  $ 38.950001\n"
          ],
          "name": "stdout"
        },
        {
          "output_type": "stream",
          "text": [
            "\n",
            " 44%|████▍     | 552/1256 [24:48<31:27,  2.68s/it]\u001b[A"
          ],
          "name": "stderr"
        },
        {
          "output_type": "stream",
          "text": [
            "DQN Trader bought:  $ 39.080002\n"
          ],
          "name": "stdout"
        },
        {
          "output_type": "stream",
          "text": [
            "\n",
            " 44%|████▍     | 553/1256 [24:51<31:23,  2.68s/it]\u001b[A"
          ],
          "name": "stderr"
        },
        {
          "output_type": "stream",
          "text": [
            "DQN Trader bought:  $ 39.740002\n"
          ],
          "name": "stdout"
        },
        {
          "output_type": "stream",
          "text": [
            "\n",
            " 44%|████▍     | 554/1256 [24:54<31:17,  2.67s/it]\u001b[A"
          ],
          "name": "stderr"
        },
        {
          "output_type": "stream",
          "text": [
            "DQN Trader bought:  $ 39.650002\n"
          ],
          "name": "stdout"
        },
        {
          "output_type": "stream",
          "text": [
            "\n",
            " 44%|████▍     | 555/1256 [24:56<31:44,  2.72s/it]\u001b[A"
          ],
          "name": "stderr"
        },
        {
          "output_type": "stream",
          "text": [
            "DQN Trader bought:  $ 41.020000\n"
          ],
          "name": "stdout"
        },
        {
          "output_type": "stream",
          "text": [
            "\n",
            " 44%|████▍     | 556/1256 [24:59<31:46,  2.72s/it]\u001b[A"
          ],
          "name": "stderr"
        },
        {
          "output_type": "stream",
          "text": [
            "DQN Trader bought:  $ 41.709999\n"
          ],
          "name": "stdout"
        },
        {
          "output_type": "stream",
          "text": [
            "\n",
            " 44%|████▍     | 557/1256 [25:02<31:47,  2.73s/it]\u001b[A"
          ],
          "name": "stderr"
        },
        {
          "output_type": "stream",
          "text": [
            "DQN Trader bought:  $ 41.490002\n"
          ],
          "name": "stdout"
        },
        {
          "output_type": "stream",
          "text": [
            "\n",
            " 44%|████▍     | 558/1256 [25:05<31:36,  2.72s/it]\u001b[A"
          ],
          "name": "stderr"
        },
        {
          "output_type": "stream",
          "text": [
            "DQN Trader bought:  $ 42.459999\n"
          ],
          "name": "stdout"
        },
        {
          "output_type": "stream",
          "text": [
            "\n",
            " 45%|████▍     | 559/1256 [25:07<31:25,  2.71s/it]\u001b[A\n",
            " 45%|████▍     | 560/1256 [25:10<31:14,  2.69s/it]\u001b[A"
          ],
          "name": "stderr"
        },
        {
          "output_type": "stream",
          "text": [
            "DQN Trader bought:  $ 42.180000\n"
          ],
          "name": "stdout"
        },
        {
          "output_type": "stream",
          "text": [
            "\n",
            " 45%|████▍     | 561/1256 [25:13<31:41,  2.74s/it]\u001b[A"
          ],
          "name": "stderr"
        },
        {
          "output_type": "stream",
          "text": [
            "DQN Trader bought:  $ 41.299999\n"
          ],
          "name": "stdout"
        },
        {
          "output_type": "stream",
          "text": [
            "\n",
            " 45%|████▍     | 562/1256 [25:15<31:33,  2.73s/it]\u001b[A\n",
            " 45%|████▍     | 563/1256 [25:18<31:23,  2.72s/it]\u001b[A"
          ],
          "name": "stderr"
        },
        {
          "output_type": "stream",
          "text": [
            "DQN Trader bought:  $ 41.189999\n"
          ],
          "name": "stdout"
        },
        {
          "output_type": "stream",
          "text": [
            "\n",
            " 45%|████▍     | 564/1256 [25:21<31:13,  2.71s/it]\u001b[A"
          ],
          "name": "stderr"
        },
        {
          "output_type": "stream",
          "text": [
            "DQN Trader bought:  $ 42.230000\n"
          ],
          "name": "stdout"
        },
        {
          "output_type": "stream",
          "text": [
            "\n",
            " 45%|████▍     | 565/1256 [25:24<31:01,  2.69s/it]\u001b[A"
          ],
          "name": "stderr"
        },
        {
          "output_type": "stream",
          "text": [
            "DQN Trader bought:  $ 43.130001\n"
          ],
          "name": "stdout"
        },
        {
          "output_type": "stream",
          "text": [
            "\n",
            " 45%|████▌     | 566/1256 [25:26<31:29,  2.74s/it]\u001b[A"
          ],
          "name": "stderr"
        },
        {
          "output_type": "stream",
          "text": [
            "DQN Trader bought:  $ 44.570000\n"
          ],
          "name": "stdout"
        },
        {
          "output_type": "stream",
          "text": [
            "\n",
            " 45%|████▌     | 567/1256 [25:29<31:19,  2.73s/it]\u001b[A"
          ],
          "name": "stderr"
        },
        {
          "output_type": "stream",
          "text": [
            "DQN Trader bought:  $ 44.669998\n"
          ],
          "name": "stdout"
        },
        {
          "output_type": "stream",
          "text": [
            "\n",
            " 45%|████▌     | 568/1256 [25:32<31:07,  2.71s/it]\u001b[A"
          ],
          "name": "stderr"
        },
        {
          "output_type": "stream",
          "text": [
            "DQN Trader bought:  $ 46.380001\n"
          ],
          "name": "stdout"
        },
        {
          "output_type": "stream",
          "text": [
            "\n",
            " 45%|████▌     | 569/1256 [25:34<30:55,  2.70s/it]\u001b[A"
          ],
          "name": "stderr"
        },
        {
          "output_type": "stream",
          "text": [
            "DQN Trader bought:  $ 46.279999\n"
          ],
          "name": "stdout"
        },
        {
          "output_type": "stream",
          "text": [
            "\n",
            " 45%|████▌     | 570/1256 [25:37<30:50,  2.70s/it]\u001b[A"
          ],
          "name": "stderr"
        },
        {
          "output_type": "stream",
          "text": [
            "DQN Trader sold:  $ 45.330002  Profit: $ 9.540001\n"
          ],
          "name": "stdout"
        },
        {
          "output_type": "stream",
          "text": [
            "\n",
            " 45%|████▌     | 571/1256 [25:40<30:39,  2.69s/it]\u001b[A"
          ],
          "name": "stderr"
        },
        {
          "output_type": "stream",
          "text": [
            "DQN Trader sold:  $ 45.099998  Profit: $ 9.070000\n"
          ],
          "name": "stdout"
        },
        {
          "output_type": "stream",
          "text": [
            "\n",
            " 46%|████▌     | 572/1256 [25:43<31:01,  2.72s/it]\u001b[A"
          ],
          "name": "stderr"
        },
        {
          "output_type": "stream",
          "text": [
            "DQN Trader sold:  $ 45.720001  Profit: $ 8.930000\n"
          ],
          "name": "stdout"
        },
        {
          "output_type": "stream",
          "text": [
            "\n",
            " 46%|████▌     | 573/1256 [25:45<30:43,  2.70s/it]\u001b[A"
          ],
          "name": "stderr"
        },
        {
          "output_type": "stream",
          "text": [
            "DQN Trader sold:  $ 45.400002  Profit: $ 8.700001\n"
          ],
          "name": "stdout"
        },
        {
          "output_type": "stream",
          "text": [
            "\n",
            " 46%|████▌     | 574/1256 [25:48<30:36,  2.69s/it]\u001b[A"
          ],
          "name": "stderr"
        },
        {
          "output_type": "stream",
          "text": [
            "DQN Trader sold:  $ 44.880001  Profit: $ 8.420002\n"
          ],
          "name": "stdout"
        },
        {
          "output_type": "stream",
          "text": [
            "\n",
            " 46%|████▌     | 575/1256 [25:51<30:29,  2.69s/it]\u001b[A"
          ],
          "name": "stderr"
        },
        {
          "output_type": "stream",
          "text": [
            "DQN Trader sold:  $ 45.310001  Profit: $ 9.170002\n"
          ],
          "name": "stdout"
        },
        {
          "output_type": "stream",
          "text": [
            "\n",
            " 46%|████▌     | 576/1256 [25:53<30:24,  2.68s/it]\u001b[A"
          ],
          "name": "stderr"
        },
        {
          "output_type": "stream",
          "text": [
            "DQN Trader bought:  $ 45.450001\n"
          ],
          "name": "stdout"
        },
        {
          "output_type": "stream",
          "text": [
            "\n",
            " 46%|████▌     | 577/1256 [25:56<30:13,  2.67s/it]\u001b[A"
          ],
          "name": "stderr"
        },
        {
          "output_type": "stream",
          "text": [
            "DQN Trader sold:  $ 44.509998  Profit: $ 8.459999\n"
          ],
          "name": "stdout"
        },
        {
          "output_type": "stream",
          "text": [
            "\n",
            " 46%|████▌     | 578/1256 [25:59<30:41,  2.72s/it]\u001b[A"
          ],
          "name": "stderr"
        },
        {
          "output_type": "stream",
          "text": [
            "DQN Trader sold:  $ 42.950001  Profit: $ 6.530003\n"
          ],
          "name": "stdout"
        },
        {
          "output_type": "stream",
          "text": [
            "\n",
            " 46%|████▌     | 579/1256 [26:01<30:37,  2.71s/it]\u001b[A"
          ],
          "name": "stderr"
        },
        {
          "output_type": "stream",
          "text": [
            "DQN Trader sold:  $ 43.590000  Profit: $ 7.250000\n"
          ],
          "name": "stdout"
        },
        {
          "output_type": "stream",
          "text": [
            "\n",
            " 46%|████▌     | 580/1256 [26:04<30:26,  2.70s/it]\u001b[A"
          ],
          "name": "stderr"
        },
        {
          "output_type": "stream",
          "text": [
            "DQN Trader sold:  $ 41.880001  Profit: $ 6.090000\n"
          ],
          "name": "stdout"
        },
        {
          "output_type": "stream",
          "text": [
            "\n",
            " 46%|████▋     | 581/1256 [26:07<30:21,  2.70s/it]\u001b[A"
          ],
          "name": "stderr"
        },
        {
          "output_type": "stream",
          "text": [
            "DQN Trader sold:  $ 40.360001  Profit: $ 4.500000\n"
          ],
          "name": "stdout"
        },
        {
          "output_type": "stream",
          "text": [
            "\n",
            " 46%|████▋     | 582/1256 [26:09<30:08,  2.68s/it]\u001b[A"
          ],
          "name": "stderr"
        },
        {
          "output_type": "stream",
          "text": [
            "DQN Trader sold:  $ 41.470001  Profit: $ 4.950001\n"
          ],
          "name": "stdout"
        },
        {
          "output_type": "stream",
          "text": [
            "\n",
            " 46%|████▋     | 583/1256 [26:12<30:06,  2.68s/it]\u001b[A"
          ],
          "name": "stderr"
        },
        {
          "output_type": "stream",
          "text": [
            "DQN Trader sold:  $ 42.529999  Profit: $ 5.949997\n"
          ],
          "name": "stdout"
        },
        {
          "output_type": "stream",
          "text": [
            "\n",
            " 46%|████▋     | 584/1256 [26:15<30:37,  2.73s/it]\u001b[A"
          ],
          "name": "stderr"
        },
        {
          "output_type": "stream",
          "text": [
            "DQN Trader sold:  $ 42.380001  Profit: $ 5.549999\n"
          ],
          "name": "stdout"
        },
        {
          "output_type": "stream",
          "text": [
            "\n",
            " 47%|████▋     | 585/1256 [26:18<30:26,  2.72s/it]\u001b[A"
          ],
          "name": "stderr"
        },
        {
          "output_type": "stream",
          "text": [
            "DQN Trader sold:  $ 43.049999  Profit: $ 6.200001\n"
          ],
          "name": "stdout"
        },
        {
          "output_type": "stream",
          "text": [
            "\n",
            " 47%|████▋     | 586/1256 [26:20<30:19,  2.72s/it]\u001b[A"
          ],
          "name": "stderr"
        },
        {
          "output_type": "stream",
          "text": [
            "DQN Trader sold:  $ 43.520000  Profit: $ 6.750000\n"
          ],
          "name": "stdout"
        },
        {
          "output_type": "stream",
          "text": [
            "\n",
            " 47%|████▋     | 587/1256 [26:23<30:08,  2.70s/it]\u001b[A"
          ],
          "name": "stderr"
        },
        {
          "output_type": "stream",
          "text": [
            "DQN Trader sold:  $ 43.480000  Profit: $ 6.599998\n"
          ],
          "name": "stdout"
        },
        {
          "output_type": "stream",
          "text": [
            "\n",
            " 47%|████▋     | 588/1256 [26:26<29:53,  2.69s/it]\u001b[A"
          ],
          "name": "stderr"
        },
        {
          "output_type": "stream",
          "text": [
            "DQN Trader sold:  $ 43.740002  Profit: $ 6.810001\n"
          ],
          "name": "stdout"
        },
        {
          "output_type": "stream",
          "text": [
            "\n",
            " 47%|████▋     | 589/1256 [26:28<29:43,  2.67s/it]\u001b[A"
          ],
          "name": "stderr"
        },
        {
          "output_type": "stream",
          "text": [
            "DQN Trader sold:  $ 42.889999  Profit: $ 5.919998\n"
          ],
          "name": "stdout"
        },
        {
          "output_type": "stream",
          "text": [
            "\n",
            " 47%|████▋     | 590/1256 [26:31<30:12,  2.72s/it]\u001b[A"
          ],
          "name": "stderr"
        },
        {
          "output_type": "stream",
          "text": [
            "DQN Trader sold:  $ 42.389999  Profit: $ 5.169998\n"
          ],
          "name": "stdout"
        },
        {
          "output_type": "stream",
          "text": [
            "\n",
            " 47%|████▋     | 591/1256 [26:34<30:04,  2.71s/it]\u001b[A"
          ],
          "name": "stderr"
        },
        {
          "output_type": "stream",
          "text": [
            "DQN Trader sold:  $ 43.900002  Profit: $ 7.050003\n"
          ],
          "name": "stdout"
        },
        {
          "output_type": "stream",
          "text": [
            "\n",
            " 47%|████▋     | 592/1256 [26:37<30:00,  2.71s/it]\u001b[A"
          ],
          "name": "stderr"
        },
        {
          "output_type": "stream",
          "text": [
            "DQN Trader sold:  $ 44.410000  Profit: $ 7.139999\n"
          ],
          "name": "stdout"
        },
        {
          "output_type": "stream",
          "text": [
            "\n",
            " 47%|████▋     | 593/1256 [26:39<29:50,  2.70s/it]\u001b[A"
          ],
          "name": "stderr"
        },
        {
          "output_type": "stream",
          "text": [
            "DQN Trader sold:  $ 43.619999  Profit: $ 6.119999\n"
          ],
          "name": "stdout"
        },
        {
          "output_type": "stream",
          "text": [
            "\n",
            " 47%|████▋     | 594/1256 [26:42<29:41,  2.69s/it]\u001b[A"
          ],
          "name": "stderr"
        },
        {
          "output_type": "stream",
          "text": [
            "DQN Trader sold:  $ 43.349998  Profit: $ 5.509998\n"
          ],
          "name": "stdout"
        },
        {
          "output_type": "stream",
          "text": [
            "\n",
            " 47%|████▋     | 595/1256 [26:45<29:55,  2.72s/it]\u001b[A"
          ],
          "name": "stderr"
        },
        {
          "output_type": "stream",
          "text": [
            "DQN Trader sold:  $ 42.720001  Profit: $ 4.860001\n"
          ],
          "name": "stdout"
        },
        {
          "output_type": "stream",
          "text": [
            "\n",
            " 47%|████▋     | 596/1256 [26:47<29:37,  2.69s/it]\u001b[A"
          ],
          "name": "stderr"
        },
        {
          "output_type": "stream",
          "text": [
            "DQN Trader sold:  $ 43.009998  Profit: $ 5.480000\n"
          ],
          "name": "stdout"
        },
        {
          "output_type": "stream",
          "text": [
            "\n",
            " 48%|████▊     | 597/1256 [26:50<29:29,  2.69s/it]\u001b[A"
          ],
          "name": "stderr"
        },
        {
          "output_type": "stream",
          "text": [
            "DQN Trader sold:  $ 43.490002  Profit: $ 6.110001\n"
          ],
          "name": "stdout"
        },
        {
          "output_type": "stream",
          "text": [
            "\n",
            " 48%|████▊     | 598/1256 [26:53<29:17,  2.67s/it]\u001b[A"
          ],
          "name": "stderr"
        },
        {
          "output_type": "stream",
          "text": [
            "DQN Trader sold:  $ 43.540001  Profit: $ 5.889999\n"
          ],
          "name": "stdout"
        },
        {
          "output_type": "stream",
          "text": [
            "\n",
            " 48%|████▊     | 599/1256 [26:55<29:07,  2.66s/it]\u001b[A"
          ],
          "name": "stderr"
        },
        {
          "output_type": "stream",
          "text": [
            "DQN Trader sold:  $ 44.200001  Profit: $ 6.130001\n"
          ],
          "name": "stdout"
        },
        {
          "output_type": "stream",
          "text": [
            "\n",
            " 48%|████▊     | 600/1256 [26:58<28:59,  2.65s/it]\u001b[A"
          ],
          "name": "stderr"
        },
        {
          "output_type": "stream",
          "text": [
            "DQN Trader sold:  $ 43.799999  Profit: $ 5.500000\n"
          ],
          "name": "stdout"
        },
        {
          "output_type": "stream",
          "text": [
            "\n",
            " 48%|████▊     | 601/1256 [27:01<29:23,  2.69s/it]\u001b[A"
          ],
          "name": "stderr"
        },
        {
          "output_type": "stream",
          "text": [
            "DQN Trader sold:  $ 44.590000  Profit: $ 6.770000\n"
          ],
          "name": "stdout"
        },
        {
          "output_type": "stream",
          "text": [
            "\n",
            " 48%|████▊     | 602/1256 [27:03<29:12,  2.68s/it]\u001b[A"
          ],
          "name": "stderr"
        },
        {
          "output_type": "stream",
          "text": [
            "DQN Trader sold:  $ 45.220001  Profit: $ 6.980000\n"
          ],
          "name": "stdout"
        },
        {
          "output_type": "stream",
          "text": [
            "\n",
            " 48%|████▊     | 603/1256 [27:06<29:02,  2.67s/it]\u001b[A"
          ],
          "name": "stderr"
        },
        {
          "output_type": "stream",
          "text": [
            "DQN Trader sold:  $ 44.990002  Profit: $ 7.220001\n"
          ],
          "name": "stdout"
        },
        {
          "output_type": "stream",
          "text": [
            "\n",
            " 48%|████▊     | 604/1256 [27:09<28:56,  2.66s/it]\u001b[A"
          ],
          "name": "stderr"
        },
        {
          "output_type": "stream",
          "text": [
            "DQN Trader sold:  $ 45.150002  Profit: $ 8.080002\n"
          ],
          "name": "stdout"
        },
        {
          "output_type": "stream",
          "text": [
            "\n",
            " 48%|████▊     | 605/1256 [27:11<28:50,  2.66s/it]\u001b[A"
          ],
          "name": "stderr"
        },
        {
          "output_type": "stream",
          "text": [
            "DQN Trader sold:  $ 45.310001  Profit: $ 8.170002\n"
          ],
          "name": "stdout"
        },
        {
          "output_type": "stream",
          "text": [
            "\n",
            " 48%|████▊     | 606/1256 [27:14<28:45,  2.65s/it]\u001b[A"
          ],
          "name": "stderr"
        },
        {
          "output_type": "stream",
          "text": [
            "DQN Trader sold:  $ 44.970001  Profit: $ 7.720001\n"
          ],
          "name": "stdout"
        },
        {
          "output_type": "stream",
          "text": [
            "\n",
            " 48%|████▊     | 607/1256 [27:17<29:12,  2.70s/it]\u001b[A"
          ],
          "name": "stderr"
        },
        {
          "output_type": "stream",
          "text": [
            "DQN Trader sold:  $ 44.599998  Profit: $ 7.549999\n"
          ],
          "name": "stdout"
        },
        {
          "output_type": "stream",
          "text": [
            "\n",
            " 48%|████▊     | 608/1256 [27:19<28:57,  2.68s/it]\u001b[A"
          ],
          "name": "stderr"
        },
        {
          "output_type": "stream",
          "text": [
            "DQN Trader sold:  $ 44.830002  Profit: $ 7.280003\n"
          ],
          "name": "stdout"
        },
        {
          "output_type": "stream",
          "text": [
            "\n",
            " 48%|████▊     | 609/1256 [27:22<28:52,  2.68s/it]\u001b[A"
          ],
          "name": "stderr"
        },
        {
          "output_type": "stream",
          "text": [
            "DQN Trader sold:  $ 44.700001  Profit: $ 6.570000\n"
          ],
          "name": "stdout"
        },
        {
          "output_type": "stream",
          "text": [
            "\n",
            " 49%|████▊     | 610/1256 [27:25<28:45,  2.67s/it]\u001b[A"
          ],
          "name": "stderr"
        },
        {
          "output_type": "stream",
          "text": [
            "DQN Trader sold:  $ 43.689999  Profit: $ 5.250000\n"
          ],
          "name": "stdout"
        },
        {
          "output_type": "stream",
          "text": [
            "\n",
            " 49%|████▊     | 611/1256 [27:27<28:39,  2.67s/it]\u001b[A"
          ],
          "name": "stderr"
        },
        {
          "output_type": "stream",
          "text": [
            "DQN Trader sold:  $ 42.580002  Profit: $ 4.310001\n"
          ],
          "name": "stdout"
        },
        {
          "output_type": "stream",
          "text": [
            "\n",
            " 49%|████▊     | 612/1256 [27:30<28:28,  2.65s/it]\u001b[A"
          ],
          "name": "stderr"
        },
        {
          "output_type": "stream",
          "text": [
            "DQN Trader sold:  $ 44.270000  Profit: $ 5.810001\n"
          ],
          "name": "stdout"
        },
        {
          "output_type": "stream",
          "text": [
            "\n",
            " 49%|████▉     | 613/1256 [27:33<28:50,  2.69s/it]\u001b[A"
          ],
          "name": "stderr"
        },
        {
          "output_type": "stream",
          "text": [
            "DQN Trader sold:  $ 43.290001  Profit: $ 4.520000\n"
          ],
          "name": "stdout"
        },
        {
          "output_type": "stream",
          "text": [
            "\n",
            " 49%|████▉     | 614/1256 [27:35<28:45,  2.69s/it]\u001b[A"
          ],
          "name": "stderr"
        },
        {
          "output_type": "stream",
          "text": [
            "DQN Trader sold:  $ 42.689999  Profit: $ 3.719997\n"
          ],
          "name": "stdout"
        },
        {
          "output_type": "stream",
          "text": [
            "\n",
            " 49%|████▉     | 615/1256 [27:38<28:36,  2.68s/it]\u001b[A"
          ],
          "name": "stderr"
        },
        {
          "output_type": "stream",
          "text": [
            "DQN Trader sold:  $ 43.759998  Profit: $ 3.410000\n"
          ],
          "name": "stdout"
        },
        {
          "output_type": "stream",
          "text": [
            "\n",
            " 49%|████▉     | 616/1256 [27:41<28:27,  2.67s/it]\u001b[A"
          ],
          "name": "stderr"
        },
        {
          "output_type": "stream",
          "text": [
            "DQN Trader sold:  $ 42.500000  Profit: $ 2.060001\n"
          ],
          "name": "stdout"
        },
        {
          "output_type": "stream",
          "text": [
            "\n",
            " 49%|████▉     | 617/1256 [27:43<28:32,  2.68s/it]\u001b[A"
          ],
          "name": "stderr"
        },
        {
          "output_type": "stream",
          "text": [
            "DQN Trader sold:  $ 43.480000  Profit: $ 2.660000\n"
          ],
          "name": "stdout"
        },
        {
          "output_type": "stream",
          "text": [
            "\n",
            " 49%|████▉     | 618/1256 [27:46<28:51,  2.71s/it]\u001b[A"
          ],
          "name": "stderr"
        },
        {
          "output_type": "stream",
          "text": [
            "DQN Trader sold:  $ 43.939999  Profit: $ 3.049999\n"
          ],
          "name": "stdout"
        },
        {
          "output_type": "stream",
          "text": [
            "\n",
            " 49%|████▉     | 619/1256 [27:49<28:34,  2.69s/it]\u001b[A"
          ],
          "name": "stderr"
        },
        {
          "output_type": "stream",
          "text": [
            "DQN Trader sold:  $ 43.320000  Profit: $ 2.070000\n"
          ],
          "name": "stdout"
        },
        {
          "output_type": "stream",
          "text": [
            "\n",
            " 49%|████▉     | 620/1256 [27:52<28:26,  2.68s/it]\u001b[A"
          ],
          "name": "stderr"
        },
        {
          "output_type": "stream",
          "text": [
            "DQN Trader sold:  $ 42.419998  Profit: $ 0.919998\n"
          ],
          "name": "stdout"
        },
        {
          "output_type": "stream",
          "text": [
            "\n",
            " 49%|████▉     | 621/1256 [27:54<28:29,  2.69s/it]\u001b[A"
          ],
          "name": "stderr"
        },
        {
          "output_type": "stream",
          "text": [
            "DQN Trader sold:  $ 43.070000  Profit: $ 2.000000\n"
          ],
          "name": "stdout"
        },
        {
          "output_type": "stream",
          "text": [
            "\n",
            " 50%|████▉     | 622/1256 [27:57<28:53,  2.73s/it]\u001b[A"
          ],
          "name": "stderr"
        },
        {
          "output_type": "stream",
          "text": [
            "DQN Trader sold:  $ 43.580002  Profit: $ 2.460003\n"
          ],
          "name": "stdout"
        },
        {
          "output_type": "stream",
          "text": [
            "\n",
            " 50%|████▉     | 623/1256 [28:00<28:59,  2.75s/it]\u001b[A"
          ],
          "name": "stderr"
        },
        {
          "output_type": "stream",
          "text": [
            "DQN Trader sold:  $ 43.380001  Profit: $ 2.170002\n"
          ],
          "name": "stdout"
        },
        {
          "output_type": "stream",
          "text": [
            "\n",
            " 50%|████▉     | 624/1256 [28:03<29:30,  2.80s/it]\u001b[A"
          ],
          "name": "stderr"
        },
        {
          "output_type": "stream",
          "text": [
            "DQN Trader sold:  $ 43.849998  Profit: $ 2.529999\n"
          ],
          "name": "stdout"
        },
        {
          "output_type": "stream",
          "text": [
            "\n",
            " 50%|████▉     | 625/1256 [28:06<29:27,  2.80s/it]\u001b[A"
          ],
          "name": "stderr"
        },
        {
          "output_type": "stream",
          "text": [
            "DQN Trader sold:  $ 42.650002  Profit: $ 1.490002\n"
          ],
          "name": "stdout"
        },
        {
          "output_type": "stream",
          "text": [
            "\n",
            " 50%|████▉     | 626/1256 [28:08<29:05,  2.77s/it]\u001b[A"
          ],
          "name": "stderr"
        },
        {
          "output_type": "stream",
          "text": [
            "DQN Trader sold:  $ 42.869999  Profit: $ 1.669998\n"
          ],
          "name": "stdout"
        },
        {
          "output_type": "stream",
          "text": [
            "\n",
            " 50%|████▉     | 627/1256 [28:11<28:40,  2.74s/it]\u001b[A"
          ],
          "name": "stderr"
        },
        {
          "output_type": "stream",
          "text": [
            "DQN Trader sold:  $ 42.310001  Profit: $ 0.160000\n"
          ],
          "name": "stdout"
        },
        {
          "output_type": "stream",
          "text": [
            "\n",
            " 50%|█████     | 628/1256 [28:14<28:23,  2.71s/it]\u001b[A"
          ],
          "name": "stderr"
        },
        {
          "output_type": "stream",
          "text": [
            "DQN Trader bought:  $ 41.919998\n"
          ],
          "name": "stdout"
        },
        {
          "output_type": "stream",
          "text": [
            "\n",
            " 50%|█████     | 629/1256 [28:16<28:33,  2.73s/it]\u001b[A"
          ],
          "name": "stderr"
        },
        {
          "output_type": "stream",
          "text": [
            "DQN Trader bought:  $ 39.529999\n"
          ],
          "name": "stdout"
        },
        {
          "output_type": "stream",
          "text": [
            "\n",
            " 50%|█████     | 630/1256 [28:19<28:17,  2.71s/it]\u001b[A"
          ],
          "name": "stderr"
        },
        {
          "output_type": "stream",
          "text": [
            "DQN Trader sold:  $ 38.950001  Profit: - $ 3.180000\n"
          ],
          "name": "stdout"
        },
        {
          "output_type": "stream",
          "text": [
            "\n",
            " 50%|█████     | 631/1256 [28:22<28:08,  2.70s/it]\u001b[A"
          ],
          "name": "stderr"
        },
        {
          "output_type": "stream",
          "text": [
            "DQN Trader sold:  $ 38.750000  Profit: - $ 3.580002\n"
          ],
          "name": "stdout"
        },
        {
          "output_type": "stream",
          "text": [
            "\n",
            " 50%|█████     | 632/1256 [28:24<27:52,  2.68s/it]\u001b[A"
          ],
          "name": "stderr"
        },
        {
          "output_type": "stream",
          "text": [
            "DQN Trader sold:  $ 38.750000  Profit: - $ 3.349998\n"
          ],
          "name": "stdout"
        },
        {
          "output_type": "stream",
          "text": [
            "\n",
            " 50%|█████     | 633/1256 [28:27<27:43,  2.67s/it]\u001b[A"
          ],
          "name": "stderr"
        },
        {
          "output_type": "stream",
          "text": [
            "DQN Trader sold:  $ 38.169998  Profit: - $ 3.980003\n"
          ],
          "name": "stdout"
        },
        {
          "output_type": "stream",
          "text": [
            "\n",
            " 50%|█████     | 634/1256 [28:30<27:36,  2.66s/it]\u001b[A\n",
            " 51%|█████     | 635/1256 [28:32<27:57,  2.70s/it]\u001b[A\n",
            " 51%|█████     | 636/1256 [28:35<27:45,  2.69s/it]\u001b[A"
          ],
          "name": "stderr"
        },
        {
          "output_type": "stream",
          "text": [
            "DQN Trader sold:  $ 38.450001  Profit: - $ 3.739998\n"
          ],
          "name": "stdout"
        },
        {
          "output_type": "stream",
          "text": [
            "\n",
            " 51%|█████     | 637/1256 [28:38<27:44,  2.69s/it]\u001b[A"
          ],
          "name": "stderr"
        },
        {
          "output_type": "stream",
          "text": [
            "DQN Trader sold:  $ 38.930000  Profit: - $ 3.500000\n"
          ],
          "name": "stdout"
        },
        {
          "output_type": "stream",
          "text": [
            "\n",
            " 51%|█████     | 638/1256 [28:40<27:38,  2.68s/it]\u001b[A"
          ],
          "name": "stderr"
        },
        {
          "output_type": "stream",
          "text": [
            "DQN Trader sold:  $ 37.750000  Profit: - $ 4.759998\n"
          ],
          "name": "stdout"
        },
        {
          "output_type": "stream",
          "text": [
            "\n",
            " 51%|█████     | 639/1256 [28:43<27:29,  2.67s/it]\u001b[A"
          ],
          "name": "stderr"
        },
        {
          "output_type": "stream",
          "text": [
            "DQN Trader sold:  $ 38.099998  Profit: - $ 4.330002\n"
          ],
          "name": "stdout"
        },
        {
          "output_type": "stream",
          "text": [
            "\n",
            " 51%|█████     | 640/1256 [28:46<27:23,  2.67s/it]\u001b[A"
          ],
          "name": "stderr"
        },
        {
          "output_type": "stream",
          "text": [
            "DQN Trader sold:  $ 38.590000  Profit: - $ 3.049999\n"
          ],
          "name": "stdout"
        },
        {
          "output_type": "stream",
          "text": [
            "\n",
            " 51%|█████     | 641/1256 [28:49<27:45,  2.71s/it]\u001b[A"
          ],
          "name": "stderr"
        },
        {
          "output_type": "stream",
          "text": [
            "DQN Trader sold:  $ 38.450001  Profit: - $ 3.270000\n"
          ],
          "name": "stdout"
        },
        {
          "output_type": "stream",
          "text": [
            "\n",
            " 51%|█████     | 642/1256 [28:51<27:35,  2.70s/it]\u001b[A"
          ],
          "name": "stderr"
        },
        {
          "output_type": "stream",
          "text": [
            "DQN Trader sold:  $ 39.180000  Profit: - $ 2.829998\n"
          ],
          "name": "stdout"
        },
        {
          "output_type": "stream",
          "text": [
            "\n",
            " 51%|█████     | 643/1256 [28:54<27:26,  2.69s/it]\u001b[A"
          ],
          "name": "stderr"
        },
        {
          "output_type": "stream",
          "text": [
            "DQN Trader sold:  $ 39.349998  Profit: - $ 2.510002\n"
          ],
          "name": "stdout"
        },
        {
          "output_type": "stream",
          "text": [
            "\n",
            " 51%|█████▏    | 644/1256 [28:57<27:18,  2.68s/it]\u001b[A"
          ],
          "name": "stderr"
        },
        {
          "output_type": "stream",
          "text": [
            "DQN Trader bought:  $ 39.770000\n"
          ],
          "name": "stdout"
        },
        {
          "output_type": "stream",
          "text": [
            "\n",
            " 51%|█████▏    | 645/1256 [28:59<27:12,  2.67s/it]\u001b[A"
          ],
          "name": "stderr"
        },
        {
          "output_type": "stream",
          "text": [
            "DQN Trader bought:  $ 39.910000\n"
          ],
          "name": "stdout"
        },
        {
          "output_type": "stream",
          "text": [
            "\n",
            " 51%|█████▏    | 646/1256 [29:02<27:07,  2.67s/it]\u001b[A"
          ],
          "name": "stderr"
        },
        {
          "output_type": "stream",
          "text": [
            "DQN Trader bought:  $ 39.950001\n"
          ],
          "name": "stdout"
        },
        {
          "output_type": "stream",
          "text": [
            "\n",
            " 52%|█████▏    | 647/1256 [29:05<27:37,  2.72s/it]\u001b[A"
          ],
          "name": "stderr"
        },
        {
          "output_type": "stream",
          "text": [
            "DQN Trader sold:  $ 39.299999  Profit: - $ 2.240002\n"
          ],
          "name": "stdout"
        },
        {
          "output_type": "stream",
          "text": [
            "\n",
            " 52%|█████▏    | 648/1256 [29:07<27:33,  2.72s/it]\u001b[A"
          ],
          "name": "stderr"
        },
        {
          "output_type": "stream",
          "text": [
            "DQN Trader sold:  $ 39.790001  Profit: - $ 2.309998\n"
          ],
          "name": "stdout"
        },
        {
          "output_type": "stream",
          "text": [
            "\n",
            " 52%|█████▏    | 649/1256 [29:10<27:23,  2.71s/it]\u001b[A"
          ],
          "name": "stderr"
        },
        {
          "output_type": "stream",
          "text": [
            "DQN Trader sold:  $ 38.959999  Profit: - $ 3.110001\n"
          ],
          "name": "stdout"
        },
        {
          "output_type": "stream",
          "text": [
            "\n",
            " 52%|█████▏    | 650/1256 [29:13<27:11,  2.69s/it]\u001b[A"
          ],
          "name": "stderr"
        },
        {
          "output_type": "stream",
          "text": [
            "DQN Trader sold:  $ 38.419998  Profit: - $ 3.790001\n"
          ],
          "name": "stdout"
        },
        {
          "output_type": "stream",
          "text": [
            "\n",
            " 52%|█████▏    | 651/1256 [29:15<27:07,  2.69s/it]\u001b[A"
          ],
          "name": "stderr"
        },
        {
          "output_type": "stream",
          "text": [
            "DQN Trader sold:  $ 39.470001  Profit: - $ 3.110001\n"
          ],
          "name": "stdout"
        },
        {
          "output_type": "stream",
          "text": [
            "\n",
            " 52%|█████▏    | 652/1256 [29:18<27:00,  2.68s/it]\u001b[A"
          ],
          "name": "stderr"
        },
        {
          "output_type": "stream",
          "text": [
            "DQN Trader sold:  $ 39.639999  Profit: - $ 2.770000\n"
          ],
          "name": "stdout"
        },
        {
          "output_type": "stream",
          "text": [
            "\n",
            " 52%|█████▏    | 653/1256 [29:21<27:23,  2.73s/it]\u001b[A"
          ],
          "name": "stderr"
        },
        {
          "output_type": "stream",
          "text": [
            "DQN Trader sold:  $ 39.650002  Profit: - $ 3.340000\n"
          ],
          "name": "stdout"
        },
        {
          "output_type": "stream",
          "text": [
            "\n",
            " 52%|█████▏    | 654/1256 [29:24<27:14,  2.72s/it]\u001b[A\n",
            " 52%|█████▏    | 655/1256 [29:26<26:59,  2.69s/it]\u001b[A\n",
            " 52%|█████▏    | 656/1256 [29:29<26:48,  2.68s/it]\u001b[A"
          ],
          "name": "stderr"
        },
        {
          "output_type": "stream",
          "text": [
            "DQN Trader bought:  $ 38.160000\n"
          ],
          "name": "stdout"
        },
        {
          "output_type": "stream",
          "text": [
            "\n",
            " 52%|█████▏    | 657/1256 [29:32<26:39,  2.67s/it]\u001b[A\n",
            " 52%|█████▏    | 658/1256 [29:34<26:27,  2.65s/it]\u001b[A\n",
            " 52%|█████▏    | 659/1256 [29:37<26:46,  2.69s/it]\u001b[A\n",
            " 53%|█████▎    | 660/1256 [29:40<26:38,  2.68s/it]\u001b[A\n",
            " 53%|█████▎    | 661/1256 [29:42<26:27,  2.67s/it]\u001b[A\n",
            " 53%|█████▎    | 662/1256 [29:45<26:20,  2.66s/it]\u001b[A"
          ],
          "name": "stderr"
        },
        {
          "output_type": "stream",
          "text": [
            "DQN Trader bought:  $ 39.560001\n"
          ],
          "name": "stdout"
        },
        {
          "output_type": "stream",
          "text": [
            "\n",
            " 53%|█████▎    | 663/1256 [29:48<26:10,  2.65s/it]\u001b[A"
          ],
          "name": "stderr"
        },
        {
          "output_type": "stream",
          "text": [
            "DQN Trader bought:  $ 39.520000\n"
          ],
          "name": "stdout"
        },
        {
          "output_type": "stream",
          "text": [
            "\n",
            " 53%|█████▎    | 664/1256 [29:50<26:33,  2.69s/it]\u001b[A"
          ],
          "name": "stderr"
        },
        {
          "output_type": "stream",
          "text": [
            "DQN Trader bought:  $ 38.930000\n"
          ],
          "name": "stdout"
        },
        {
          "output_type": "stream",
          "text": [
            "\n",
            " 53%|█████▎    | 665/1256 [29:53<26:23,  2.68s/it]\u001b[A"
          ],
          "name": "stderr"
        },
        {
          "output_type": "stream",
          "text": [
            "DQN Trader bought:  $ 38.759998\n"
          ],
          "name": "stdout"
        },
        {
          "output_type": "stream",
          "text": [
            "\n",
            " 53%|█████▎    | 666/1256 [29:56<26:14,  2.67s/it]\u001b[A"
          ],
          "name": "stderr"
        },
        {
          "output_type": "stream",
          "text": [
            "DQN Trader sold:  $ 39.200001  Profit: - $ 1.889999\n"
          ],
          "name": "stdout"
        },
        {
          "output_type": "stream",
          "text": [
            "\n",
            " 53%|█████▎    | 667/1256 [29:58<26:12,  2.67s/it]\u001b[A"
          ],
          "name": "stderr"
        },
        {
          "output_type": "stream",
          "text": [
            "DQN Trader bought:  $ 39.049999\n"
          ],
          "name": "stdout"
        },
        {
          "output_type": "stream",
          "text": [
            "\n",
            " 53%|█████▎    | 668/1256 [30:01<26:05,  2.66s/it]\u001b[A"
          ],
          "name": "stderr"
        },
        {
          "output_type": "stream",
          "text": [
            "DQN Trader bought:  $ 38.599998\n"
          ],
          "name": "stdout"
        },
        {
          "output_type": "stream",
          "text": [
            "\n",
            " 53%|█████▎    | 669/1256 [30:04<25:55,  2.65s/it]\u001b[A"
          ],
          "name": "stderr"
        },
        {
          "output_type": "stream",
          "text": [
            "DQN Trader bought:  $ 38.689999\n"
          ],
          "name": "stdout"
        },
        {
          "output_type": "stream",
          "text": [
            "\n",
            " 53%|█████▎    | 670/1256 [30:06<26:19,  2.69s/it]\u001b[A"
          ],
          "name": "stderr"
        },
        {
          "output_type": "stream",
          "text": [
            "DQN Trader bought:  $ 38.250000\n"
          ],
          "name": "stdout"
        },
        {
          "output_type": "stream",
          "text": [
            "\n",
            " 53%|█████▎    | 671/1256 [30:09<26:08,  2.68s/it]\u001b[A"
          ],
          "name": "stderr"
        },
        {
          "output_type": "stream",
          "text": [
            "DQN Trader bought:  $ 37.560001\n"
          ],
          "name": "stdout"
        },
        {
          "output_type": "stream",
          "text": [
            "\n",
            " 54%|█████▎    | 672/1256 [30:12<26:04,  2.68s/it]\u001b[A"
          ],
          "name": "stderr"
        },
        {
          "output_type": "stream",
          "text": [
            "DQN Trader bought:  $ 38.349998\n"
          ],
          "name": "stdout"
        },
        {
          "output_type": "stream",
          "text": [
            "\n",
            " 54%|█████▎    | 673/1256 [30:14<26:00,  2.68s/it]\u001b[A"
          ],
          "name": "stderr"
        },
        {
          "output_type": "stream",
          "text": [
            "DQN Trader bought:  $ 37.619999\n"
          ],
          "name": "stdout"
        },
        {
          "output_type": "stream",
          "text": [
            "\n",
            " 54%|█████▎    | 674/1256 [30:17<25:54,  2.67s/it]\u001b[A"
          ],
          "name": "stderr"
        },
        {
          "output_type": "stream",
          "text": [
            "DQN Trader bought:  $ 38.119999\n"
          ],
          "name": "stdout"
        },
        {
          "output_type": "stream",
          "text": [
            "\n",
            " 54%|█████▎    | 675/1256 [30:20<25:49,  2.67s/it]\u001b[A"
          ],
          "name": "stderr"
        },
        {
          "output_type": "stream",
          "text": [
            "DQN Trader bought:  $ 36.509998\n"
          ],
          "name": "stdout"
        },
        {
          "output_type": "stream",
          "text": [
            "\n",
            " 54%|█████▍    | 676/1256 [30:22<26:10,  2.71s/it]\u001b[A"
          ],
          "name": "stderr"
        },
        {
          "output_type": "stream",
          "text": [
            "DQN Trader bought:  $ 36.459999\n"
          ],
          "name": "stdout"
        },
        {
          "output_type": "stream",
          "text": [
            "\n",
            " 54%|█████▍    | 677/1256 [30:25<25:58,  2.69s/it]\u001b[A"
          ],
          "name": "stderr"
        },
        {
          "output_type": "stream",
          "text": [
            "DQN Trader bought:  $ 35.509998\n"
          ],
          "name": "stdout"
        },
        {
          "output_type": "stream",
          "text": [
            "\n",
            " 54%|█████▍    | 678/1256 [30:28<25:54,  2.69s/it]\u001b[A"
          ],
          "name": "stderr"
        },
        {
          "output_type": "stream",
          "text": [
            "DQN Trader bought:  $ 35.939999\n"
          ],
          "name": "stdout"
        },
        {
          "output_type": "stream",
          "text": [
            "\n",
            " 54%|█████▍    | 679/1256 [30:30<25:46,  2.68s/it]\u001b[A"
          ],
          "name": "stderr"
        },
        {
          "output_type": "stream",
          "text": [
            "DQN Trader bought:  $ 36.560001\n"
          ],
          "name": "stdout"
        },
        {
          "output_type": "stream",
          "text": [
            "\n",
            " 54%|█████▍    | 680/1256 [30:33<25:38,  2.67s/it]\u001b[A"
          ],
          "name": "stderr"
        },
        {
          "output_type": "stream",
          "text": [
            "DQN Trader sold:  $ 36.540001  Profit: - $ 4.389999\n"
          ],
          "name": "stdout"
        },
        {
          "output_type": "stream",
          "text": [
            "\n",
            " 54%|█████▍    | 681/1256 [30:36<26:06,  2.72s/it]\u001b[A"
          ],
          "name": "stderr"
        },
        {
          "output_type": "stream",
          "text": [
            "DQN Trader bought:  $ 36.389999\n"
          ],
          "name": "stdout"
        },
        {
          "output_type": "stream",
          "text": [
            "\n",
            " 54%|█████▍    | 682/1256 [30:39<26:02,  2.72s/it]\u001b[A"
          ],
          "name": "stderr"
        },
        {
          "output_type": "stream",
          "text": [
            "DQN Trader bought:  $ 36.590000\n"
          ],
          "name": "stdout"
        },
        {
          "output_type": "stream",
          "text": [
            "\n",
            " 54%|█████▍    | 683/1256 [30:41<25:59,  2.72s/it]\u001b[A\n",
            " 54%|█████▍    | 684/1256 [30:44<25:54,  2.72s/it]\u001b[A\n",
            " 55%|█████▍    | 685/1256 [30:47<25:47,  2.71s/it]\u001b[A\n",
            " 55%|█████▍    | 686/1256 [30:49<25:35,  2.69s/it]\u001b[A"
          ],
          "name": "stderr"
        },
        {
          "output_type": "stream",
          "text": [
            "DQN Trader bought:  $ 36.970001\n"
          ],
          "name": "stdout"
        },
        {
          "output_type": "stream",
          "text": [
            "\n",
            " 55%|█████▍    | 687/1256 [30:52<25:48,  2.72s/it]\u001b[A"
          ],
          "name": "stderr"
        },
        {
          "output_type": "stream",
          "text": [
            "DQN Trader bought:  $ 37.310001\n"
          ],
          "name": "stdout"
        },
        {
          "output_type": "stream",
          "text": [
            "\n",
            " 55%|█████▍    | 688/1256 [30:55<25:36,  2.70s/it]\u001b[A\n",
            " 55%|█████▍    | 689/1256 [30:58<25:20,  2.68s/it]\u001b[A\n",
            " 55%|█████▍    | 690/1256 [31:00<25:13,  2.67s/it]\u001b[A\n",
            " 55%|█████▌    | 691/1256 [31:03<25:01,  2.66s/it]\u001b[A\n",
            " 55%|█████▌    | 692/1256 [31:05<24:54,  2.65s/it]\u001b[A\n",
            " 55%|█████▌    | 693/1256 [31:08<25:14,  2.69s/it]\u001b[A\n",
            " 55%|█████▌    | 694/1256 [31:11<25:00,  2.67s/it]\u001b[A\n",
            " 55%|█████▌    | 695/1256 [31:13<24:49,  2.66s/it]\u001b[A\n",
            " 55%|█████▌    | 696/1256 [31:16<24:42,  2.65s/it]\u001b[A\n",
            " 55%|█████▌    | 697/1256 [31:19<24:39,  2.65s/it]\u001b[A\n",
            " 56%|█████▌    | 698/1256 [31:21<24:40,  2.65s/it]\u001b[A\n",
            " 56%|█████▌    | 699/1256 [31:24<25:08,  2.71s/it]\u001b[A\n",
            " 56%|█████▌    | 700/1256 [31:27<24:58,  2.69s/it]\u001b[A\n",
            " 56%|█████▌    | 701/1256 [31:30<24:47,  2.68s/it]\u001b[A\n",
            " 56%|█████▌    | 702/1256 [31:32<24:37,  2.67s/it]\u001b[A\n",
            " 56%|█████▌    | 703/1256 [31:35<24:26,  2.65s/it]\u001b[A\n",
            " 56%|█████▌    | 704/1256 [31:37<24:24,  2.65s/it]\u001b[A\n",
            " 56%|█████▌    | 705/1256 [31:40<24:42,  2.69s/it]\u001b[A\n",
            " 56%|█████▌    | 706/1256 [31:43<24:31,  2.68s/it]\u001b[A\n",
            " 56%|█████▋    | 707/1256 [31:46<24:25,  2.67s/it]\u001b[A\n",
            " 56%|█████▋    | 708/1256 [31:48<24:23,  2.67s/it]\u001b[A\n",
            " 56%|█████▋    | 709/1256 [31:51<24:16,  2.66s/it]\u001b[A\n",
            " 57%|█████▋    | 710/1256 [31:53<24:09,  2.66s/it]\u001b[A\n",
            " 57%|█████▋    | 711/1256 [31:56<24:34,  2.71s/it]\u001b[A\n",
            " 57%|█████▋    | 712/1256 [31:59<24:26,  2.70s/it]\u001b[A\n",
            " 57%|█████▋    | 713/1256 [32:02<24:18,  2.69s/it]\u001b[A\n",
            " 57%|█████▋    | 714/1256 [32:04<24:10,  2.68s/it]\u001b[A\n",
            " 57%|█████▋    | 715/1256 [32:07<24:05,  2.67s/it]\u001b[A"
          ],
          "name": "stderr"
        },
        {
          "output_type": "stream",
          "text": [
            "DQN Trader bought:  $ 40.889999\n"
          ],
          "name": "stdout"
        },
        {
          "output_type": "stream",
          "text": [
            "\n",
            " 57%|█████▋    | 716/1256 [32:10<24:14,  2.69s/it]\u001b[A\n",
            " 57%|█████▋    | 717/1256 [32:12<24:02,  2.68s/it]\u001b[A\n",
            " 57%|█████▋    | 718/1256 [32:15<23:59,  2.68s/it]\u001b[A\n",
            " 57%|█████▋    | 719/1256 [32:18<23:56,  2.68s/it]\u001b[A\n",
            " 57%|█████▋    | 720/1256 [32:20<23:45,  2.66s/it]\u001b[A\n",
            " 57%|█████▋    | 721/1256 [32:23<23:46,  2.67s/it]\u001b[A\n",
            " 57%|█████▋    | 722/1256 [32:26<23:59,  2.70s/it]\u001b[A\n",
            " 58%|█████▊    | 723/1256 [32:28<23:51,  2.68s/it]\u001b[A\n",
            " 58%|█████▊    | 724/1256 [32:31<23:42,  2.67s/it]\u001b[A\n",
            " 58%|█████▊    | 725/1256 [32:34<23:36,  2.67s/it]\u001b[A\n",
            " 58%|█████▊    | 726/1256 [32:36<23:27,  2.66s/it]\u001b[A\n",
            " 58%|█████▊    | 727/1256 [32:39<23:27,  2.66s/it]\u001b[A\n",
            " 58%|█████▊    | 728/1256 [32:42<23:45,  2.70s/it]\u001b[A\n",
            " 58%|█████▊    | 729/1256 [32:44<23:34,  2.68s/it]\u001b[A"
          ],
          "name": "stderr"
        },
        {
          "output_type": "stream",
          "text": [
            "DQN Trader sold:  $ 44.549999  Profit: $ 5.139999\n"
          ],
          "name": "stdout"
        },
        {
          "output_type": "stream",
          "text": [
            "\n",
            " 58%|█████▊    | 730/1256 [32:47<23:22,  2.67s/it]\u001b[A\n",
            " 58%|█████▊    | 731/1256 [32:50<23:21,  2.67s/it]\u001b[A"
          ],
          "name": "stderr"
        },
        {
          "output_type": "stream",
          "text": [
            "DQN Trader sold:  $ 43.430000  Profit: $ 3.830002\n"
          ],
          "name": "stdout"
        },
        {
          "output_type": "stream",
          "text": [
            "\n",
            " 58%|█████▊    | 732/1256 [32:52<23:14,  2.66s/it]\u001b[A"
          ],
          "name": "stderr"
        },
        {
          "output_type": "stream",
          "text": [
            "DQN Trader sold:  $ 44.410000  Profit: $ 4.709999\n"
          ],
          "name": "stdout"
        },
        {
          "output_type": "stream",
          "text": [
            "\n",
            " 58%|█████▊    | 733/1256 [32:55<23:07,  2.65s/it]\u001b[A"
          ],
          "name": "stderr"
        },
        {
          "output_type": "stream",
          "text": [
            "DQN Trader sold:  $ 43.759998  Profit: $ 4.369999\n"
          ],
          "name": "stdout"
        },
        {
          "output_type": "stream",
          "text": [
            "\n",
            " 58%|█████▊    | 734/1256 [32:58<23:27,  2.70s/it]\u001b[A"
          ],
          "name": "stderr"
        },
        {
          "output_type": "stream",
          "text": [
            "DQN Trader sold:  $ 43.560001  Profit: $ 4.360001\n"
          ],
          "name": "stdout"
        },
        {
          "output_type": "stream",
          "text": [
            "\n",
            " 59%|█████▊    | 735/1256 [33:01<23:21,  2.69s/it]\u001b[A"
          ],
          "name": "stderr"
        },
        {
          "output_type": "stream",
          "text": [
            "DQN Trader sold:  $ 44.020000  Profit: $ 5.340000\n"
          ],
          "name": "stdout"
        },
        {
          "output_type": "stream",
          "text": [
            "\n",
            " 59%|█████▊    | 736/1256 [33:03<23:15,  2.68s/it]\u001b[A"
          ],
          "name": "stderr"
        },
        {
          "output_type": "stream",
          "text": [
            "DQN Trader sold:  $ 44.169998  Profit: $ 5.160000\n"
          ],
          "name": "stdout"
        },
        {
          "output_type": "stream",
          "text": [
            "\n",
            " 59%|█████▊    | 737/1256 [33:06<23:22,  2.70s/it]\u001b[A"
          ],
          "name": "stderr"
        },
        {
          "output_type": "stream",
          "text": [
            "DQN Trader sold:  $ 44.060001  Profit: $ 5.060001\n"
          ],
          "name": "stdout"
        },
        {
          "output_type": "stream",
          "text": [
            "\n",
            " 59%|█████▉    | 738/1256 [33:09<23:35,  2.73s/it]\u001b[A"
          ],
          "name": "stderr"
        },
        {
          "output_type": "stream",
          "text": [
            "DQN Trader sold:  $ 44.889999  Profit: $ 5.520000\n"
          ],
          "name": "stdout"
        },
        {
          "output_type": "stream",
          "text": [
            "\n",
            " 59%|█████▉    | 739/1256 [33:12<23:56,  2.78s/it]\u001b[A"
          ],
          "name": "stderr"
        },
        {
          "output_type": "stream",
          "text": [
            "DQN Trader sold:  $ 44.169998  Profit: $ 4.869999\n"
          ],
          "name": "stdout"
        },
        {
          "output_type": "stream",
          "text": [
            "\n",
            " 59%|█████▉    | 740/1256 [33:14<23:59,  2.79s/it]\u001b[A"
          ],
          "name": "stderr"
        },
        {
          "output_type": "stream",
          "text": [
            "DQN Trader sold:  $ 44.270000  Profit: $ 4.980000\n"
          ],
          "name": "stdout"
        },
        {
          "output_type": "stream",
          "text": [
            "\n",
            " 59%|█████▉    | 741/1256 [33:17<23:44,  2.77s/it]\u001b[A"
          ],
          "name": "stderr"
        },
        {
          "output_type": "stream",
          "text": [
            "DQN Trader sold:  $ 44.759998  Profit: $ 5.359997\n"
          ],
          "name": "stdout"
        },
        {
          "output_type": "stream",
          "text": [
            "\n",
            " 59%|█████▉    | 742/1256 [33:20<23:24,  2.73s/it]\u001b[A"
          ],
          "name": "stderr"
        },
        {
          "output_type": "stream",
          "text": [
            "DQN Trader sold:  $ 44.160000  Profit: $ 4.660000\n"
          ],
          "name": "stdout"
        },
        {
          "output_type": "stream",
          "text": [
            "\n",
            " 59%|█████▉    | 743/1256 [33:22<23:16,  2.72s/it]\u001b[A"
          ],
          "name": "stderr"
        },
        {
          "output_type": "stream",
          "text": [
            "DQN Trader sold:  $ 44.660000  Profit: $ 5.259998\n"
          ],
          "name": "stdout"
        },
        {
          "output_type": "stream",
          "text": [
            "\n",
            " 59%|█████▉    | 744/1256 [33:25<23:04,  2.70s/it]\u001b[A"
          ],
          "name": "stderr"
        },
        {
          "output_type": "stream",
          "text": [
            "DQN Trader sold:  $ 43.619999  Profit: $ 4.279999\n"
          ],
          "name": "stdout"
        },
        {
          "output_type": "stream",
          "text": [
            "\n",
            " 59%|█████▉    | 745/1256 [33:28<23:12,  2.72s/it]\u001b[A"
          ],
          "name": "stderr"
        },
        {
          "output_type": "stream",
          "text": [
            "DQN Trader sold:  $ 43.959999  Profit: $ 4.520000\n"
          ],
          "name": "stdout"
        },
        {
          "output_type": "stream",
          "text": [
            "\n",
            " 59%|█████▉    | 746/1256 [33:31<22:56,  2.70s/it]\u001b[A"
          ],
          "name": "stderr"
        },
        {
          "output_type": "stream",
          "text": [
            "DQN Trader sold:  $ 42.430000  Profit: $ 3.200001\n"
          ],
          "name": "stdout"
        },
        {
          "output_type": "stream",
          "text": [
            "\n",
            " 59%|█████▉    | 747/1256 [33:33<22:44,  2.68s/it]\u001b[A"
          ],
          "name": "stderr"
        },
        {
          "output_type": "stream",
          "text": [
            "DQN Trader sold:  $ 41.630001  Profit: $ 2.000000\n"
          ],
          "name": "stdout"
        },
        {
          "output_type": "stream",
          "text": [
            "\n",
            " 60%|█████▉    | 748/1256 [33:36<22:34,  2.67s/it]\u001b[A\n",
            " 60%|█████▉    | 749/1256 [33:38<22:31,  2.66s/it]\u001b[A"
          ],
          "name": "stderr"
        },
        {
          "output_type": "stream",
          "text": [
            "DQN Trader sold:  $ 40.900002  Profit: $ 1.950001\n"
          ],
          "name": "stdout"
        },
        {
          "output_type": "stream",
          "text": [
            "\n",
            " 60%|█████▉    | 750/1256 [33:41<22:35,  2.68s/it]\u001b[A"
          ],
          "name": "stderr"
        },
        {
          "output_type": "stream",
          "text": [
            "DQN Trader bought:  $ 39.349998\n"
          ],
          "name": "stdout"
        },
        {
          "output_type": "stream",
          "text": [
            "\n",
            " 60%|█████▉    | 751/1256 [33:44<22:53,  2.72s/it]\u001b[A"
          ],
          "name": "stderr"
        },
        {
          "output_type": "stream",
          "text": [
            "DQN Trader sold:  $ 38.939999  Profit: - $ 0.140003\n"
          ],
          "name": "stdout"
        },
        {
          "output_type": "stream",
          "text": [
            "\n",
            " 60%|█████▉    | 752/1256 [33:47<22:39,  2.70s/it]\u001b[A"
          ],
          "name": "stderr"
        },
        {
          "output_type": "stream",
          "text": [
            "DQN Trader sold:  $ 39.660000  Profit: - $ 0.080002\n"
          ],
          "name": "stdout"
        },
        {
          "output_type": "stream",
          "text": [
            "\n",
            " 60%|█████▉    | 753/1256 [33:49<22:29,  2.68s/it]\u001b[A"
          ],
          "name": "stderr"
        },
        {
          "output_type": "stream",
          "text": [
            "DQN Trader sold:  $ 38.750000  Profit: - $ 0.900002\n"
          ],
          "name": "stdout"
        },
        {
          "output_type": "stream",
          "text": [
            "\n",
            " 60%|██████    | 754/1256 [33:52<22:43,  2.72s/it]\u001b[A"
          ],
          "name": "stderr"
        },
        {
          "output_type": "stream",
          "text": [
            "DQN Trader sold:  $ 40.009998  Profit: - $ 1.010002\n"
          ],
          "name": "stdout"
        },
        {
          "output_type": "stream",
          "text": [
            "\n",
            " 60%|██████    | 755/1256 [33:55<22:26,  2.69s/it]\u001b[A"
          ],
          "name": "stderr"
        },
        {
          "output_type": "stream",
          "text": [
            "DQN Trader sold:  $ 39.570000  Profit: - $ 2.139999\n"
          ],
          "name": "stdout"
        },
        {
          "output_type": "stream",
          "text": [
            "\n",
            " 60%|██████    | 756/1256 [33:57<22:13,  2.67s/it]\u001b[A"
          ],
          "name": "stderr"
        },
        {
          "output_type": "stream",
          "text": [
            "DQN Trader sold:  $ 38.540001  Profit: - $ 2.950001\n"
          ],
          "name": "stdout"
        },
        {
          "output_type": "stream",
          "text": [
            "\n",
            " 60%|██████    | 757/1256 [34:00<22:54,  2.75s/it]\u001b[A"
          ],
          "name": "stderr"
        },
        {
          "output_type": "stream",
          "text": [
            "DQN Trader sold:  $ 38.450001  Profit: - $ 4.009998\n"
          ],
          "name": "stdout"
        },
        {
          "output_type": "stream",
          "text": [
            "\n",
            " 60%|██████    | 758/1256 [34:03<23:14,  2.80s/it]\u001b[A"
          ],
          "name": "stderr"
        },
        {
          "output_type": "stream",
          "text": [
            "DQN Trader sold:  $ 38.720001  Profit: - $ 3.459999\n"
          ],
          "name": "stdout"
        },
        {
          "output_type": "stream",
          "text": [
            "\n",
            " 60%|██████    | 759/1256 [34:06<23:10,  2.80s/it]\u001b[A"
          ],
          "name": "stderr"
        },
        {
          "output_type": "stream",
          "text": [
            "DQN Trader sold:  $ 38.000000  Profit: - $ 3.299999\n"
          ],
          "name": "stdout"
        },
        {
          "output_type": "stream",
          "text": [
            "\n",
            " 61%|██████    | 760/1256 [34:09<23:09,  2.80s/it]\u001b[A"
          ],
          "name": "stderr"
        },
        {
          "output_type": "stream",
          "text": [
            "DQN Trader sold:  $ 36.480000  Profit: - $ 4.709999\n"
          ],
          "name": "stdout"
        },
        {
          "output_type": "stream",
          "text": [
            "\n",
            " 61%|██████    | 761/1256 [34:12<23:17,  2.82s/it]\u001b[A"
          ],
          "name": "stderr"
        },
        {
          "output_type": "stream",
          "text": [
            "DQN Trader sold:  $ 37.389999  Profit: - $ 4.840000\n"
          ],
          "name": "stdout"
        },
        {
          "output_type": "stream",
          "text": [
            "\n",
            " 61%|██████    | 762/1256 [34:14<22:53,  2.78s/it]\u001b[A"
          ],
          "name": "stderr"
        },
        {
          "output_type": "stream",
          "text": [
            "DQN Trader sold:  $ 36.669998  Profit: - $ 6.460003\n"
          ],
          "name": "stdout"
        },
        {
          "output_type": "stream",
          "text": [
            "\n",
            " 61%|██████    | 763/1256 [34:17<22:59,  2.80s/it]\u001b[A"
          ],
          "name": "stderr"
        },
        {
          "output_type": "stream",
          "text": [
            "DQN Trader sold:  $ 36.330002  Profit: - $ 8.239998\n"
          ],
          "name": "stdout"
        },
        {
          "output_type": "stream",
          "text": [
            "\n",
            " 61%|██████    | 764/1256 [34:20<23:05,  2.82s/it]\u001b[A"
          ],
          "name": "stderr"
        },
        {
          "output_type": "stream",
          "text": [
            "DQN Trader sold:  $ 37.779999  Profit: - $ 6.889999\n"
          ],
          "name": "stdout"
        },
        {
          "output_type": "stream",
          "text": [
            "\n",
            " 61%|██████    | 765/1256 [34:23<22:56,  2.80s/it]\u001b[A"
          ],
          "name": "stderr"
        },
        {
          "output_type": "stream",
          "text": [
            "DQN Trader sold:  $ 38.099998  Profit: - $ 8.280003\n"
          ],
          "name": "stdout"
        },
        {
          "output_type": "stream",
          "text": [
            "\n",
            " 61%|██████    | 766/1256 [34:26<22:59,  2.82s/it]\u001b[A"
          ],
          "name": "stderr"
        },
        {
          "output_type": "stream",
          "text": [
            "DQN Trader sold:  $ 39.049999  Profit: - $ 7.230000\n"
          ],
          "name": "stdout"
        },
        {
          "output_type": "stream",
          "text": [
            "\n",
            " 61%|██████    | 767/1256 [34:28<22:52,  2.81s/it]\u001b[A"
          ],
          "name": "stderr"
        },
        {
          "output_type": "stream",
          "text": [
            "DQN Trader sold:  $ 38.779999  Profit: - $ 6.670002\n"
          ],
          "name": "stdout"
        },
        {
          "output_type": "stream",
          "text": [
            "\n",
            " 61%|██████    | 768/1256 [34:31<22:47,  2.80s/it]\u001b[A"
          ],
          "name": "stderr"
        },
        {
          "output_type": "stream",
          "text": [
            "DQN Trader sold:  $ 38.480000  Profit: - $ 3.439999\n"
          ],
          "name": "stdout"
        },
        {
          "output_type": "stream",
          "text": [
            "\n",
            " 61%|██████    | 769/1256 [34:34<23:02,  2.84s/it]\u001b[A"
          ],
          "name": "stderr"
        },
        {
          "output_type": "stream",
          "text": [
            "DQN Trader sold:  $ 38.730000  Profit: - $ 0.799999\n"
          ],
          "name": "stdout"
        },
        {
          "output_type": "stream",
          "text": [
            "\n",
            " 61%|██████▏   | 770/1256 [34:37<23:04,  2.85s/it]\u001b[A"
          ],
          "name": "stderr"
        },
        {
          "output_type": "stream",
          "text": [
            "DQN Trader sold:  $ 39.180000  Profit: - $ 0.590000\n"
          ],
          "name": "stdout"
        },
        {
          "output_type": "stream",
          "text": [
            "\n",
            " 61%|██████▏   | 771/1256 [34:40<22:54,  2.83s/it]\u001b[A\n",
            " 61%|██████▏   | 772/1256 [34:43<22:47,  2.82s/it]\u001b[A\n",
            " 62%|██████▏   | 773/1256 [34:45<22:33,  2.80s/it]\u001b[A\n",
            " 62%|██████▏   | 774/1256 [34:48<22:47,  2.84s/it]\u001b[A\n",
            " 62%|██████▏   | 775/1256 [34:51<22:45,  2.84s/it]\u001b[A"
          ],
          "name": "stderr"
        },
        {
          "output_type": "stream",
          "text": [
            "DQN Trader sold:  $ 37.840000  Profit: - $ 2.070000\n"
          ],
          "name": "stdout"
        },
        {
          "output_type": "stream",
          "text": [
            "\n",
            " 62%|██████▏   | 776/1256 [34:54<22:38,  2.83s/it]\u001b[A"
          ],
          "name": "stderr"
        },
        {
          "output_type": "stream",
          "text": [
            "DQN Trader sold:  $ 38.520000  Profit: - $ 1.430000\n"
          ],
          "name": "stdout"
        },
        {
          "output_type": "stream",
          "text": [
            "\n",
            " 62%|██████▏   | 777/1256 [34:57<22:21,  2.80s/it]\u001b[A"
          ],
          "name": "stderr"
        },
        {
          "output_type": "stream",
          "text": [
            "DQN Trader sold:  $ 36.869999  Profit: - $ 1.290001\n"
          ],
          "name": "stdout"
        },
        {
          "output_type": "stream",
          "text": [
            "\n",
            " 62%|██████▏   | 778/1256 [34:59<22:06,  2.78s/it]\u001b[A"
          ],
          "name": "stderr"
        },
        {
          "output_type": "stream",
          "text": [
            "DQN Trader sold:  $ 36.049999  Profit: - $ 3.510002\n"
          ],
          "name": "stdout"
        },
        {
          "output_type": "stream",
          "text": [
            "\n",
            " 62%|██████▏   | 779/1256 [35:02<21:55,  2.76s/it]\u001b[A"
          ],
          "name": "stderr"
        },
        {
          "output_type": "stream",
          "text": [
            "DQN Trader sold:  $ 35.639999  Profit: - $ 3.880001\n"
          ],
          "name": "stdout"
        },
        {
          "output_type": "stream",
          "text": [
            "\n",
            " 62%|██████▏   | 780/1256 [35:05<22:02,  2.78s/it]\u001b[A"
          ],
          "name": "stderr"
        },
        {
          "output_type": "stream",
          "text": [
            "DQN Trader sold:  $ 36.169998  Profit: - $ 2.760002\n"
          ],
          "name": "stdout"
        },
        {
          "output_type": "stream",
          "text": [
            "\n",
            " 62%|██████▏   | 781/1256 [35:08<21:50,  2.76s/it]\u001b[A"
          ],
          "name": "stderr"
        },
        {
          "output_type": "stream",
          "text": [
            "DQN Trader bought:  $ 35.959999\n"
          ],
          "name": "stdout"
        },
        {
          "output_type": "stream",
          "text": [
            "\n",
            " 62%|██████▏   | 782/1256 [35:10<21:37,  2.74s/it]\u001b[A"
          ],
          "name": "stderr"
        },
        {
          "output_type": "stream",
          "text": [
            "DQN Trader bought:  $ 36.840000\n"
          ],
          "name": "stdout"
        },
        {
          "output_type": "stream",
          "text": [
            "\n",
            " 62%|██████▏   | 783/1256 [35:13<21:32,  2.73s/it]\u001b[A"
          ],
          "name": "stderr"
        },
        {
          "output_type": "stream",
          "text": [
            "DQN Trader bought:  $ 36.799999\n"
          ],
          "name": "stdout"
        },
        {
          "output_type": "stream",
          "text": [
            "\n",
            " 62%|██████▏   | 784/1256 [35:16<21:27,  2.73s/it]\u001b[A\n",
            " 62%|██████▎   | 785/1256 [35:19<21:48,  2.78s/it]\u001b[A\n",
            " 63%|██████▎   | 786/1256 [35:21<21:40,  2.77s/it]\u001b[A\n",
            " 63%|██████▎   | 787/1256 [35:24<21:37,  2.77s/it]\u001b[A\n",
            " 63%|██████▎   | 788/1256 [35:27<21:36,  2.77s/it]\u001b[A"
          ],
          "name": "stderr"
        },
        {
          "output_type": "stream",
          "text": [
            "DQN Trader sold:  $ 37.439999  Profit: - $ 1.320000\n"
          ],
          "name": "stdout"
        },
        {
          "output_type": "stream",
          "text": [
            "\n",
            " 63%|██████▎   | 789/1256 [35:30<21:30,  2.76s/it]\u001b[A\n",
            " 63%|██████▎   | 790/1256 [35:33<21:26,  2.76s/it]\u001b[A"
          ],
          "name": "stderr"
        },
        {
          "output_type": "stream",
          "text": [
            "DQN Trader sold:  $ 36.520000  Profit: - $ 2.529999\n"
          ],
          "name": "stdout"
        },
        {
          "output_type": "stream",
          "text": [
            "\n",
            " 63%|██████▎   | 791/1256 [35:35<21:41,  2.80s/it]\u001b[A"
          ],
          "name": "stderr"
        },
        {
          "output_type": "stream",
          "text": [
            "DQN Trader sold:  $ 36.430000  Profit: - $ 2.169998\n"
          ],
          "name": "stdout"
        },
        {
          "output_type": "stream",
          "text": [
            "\n",
            " 63%|██████▎   | 792/1256 [35:38<21:32,  2.78s/it]\u001b[A\n",
            " 63%|██████▎   | 793/1256 [35:41<21:12,  2.75s/it]\u001b[A"
          ],
          "name": "stderr"
        },
        {
          "output_type": "stream",
          "text": [
            "DQN Trader sold:  $ 37.380001  Profit: - $ 1.309998\n"
          ],
          "name": "stdout"
        },
        {
          "output_type": "stream",
          "text": [
            "\n",
            " 63%|██████▎   | 794/1256 [35:44<21:05,  2.74s/it]\u001b[A"
          ],
          "name": "stderr"
        },
        {
          "output_type": "stream",
          "text": [
            "DQN Trader sold:  $ 37.330002  Profit: - $ 0.919998\n"
          ],
          "name": "stdout"
        },
        {
          "output_type": "stream",
          "text": [
            "\n",
            " 63%|██████▎   | 795/1256 [35:46<21:03,  2.74s/it]\u001b[A\n",
            " 63%|██████▎   | 796/1256 [35:49<20:56,  2.73s/it]\u001b[A"
          ],
          "name": "stderr"
        },
        {
          "output_type": "stream",
          "text": [
            "DQN Trader sold:  $ 36.220001  Profit: - $ 1.340000\n"
          ],
          "name": "stdout"
        },
        {
          "output_type": "stream",
          "text": [
            "\n",
            " 63%|██████▎   | 797/1256 [35:52<21:13,  2.77s/it]\u001b[A"
          ],
          "name": "stderr"
        },
        {
          "output_type": "stream",
          "text": [
            "DQN Trader sold:  $ 36.759998  Profit: - $ 1.590000\n"
          ],
          "name": "stdout"
        },
        {
          "output_type": "stream",
          "text": [
            "\n",
            " 64%|██████▎   | 798/1256 [35:55<21:07,  2.77s/it]\u001b[A"
          ],
          "name": "stderr"
        },
        {
          "output_type": "stream",
          "text": [
            "DQN Trader sold:  $ 36.230000  Profit: - $ 1.389999\n"
          ],
          "name": "stdout"
        },
        {
          "output_type": "stream",
          "text": [
            "\n",
            " 64%|██████▎   | 799/1256 [35:57<21:06,  2.77s/it]\u001b[A"
          ],
          "name": "stderr"
        },
        {
          "output_type": "stream",
          "text": [
            "DQN Trader sold:  $ 35.880001  Profit: - $ 2.239998\n"
          ],
          "name": "stdout"
        },
        {
          "output_type": "stream",
          "text": [
            "\n",
            " 64%|██████▎   | 800/1256 [36:00<21:07,  2.78s/it]\u001b[A"
          ],
          "name": "stderr"
        },
        {
          "output_type": "stream",
          "text": [
            "DQN Trader sold:  $ 35.709999  Profit: - $ 0.799999\n"
          ],
          "name": "stdout"
        },
        {
          "output_type": "stream",
          "text": [
            "\n",
            " 64%|██████▍   | 801/1256 [36:03<21:05,  2.78s/it]\u001b[A"
          ],
          "name": "stderr"
        },
        {
          "output_type": "stream",
          "text": [
            "DQN Trader sold:  $ 35.290001  Profit: - $ 1.169998\n"
          ],
          "name": "stdout"
        },
        {
          "output_type": "stream",
          "text": [
            "\n",
            " 64%|██████▍   | 802/1256 [36:06<21:16,  2.81s/it]\u001b[A"
          ],
          "name": "stderr"
        },
        {
          "output_type": "stream",
          "text": [
            "DQN Trader sold:  $ 36.759998  Profit: $ 1.250000\n"
          ],
          "name": "stdout"
        },
        {
          "output_type": "stream",
          "text": [
            "\n",
            " 64%|██████▍   | 803/1256 [36:09<21:04,  2.79s/it]\u001b[A"
          ],
          "name": "stderr"
        },
        {
          "output_type": "stream",
          "text": [
            "DQN Trader sold:  $ 36.779999  Profit: $ 0.840000\n"
          ],
          "name": "stdout"
        },
        {
          "output_type": "stream",
          "text": [
            "\n",
            " 64%|██████▍   | 804/1256 [36:11<20:46,  2.76s/it]\u001b[A"
          ],
          "name": "stderr"
        },
        {
          "output_type": "stream",
          "text": [
            "DQN Trader sold:  $ 37.139999  Profit: $ 0.579998\n"
          ],
          "name": "stdout"
        },
        {
          "output_type": "stream",
          "text": [
            "\n",
            " 64%|██████▍   | 805/1256 [36:14<20:34,  2.74s/it]\u001b[A"
          ],
          "name": "stderr"
        },
        {
          "output_type": "stream",
          "text": [
            "DQN Trader sold:  $ 36.910000  Profit: $ 0.520000\n"
          ],
          "name": "stdout"
        },
        {
          "output_type": "stream",
          "text": [
            "\n",
            " 64%|██████▍   | 806/1256 [36:17<20:28,  2.73s/it]\u001b[A"
          ],
          "name": "stderr"
        },
        {
          "output_type": "stream",
          "text": [
            "DQN Trader sold:  $ 36.520000  Profit: - $ 0.070000\n"
          ],
          "name": "stdout"
        },
        {
          "output_type": "stream",
          "text": [
            "\n",
            " 64%|██████▍   | 807/1256 [36:19<20:19,  2.72s/it]\u001b[A"
          ],
          "name": "stderr"
        },
        {
          "output_type": "stream",
          "text": [
            "DQN Trader sold:  $ 34.360001  Profit: - $ 2.610001\n"
          ],
          "name": "stdout"
        },
        {
          "output_type": "stream",
          "text": [
            "\n",
            " 64%|██████▍   | 808/1256 [36:22<20:37,  2.76s/it]\u001b[A"
          ],
          "name": "stderr"
        },
        {
          "output_type": "stream",
          "text": [
            "DQN Trader sold:  $ 34.970001  Profit: - $ 2.340000\n"
          ],
          "name": "stdout"
        },
        {
          "output_type": "stream",
          "text": [
            "\n",
            " 64%|██████▍   | 809/1256 [36:25<20:31,  2.75s/it]\u001b[A"
          ],
          "name": "stderr"
        },
        {
          "output_type": "stream",
          "text": [
            "DQN Trader sold:  $ 35.230000  Profit: - $ 5.660000\n"
          ],
          "name": "stdout"
        },
        {
          "output_type": "stream",
          "text": [
            "\n",
            " 64%|██████▍   | 810/1256 [36:28<20:27,  2.75s/it]\u001b[A"
          ],
          "name": "stderr"
        },
        {
          "output_type": "stream",
          "text": [
            "DQN Trader sold:  $ 34.939999  Profit: - $ 4.410000\n"
          ],
          "name": "stdout"
        },
        {
          "output_type": "stream",
          "text": [
            "\n",
            " 65%|██████▍   | 811/1256 [36:30<20:27,  2.76s/it]\u001b[A"
          ],
          "name": "stderr"
        },
        {
          "output_type": "stream",
          "text": [
            "DQN Trader sold:  $ 35.610001  Profit: - $ 0.349998\n"
          ],
          "name": "stdout"
        },
        {
          "output_type": "stream",
          "text": [
            "\n",
            " 65%|██████▍   | 812/1256 [36:33<20:18,  2.75s/it]\u001b[A"
          ],
          "name": "stderr"
        },
        {
          "output_type": "stream",
          "text": [
            "DQN Trader sold:  $ 36.419998  Profit: - $ 0.420002\n"
          ],
          "name": "stdout"
        },
        {
          "output_type": "stream",
          "text": [
            "\n",
            " 65%|██████▍   | 813/1256 [36:36<20:12,  2.74s/it]\u001b[A"
          ],
          "name": "stderr"
        },
        {
          "output_type": "stream",
          "text": [
            "DQN Trader sold:  $ 36.610001  Profit: - $ 0.189999\n"
          ],
          "name": "stdout"
        },
        {
          "output_type": "stream",
          "text": [
            "\n",
            " 65%|██████▍   | 814/1256 [36:39<20:26,  2.78s/it]\u001b[A\n",
            " 65%|██████▍   | 815/1256 [36:41<20:13,  2.75s/it]\u001b[A\n",
            " 65%|██████▍   | 816/1256 [36:44<20:01,  2.73s/it]\u001b[A\n",
            " 65%|██████▌   | 817/1256 [36:47<19:53,  2.72s/it]\u001b[A\n",
            " 65%|██████▌   | 818/1256 [36:50<19:47,  2.71s/it]\u001b[A\n",
            " 65%|██████▌   | 819/1256 [36:52<19:42,  2.71s/it]\u001b[A\n",
            " 65%|██████▌   | 820/1256 [36:55<19:56,  2.74s/it]\u001b[A\n",
            " 65%|██████▌   | 821/1256 [36:58<19:51,  2.74s/it]\u001b[A\n",
            " 65%|██████▌   | 822/1256 [37:00<19:43,  2.73s/it]\u001b[A\n",
            " 66%|██████▌   | 823/1256 [37:03<19:42,  2.73s/it]\u001b[A\n",
            " 66%|██████▌   | 824/1256 [37:06<19:43,  2.74s/it]\u001b[A\n",
            " 66%|██████▌   | 825/1256 [37:09<19:38,  2.73s/it]\u001b[A\n",
            " 66%|██████▌   | 826/1256 [37:12<19:55,  2.78s/it]\u001b[A\n",
            " 66%|██████▌   | 827/1256 [37:14<19:40,  2.75s/it]\u001b[A\n",
            " 66%|██████▌   | 828/1256 [37:17<19:34,  2.74s/it]\u001b[A\n",
            " 66%|██████▌   | 829/1256 [37:20<19:31,  2.74s/it]\u001b[A\n",
            " 66%|██████▌   | 830/1256 [37:22<19:27,  2.74s/it]\u001b[A\n",
            " 66%|██████▌   | 831/1256 [37:25<19:39,  2.77s/it]\u001b[A\n",
            " 66%|██████▌   | 832/1256 [37:28<19:23,  2.74s/it]\u001b[A"
          ],
          "name": "stderr"
        },
        {
          "output_type": "stream",
          "text": [
            "DQN Trader bought:  $ 37.790001\n"
          ],
          "name": "stdout"
        },
        {
          "output_type": "stream",
          "text": [
            "\n",
            " 66%|██████▋   | 833/1256 [37:31<19:15,  2.73s/it]\u001b[A"
          ],
          "name": "stderr"
        },
        {
          "output_type": "stream",
          "text": [
            "DQN Trader sold:  $ 38.290001  Profit: $ 0.500000\n"
          ],
          "name": "stdout"
        },
        {
          "output_type": "stream",
          "text": [
            "\n",
            " 66%|██████▋   | 834/1256 [37:33<19:12,  2.73s/it]\u001b[A\n",
            " 66%|██████▋   | 835/1256 [37:36<19:05,  2.72s/it]\u001b[A\n",
            " 67%|██████▋   | 836/1256 [37:39<19:01,  2.72s/it]\u001b[A\n",
            " 67%|██████▋   | 837/1256 [37:42<19:15,  2.76s/it]\u001b[A\n",
            " 67%|██████▋   | 838/1256 [37:44<19:04,  2.74s/it]\u001b[A\n",
            " 67%|██████▋   | 839/1256 [37:47<18:58,  2.73s/it]\u001b[A\n",
            " 67%|██████▋   | 840/1256 [37:50<18:53,  2.72s/it]\u001b[A\n",
            " 67%|██████▋   | 841/1256 [37:53<18:45,  2.71s/it]\u001b[A\n",
            " 67%|██████▋   | 842/1256 [37:55<18:55,  2.74s/it]\u001b[A\n",
            " 67%|██████▋   | 843/1256 [37:58<18:44,  2.72s/it]\u001b[A\n",
            " 67%|██████▋   | 844/1256 [38:01<18:35,  2.71s/it]\u001b[A\n",
            " 67%|██████▋   | 845/1256 [38:03<18:30,  2.70s/it]\u001b[A\n",
            " 67%|██████▋   | 846/1256 [38:06<18:31,  2.71s/it]\u001b[A\n",
            " 67%|██████▋   | 847/1256 [38:09<18:25,  2.70s/it]\u001b[A\n",
            " 68%|██████▊   | 848/1256 [38:12<18:34,  2.73s/it]\u001b[A\n",
            " 68%|██████▊   | 849/1256 [38:14<18:23,  2.71s/it]\u001b[A\n",
            " 68%|██████▊   | 850/1256 [38:17<18:22,  2.71s/it]\u001b[A\n",
            " 68%|██████▊   | 851/1256 [38:20<18:28,  2.74s/it]\u001b[A\n",
            " 68%|██████▊   | 852/1256 [38:23<18:28,  2.74s/it]\u001b[A\n",
            " 68%|██████▊   | 853/1256 [38:25<18:24,  2.74s/it]\u001b[A\n",
            " 68%|██████▊   | 854/1256 [38:28<18:39,  2.78s/it]\u001b[A\n",
            " 68%|██████▊   | 855/1256 [38:31<18:26,  2.76s/it]\u001b[A\n",
            " 68%|██████▊   | 856/1256 [38:33<18:10,  2.73s/it]\u001b[A\n",
            " 68%|██████▊   | 857/1256 [38:36<18:05,  2.72s/it]\u001b[A\n",
            " 68%|██████▊   | 858/1256 [38:39<18:05,  2.73s/it]\u001b[A\n",
            " 68%|██████▊   | 859/1256 [38:42<17:59,  2.72s/it]\u001b[A\n",
            " 68%|██████▊   | 860/1256 [38:44<18:11,  2.76s/it]\u001b[A\n",
            " 69%|██████▊   | 861/1256 [38:47<18:01,  2.74s/it]\u001b[A\n",
            " 69%|██████▊   | 862/1256 [38:50<17:54,  2.73s/it]\u001b[A\n",
            " 69%|██████▊   | 863/1256 [38:53<17:44,  2.71s/it]\u001b[A\n",
            " 69%|██████▉   | 864/1256 [38:55<17:40,  2.70s/it]\u001b[A\n",
            " 69%|██████▉   | 865/1256 [38:58<17:32,  2.69s/it]\u001b[A\n",
            " 69%|██████▉   | 866/1256 [39:01<17:43,  2.73s/it]\u001b[A\n",
            " 69%|██████▉   | 867/1256 [39:03<17:34,  2.71s/it]\u001b[A\n",
            " 69%|██████▉   | 868/1256 [39:06<17:24,  2.69s/it]\u001b[A\n",
            " 69%|██████▉   | 869/1256 [39:09<17:24,  2.70s/it]\u001b[A\n",
            " 69%|██████▉   | 870/1256 [39:11<17:17,  2.69s/it]\u001b[A\n",
            " 69%|██████▉   | 871/1256 [39:14<17:17,  2.69s/it]\u001b[A\n",
            " 69%|██████▉   | 872/1256 [39:17<17:29,  2.73s/it]\u001b[A\n",
            " 70%|██████▉   | 873/1256 [39:20<17:22,  2.72s/it]\u001b[A\n",
            " 70%|██████▉   | 874/1256 [39:22<17:11,  2.70s/it]\u001b[A\n",
            " 70%|██████▉   | 875/1256 [39:25<17:06,  2.69s/it]\u001b[A\n",
            " 70%|██████▉   | 876/1256 [39:28<16:59,  2.68s/it]\u001b[A\n",
            " 70%|██████▉   | 877/1256 [39:30<16:55,  2.68s/it]\u001b[A\n",
            " 70%|██████▉   | 878/1256 [39:33<17:07,  2.72s/it]\u001b[A\n",
            " 70%|██████▉   | 879/1256 [39:36<16:59,  2.71s/it]\u001b[A\n",
            " 70%|███████   | 880/1256 [39:38<16:55,  2.70s/it]\u001b[A\n",
            " 70%|███████   | 881/1256 [39:41<16:53,  2.70s/it]\u001b[A\n",
            " 70%|███████   | 882/1256 [39:44<16:45,  2.69s/it]\u001b[A\n",
            " 70%|███████   | 883/1256 [39:47<16:54,  2.72s/it]\u001b[A\n",
            " 70%|███████   | 884/1256 [39:49<16:45,  2.70s/it]\u001b[A\n",
            " 70%|███████   | 885/1256 [39:52<16:39,  2.69s/it]\u001b[A\n",
            " 71%|███████   | 886/1256 [39:55<16:32,  2.68s/it]\u001b[A\n",
            " 71%|███████   | 887/1256 [39:57<16:30,  2.68s/it]\u001b[A\n",
            " 71%|███████   | 888/1256 [40:00<16:29,  2.69s/it]\u001b[A\n",
            " 71%|███████   | 889/1256 [40:03<16:45,  2.74s/it]\u001b[A\n",
            " 71%|███████   | 890/1256 [40:06<16:39,  2.73s/it]\u001b[A\n",
            " 71%|███████   | 891/1256 [40:08<16:35,  2.73s/it]\u001b[A\n",
            " 71%|███████   | 892/1256 [40:11<16:31,  2.72s/it]\u001b[A\n",
            " 71%|███████   | 893/1256 [40:14<16:21,  2.70s/it]\u001b[A\n",
            " 71%|███████   | 894/1256 [40:16<16:28,  2.73s/it]\u001b[A\n",
            " 71%|███████▏  | 895/1256 [40:19<16:20,  2.72s/it]\u001b[A\n",
            " 71%|███████▏  | 896/1256 [40:22<16:11,  2.70s/it]\u001b[A\n",
            " 71%|███████▏  | 897/1256 [40:24<16:08,  2.70s/it]\u001b[A\n",
            " 71%|███████▏  | 898/1256 [40:27<16:03,  2.69s/it]\u001b[A\n",
            " 72%|███████▏  | 899/1256 [40:30<15:58,  2.68s/it]\u001b[A\n",
            " 72%|███████▏  | 900/1256 [40:33<15:58,  2.69s/it]\u001b[A"
          ],
          "name": "stderr"
        },
        {
          "output_type": "stream",
          "text": [
            "DQN Trader bought:  $ 40.250000\n"
          ],
          "name": "stdout"
        },
        {
          "output_type": "stream",
          "text": [
            "\n",
            " 72%|███████▏  | 901/1256 [40:35<16:09,  2.73s/it]\u001b[A"
          ],
          "name": "stderr"
        },
        {
          "output_type": "stream",
          "text": [
            "DQN Trader bought:  $ 38.660000\n"
          ],
          "name": "stdout"
        },
        {
          "output_type": "stream",
          "text": [
            "\n",
            " 72%|███████▏  | 902/1256 [40:38<16:00,  2.71s/it]\u001b[A"
          ],
          "name": "stderr"
        },
        {
          "output_type": "stream",
          "text": [
            "DQN Trader sold:  $ 39.299999  Profit: - $ 0.950001\n"
          ],
          "name": "stdout"
        },
        {
          "output_type": "stream",
          "text": [
            "\n",
            " 72%|███████▏  | 903/1256 [40:41<15:54,  2.70s/it]\u001b[A"
          ],
          "name": "stderr"
        },
        {
          "output_type": "stream",
          "text": [
            "DQN Trader sold:  $ 38.900002  Profit: $ 0.240002\n"
          ],
          "name": "stdout"
        },
        {
          "output_type": "stream",
          "text": [
            "\n",
            " 72%|███████▏  | 904/1256 [40:43<15:52,  2.71s/it]\u001b[A"
          ],
          "name": "stderr"
        },
        {
          "output_type": "stream",
          "text": [
            "DQN Trader bought:  $ 38.070000\n"
          ],
          "name": "stdout"
        },
        {
          "output_type": "stream",
          "text": [
            "\n",
            " 72%|███████▏  | 905/1256 [40:46<15:46,  2.70s/it]\u001b[A"
          ],
          "name": "stderr"
        },
        {
          "output_type": "stream",
          "text": [
            "DQN Trader sold:  $ 38.200001  Profit: $ 0.130001\n"
          ],
          "name": "stdout"
        },
        {
          "output_type": "stream",
          "text": [
            "\n",
            " 72%|███████▏  | 906/1256 [40:49<15:54,  2.73s/it]\u001b[A\n",
            " 72%|███████▏  | 907/1256 [40:52<15:44,  2.71s/it]\u001b[A\n",
            " 72%|███████▏  | 908/1256 [40:54<15:36,  2.69s/it]\u001b[A\n",
            " 72%|███████▏  | 909/1256 [40:57<15:33,  2.69s/it]\u001b[A\n",
            " 72%|███████▏  | 910/1256 [41:00<15:28,  2.68s/it]\u001b[A\n",
            " 73%|███████▎  | 911/1256 [41:02<15:22,  2.67s/it]\u001b[A\n",
            " 73%|███████▎  | 912/1256 [41:05<15:32,  2.71s/it]\u001b[A\n",
            " 73%|███████▎  | 913/1256 [41:08<15:29,  2.71s/it]\u001b[A\n",
            " 73%|███████▎  | 914/1256 [41:10<15:19,  2.69s/it]\u001b[A\n",
            " 73%|███████▎  | 915/1256 [41:13<15:12,  2.68s/it]\u001b[A\n",
            " 73%|███████▎  | 916/1256 [41:16<15:11,  2.68s/it]\u001b[A\n",
            " 73%|███████▎  | 917/1256 [41:18<15:10,  2.69s/it]\u001b[A\n",
            " 73%|███████▎  | 918/1256 [41:21<15:25,  2.74s/it]\u001b[A\n",
            " 73%|███████▎  | 919/1256 [41:24<15:20,  2.73s/it]\u001b[A\n",
            " 73%|███████▎  | 920/1256 [41:27<15:13,  2.72s/it]\u001b[A\n",
            " 73%|███████▎  | 921/1256 [41:29<15:11,  2.72s/it]\u001b[A\n",
            " 73%|███████▎  | 922/1256 [41:32<15:13,  2.74s/it]\u001b[A\n",
            " 73%|███████▎  | 923/1256 [41:35<15:09,  2.73s/it]\u001b[A\n",
            " 74%|███████▎  | 924/1256 [41:38<15:16,  2.76s/it]\u001b[A\n",
            " 74%|███████▎  | 925/1256 [41:40<15:07,  2.74s/it]\u001b[A\n",
            " 74%|███████▎  | 926/1256 [41:43<14:57,  2.72s/it]\u001b[A\n",
            " 74%|███████▍  | 927/1256 [41:46<14:51,  2.71s/it]\u001b[A\n",
            " 74%|███████▍  | 928/1256 [41:48<14:45,  2.70s/it]\u001b[A\n",
            " 74%|███████▍  | 929/1256 [41:51<14:39,  2.69s/it]\u001b[A\n",
            " 74%|███████▍  | 930/1256 [41:54<14:48,  2.73s/it]\u001b[A\n",
            " 74%|███████▍  | 931/1256 [41:57<14:39,  2.71s/it]\u001b[A\n",
            " 74%|███████▍  | 932/1256 [41:59<14:32,  2.69s/it]\u001b[A\n",
            " 74%|███████▍  | 933/1256 [42:02<14:29,  2.69s/it]\u001b[A\n",
            " 74%|███████▍  | 934/1256 [42:05<14:23,  2.68s/it]\u001b[A\n",
            " 74%|███████▍  | 935/1256 [42:07<14:36,  2.73s/it]\u001b[A\n",
            " 75%|███████▍  | 936/1256 [42:10<14:30,  2.72s/it]\u001b[A\n",
            " 75%|███████▍  | 937/1256 [42:13<14:24,  2.71s/it]\u001b[A\n",
            " 75%|███████▍  | 938/1256 [42:15<14:16,  2.69s/it]\u001b[A\n",
            " 75%|███████▍  | 939/1256 [42:18<14:12,  2.69s/it]\u001b[A\n",
            " 75%|███████▍  | 940/1256 [42:21<14:10,  2.69s/it]\u001b[A\n",
            " 75%|███████▍  | 941/1256 [42:24<14:18,  2.73s/it]\u001b[A\n",
            " 75%|███████▌  | 942/1256 [42:26<14:07,  2.70s/it]\u001b[A\n",
            " 75%|███████▌  | 943/1256 [42:29<14:03,  2.69s/it]\u001b[A\n",
            " 75%|███████▌  | 944/1256 [42:32<14:01,  2.70s/it]\u001b[A\n",
            " 75%|███████▌  | 945/1256 [42:34<13:54,  2.68s/it]\u001b[A\n",
            " 75%|███████▌  | 946/1256 [42:37<14:02,  2.72s/it]\u001b[A\n",
            " 75%|███████▌  | 947/1256 [42:40<13:58,  2.71s/it]\u001b[A\n",
            " 75%|███████▌  | 948/1256 [42:43<13:57,  2.72s/it]\u001b[A\n",
            " 76%|███████▌  | 949/1256 [42:45<13:54,  2.72s/it]\u001b[A\n",
            " 76%|███████▌  | 950/1256 [42:48<13:50,  2.72s/it]\u001b[A\n",
            " 76%|███████▌  | 951/1256 [42:51<13:43,  2.70s/it]\u001b[A\n",
            " 76%|███████▌  | 952/1256 [42:53<13:49,  2.73s/it]\u001b[A\n",
            " 76%|███████▌  | 953/1256 [42:56<13:38,  2.70s/it]\u001b[A\n",
            " 76%|███████▌  | 954/1256 [42:59<13:30,  2.68s/it]\u001b[A\n",
            " 76%|███████▌  | 955/1256 [43:01<13:27,  2.68s/it]\u001b[A\n",
            " 76%|███████▌  | 956/1256 [43:04<13:23,  2.68s/it]\u001b[A\n",
            " 76%|███████▌  | 957/1256 [43:07<13:19,  2.68s/it]\u001b[A\n",
            " 76%|███████▋  | 958/1256 [43:10<13:28,  2.71s/it]\u001b[A\n",
            " 76%|███████▋  | 959/1256 [43:12<13:24,  2.71s/it]\u001b[A\n",
            " 76%|███████▋  | 960/1256 [43:15<13:18,  2.70s/it]\u001b[A\n",
            " 77%|███████▋  | 961/1256 [43:18<13:11,  2.68s/it]\u001b[A\n",
            " 77%|███████▋  | 962/1256 [43:20<13:07,  2.68s/it]\u001b[A\n",
            " 77%|███████▋  | 963/1256 [43:23<13:03,  2.67s/it]\u001b[A\n",
            " 77%|███████▋  | 964/1256 [43:26<13:10,  2.71s/it]\u001b[A\n",
            " 77%|███████▋  | 965/1256 [43:28<13:14,  2.73s/it]\u001b[A\n",
            " 77%|███████▋  | 966/1256 [43:31<13:14,  2.74s/it]\u001b[A\n",
            " 77%|███████▋  | 967/1256 [43:34<13:14,  2.75s/it]\u001b[A"
          ],
          "name": "stderr"
        },
        {
          "output_type": "stream",
          "text": [
            "DQN Trader bought:  $ 42.130001\n"
          ],
          "name": "stdout"
        },
        {
          "output_type": "stream",
          "text": [
            "\n",
            " 77%|███████▋  | 968/1256 [43:37<13:12,  2.75s/it]\u001b[A"
          ],
          "name": "stderr"
        },
        {
          "output_type": "stream",
          "text": [
            "DQN Trader bought:  $ 40.950001\n"
          ],
          "name": "stdout"
        },
        {
          "output_type": "stream",
          "text": [
            "\n",
            " 77%|███████▋  | 969/1256 [43:39<13:06,  2.74s/it]\u001b[A"
          ],
          "name": "stderr"
        },
        {
          "output_type": "stream",
          "text": [
            "DQN Trader bought:  $ 41.340000\n"
          ],
          "name": "stdout"
        },
        {
          "output_type": "stream",
          "text": [
            "\n",
            " 77%|███████▋  | 970/1256 [43:42<13:09,  2.76s/it]\u001b[A"
          ],
          "name": "stderr"
        },
        {
          "output_type": "stream",
          "text": [
            "DQN Trader bought:  $ 41.349998\n"
          ],
          "name": "stdout"
        },
        {
          "output_type": "stream",
          "text": [
            "\n",
            " 77%|███████▋  | 971/1256 [43:45<13:02,  2.75s/it]\u001b[A"
          ],
          "name": "stderr"
        },
        {
          "output_type": "stream",
          "text": [
            "DQN Trader sold:  $ 41.650002  Profit: - $ 0.480000\n"
          ],
          "name": "stdout"
        },
        {
          "output_type": "stream",
          "text": [
            "\n",
            " 77%|███████▋  | 972/1256 [43:48<12:53,  2.73s/it]\u001b[A"
          ],
          "name": "stderr"
        },
        {
          "output_type": "stream",
          "text": [
            "DQN Trader bought:  $ 42.279999\n"
          ],
          "name": "stdout"
        },
        {
          "output_type": "stream",
          "text": [
            "\n",
            " 77%|███████▋  | 973/1256 [43:50<12:48,  2.72s/it]\u001b[A"
          ],
          "name": "stderr"
        },
        {
          "output_type": "stream",
          "text": [
            "DQN Trader sold:  $ 42.630001  Profit: $ 1.680000\n"
          ],
          "name": "stdout"
        },
        {
          "output_type": "stream",
          "text": [
            "\n",
            " 78%|███████▊  | 974/1256 [43:53<12:48,  2.73s/it]\u001b[A"
          ],
          "name": "stderr"
        },
        {
          "output_type": "stream",
          "text": [
            "DQN Trader bought:  $ 41.720001\n"
          ],
          "name": "stdout"
        },
        {
          "output_type": "stream",
          "text": [
            "\n",
            " 78%|███████▊  | 975/1256 [43:56<12:42,  2.71s/it]\u001b[A"
          ],
          "name": "stderr"
        },
        {
          "output_type": "stream",
          "text": [
            "DQN Trader sold:  $ 43.150002  Profit: $ 1.810001\n"
          ],
          "name": "stdout"
        },
        {
          "output_type": "stream",
          "text": [
            "\n",
            " 78%|███████▊  | 976/1256 [43:59<12:48,  2.74s/it]\u001b[A"
          ],
          "name": "stderr"
        },
        {
          "output_type": "stream",
          "text": [
            "DQN Trader bought:  $ 44.240002\n"
          ],
          "name": "stdout"
        },
        {
          "output_type": "stream",
          "text": [
            "\n",
            " 78%|███████▊  | 977/1256 [44:01<12:44,  2.74s/it]\u001b[A"
          ],
          "name": "stderr"
        },
        {
          "output_type": "stream",
          "text": [
            "DQN Trader sold:  $ 43.709999  Profit: $ 2.360001\n"
          ],
          "name": "stdout"
        },
        {
          "output_type": "stream",
          "text": [
            "\n",
            " 78%|███████▊  | 978/1256 [44:04<12:39,  2.73s/it]\u001b[A"
          ],
          "name": "stderr"
        },
        {
          "output_type": "stream",
          "text": [
            "DQN Trader sold:  $ 43.849998  Profit: $ 1.570000\n"
          ],
          "name": "stdout"
        },
        {
          "output_type": "stream",
          "text": [
            "\n",
            " 78%|███████▊  | 979/1256 [44:07<12:38,  2.74s/it]\u001b[A"
          ],
          "name": "stderr"
        },
        {
          "output_type": "stream",
          "text": [
            "DQN Trader sold:  $ 44.099998  Profit: $ 2.379997\n"
          ],
          "name": "stdout"
        },
        {
          "output_type": "stream",
          "text": [
            "\n",
            " 78%|███████▊  | 980/1256 [44:09<12:31,  2.72s/it]\u001b[A"
          ],
          "name": "stderr"
        },
        {
          "output_type": "stream",
          "text": [
            "DQN Trader sold:  $ 44.220001  Profit: - $ 0.020000\n"
          ],
          "name": "stdout"
        },
        {
          "output_type": "stream",
          "text": [
            "\n",
            " 78%|███████▊  | 981/1256 [44:12<12:25,  2.71s/it]\u001b[A\n",
            " 78%|███████▊  | 982/1256 [44:15<12:29,  2.74s/it]\u001b[A\n",
            " 78%|███████▊  | 983/1256 [44:18<12:20,  2.71s/it]\u001b[A\n",
            " 78%|███████▊  | 984/1256 [44:20<12:15,  2.70s/it]\u001b[A\n",
            " 78%|███████▊  | 985/1256 [44:23<12:13,  2.71s/it]\u001b[A\n",
            " 79%|███████▊  | 986/1256 [44:26<12:09,  2.70s/it]\u001b[A\n",
            " 79%|███████▊  | 987/1256 [44:29<12:19,  2.75s/it]\u001b[A\n",
            " 79%|███████▊  | 988/1256 [44:31<12:11,  2.73s/it]\u001b[A\n",
            " 79%|███████▊  | 989/1256 [44:34<12:05,  2.72s/it]\u001b[A\n",
            " 79%|███████▉  | 990/1256 [44:37<11:59,  2.71s/it]\u001b[A\n",
            " 79%|███████▉  | 991/1256 [44:39<11:52,  2.69s/it]\u001b[A\n",
            " 79%|███████▉  | 992/1256 [44:42<11:48,  2.68s/it]\u001b[A\n",
            " 79%|███████▉  | 993/1256 [44:45<11:57,  2.73s/it]\u001b[A\n",
            " 79%|███████▉  | 994/1256 [44:47<11:50,  2.71s/it]\u001b[A\n",
            " 79%|███████▉  | 995/1256 [44:50<11:46,  2.71s/it]\u001b[A\n",
            " 79%|███████▉  | 996/1256 [44:53<11:42,  2.70s/it]\u001b[A\n",
            " 79%|███████▉  | 997/1256 [44:56<11:40,  2.70s/it]\u001b[A\n",
            " 79%|███████▉  | 998/1256 [44:58<11:46,  2.74s/it]\u001b[A\n",
            " 80%|███████▉  | 999/1256 [45:01<11:39,  2.72s/it]\u001b[A\n",
            " 80%|███████▉  | 1000/1256 [45:04<11:34,  2.71s/it]\u001b[A\n",
            " 80%|███████▉  | 1001/1256 [45:06<11:27,  2.70s/it]\u001b[A\n",
            " 80%|███████▉  | 1002/1256 [45:09<11:21,  2.68s/it]\u001b[A\n",
            " 80%|███████▉  | 1003/1256 [45:12<11:17,  2.68s/it]\u001b[A\n",
            " 80%|███████▉  | 1004/1256 [45:15<11:26,  2.73s/it]\u001b[A\n",
            " 80%|████████  | 1005/1256 [45:17<11:18,  2.70s/it]\u001b[A\n",
            " 80%|████████  | 1006/1256 [45:20<11:17,  2.71s/it]\u001b[A"
          ],
          "name": "stderr"
        },
        {
          "output_type": "stream",
          "text": [
            "DQN Trader bought:  $ 49.750000\n"
          ],
          "name": "stdout"
        },
        {
          "output_type": "stream",
          "text": [
            "\n",
            " 80%|████████  | 1007/1256 [45:23<11:15,  2.71s/it]\u001b[A"
          ],
          "name": "stderr"
        },
        {
          "output_type": "stream",
          "text": [
            "DQN Trader bought:  $ 49.279999\n"
          ],
          "name": "stdout"
        },
        {
          "output_type": "stream",
          "text": [
            "\n",
            " 80%|████████  | 1008/1256 [45:25<11:17,  2.73s/it]\u001b[A"
          ],
          "name": "stderr"
        },
        {
          "output_type": "stream",
          "text": [
            "DQN Trader sold:  $ 50.000000  Profit: $ 0.250000\n"
          ],
          "name": "stdout"
        },
        {
          "output_type": "stream",
          "text": [
            "\n",
            " 80%|████████  | 1009/1256 [45:28<11:16,  2.74s/it]\u001b[A"
          ],
          "name": "stderr"
        },
        {
          "output_type": "stream",
          "text": [
            "DQN Trader sold:  $ 50.639999  Profit: $ 1.360001\n"
          ],
          "name": "stdout"
        },
        {
          "output_type": "stream",
          "text": [
            "\n",
            " 80%|████████  | 1010/1256 [45:31<11:22,  2.77s/it]\u001b[A\n",
            " 80%|████████  | 1011/1256 [45:34<11:13,  2.75s/it]\u001b[A\n",
            " 81%|████████  | 1012/1256 [45:36<11:08,  2.74s/it]\u001b[A\n",
            " 81%|████████  | 1013/1256 [45:39<11:03,  2.73s/it]\u001b[A"
          ],
          "name": "stderr"
        },
        {
          "output_type": "stream",
          "text": [
            "DQN Trader bought:  $ 51.310001\n"
          ],
          "name": "stdout"
        },
        {
          "output_type": "stream",
          "text": [
            "\n",
            " 81%|████████  | 1014/1256 [45:42<10:56,  2.71s/it]\u001b[A"
          ],
          "name": "stderr"
        },
        {
          "output_type": "stream",
          "text": [
            "DQN Trader bought:  $ 51.470001\n"
          ],
          "name": "stdout"
        },
        {
          "output_type": "stream",
          "text": [
            "\n",
            " 81%|████████  | 1015/1256 [45:44<10:51,  2.71s/it]\u001b[A"
          ],
          "name": "stderr"
        },
        {
          "output_type": "stream",
          "text": [
            "DQN Trader bought:  $ 51.910000\n"
          ],
          "name": "stdout"
        },
        {
          "output_type": "stream",
          "text": [
            "\n",
            " 81%|████████  | 1016/1256 [45:47<10:57,  2.74s/it]\u001b[A"
          ],
          "name": "stderr"
        },
        {
          "output_type": "stream",
          "text": [
            "DQN Trader bought:  $ 51.630001\n"
          ],
          "name": "stdout"
        },
        {
          "output_type": "stream",
          "text": [
            "\n",
            " 81%|████████  | 1017/1256 [45:50<10:49,  2.72s/it]\u001b[A"
          ],
          "name": "stderr"
        },
        {
          "output_type": "stream",
          "text": [
            "DQN Trader bought:  $ 52.099998\n"
          ],
          "name": "stdout"
        },
        {
          "output_type": "stream",
          "text": [
            "\n",
            " 81%|████████  | 1018/1256 [45:53<10:42,  2.70s/it]\u001b[A"
          ],
          "name": "stderr"
        },
        {
          "output_type": "stream",
          "text": [
            "DQN Trader bought:  $ 53.490002\n"
          ],
          "name": "stdout"
        },
        {
          "output_type": "stream",
          "text": [
            "\n",
            " 81%|████████  | 1019/1256 [45:55<10:37,  2.69s/it]\u001b[A"
          ],
          "name": "stderr"
        },
        {
          "output_type": "stream",
          "text": [
            "DQN Trader sold:  $ 53.549999  Profit: $ 2.239998\n"
          ],
          "name": "stdout"
        },
        {
          "output_type": "stream",
          "text": [
            "\n",
            " 81%|████████  | 1020/1256 [45:58<10:33,  2.69s/it]\u001b[A"
          ],
          "name": "stderr"
        },
        {
          "output_type": "stream",
          "text": [
            "DQN Trader sold:  $ 53.639999  Profit: $ 2.169998\n"
          ],
          "name": "stdout"
        },
        {
          "output_type": "stream",
          "text": [
            "\n",
            " 81%|████████▏ | 1021/1256 [46:01<10:28,  2.67s/it]\u001b[A"
          ],
          "name": "stderr"
        },
        {
          "output_type": "stream",
          "text": [
            "DQN Trader sold:  $ 53.669998  Profit: $ 1.759998\n"
          ],
          "name": "stdout"
        },
        {
          "output_type": "stream",
          "text": [
            "\n",
            " 81%|████████▏ | 1022/1256 [46:03<10:35,  2.72s/it]\u001b[A"
          ],
          "name": "stderr"
        },
        {
          "output_type": "stream",
          "text": [
            "DQN Trader sold:  $ 52.830002  Profit: $ 1.200001\n"
          ],
          "name": "stdout"
        },
        {
          "output_type": "stream",
          "text": [
            "\n",
            " 81%|████████▏ | 1023/1256 [46:06<10:29,  2.70s/it]\u001b[A"
          ],
          "name": "stderr"
        },
        {
          "output_type": "stream",
          "text": [
            "DQN Trader sold:  $ 52.599998  Profit: $ 0.500000\n"
          ],
          "name": "stdout"
        },
        {
          "output_type": "stream",
          "text": [
            "\n",
            " 82%|████████▏ | 1024/1256 [46:09<10:25,  2.70s/it]\u001b[A"
          ],
          "name": "stderr"
        },
        {
          "output_type": "stream",
          "text": [
            "DQN Trader sold:  $ 52.150002  Profit: - $ 1.340000\n"
          ],
          "name": "stdout"
        },
        {
          "output_type": "stream",
          "text": [
            "\n",
            " 82%|████████▏ | 1025/1256 [46:11<10:21,  2.69s/it]\u001b[A\n",
            " 82%|████████▏ | 1026/1256 [46:14<10:15,  2.67s/it]\u001b[A\n",
            " 82%|████████▏ | 1027/1256 [46:17<10:11,  2.67s/it]\u001b[A\n",
            " 82%|████████▏ | 1028/1256 [46:20<10:15,  2.70s/it]\u001b[A\n",
            " 82%|████████▏ | 1029/1256 [46:22<10:10,  2.69s/it]\u001b[A\n",
            " 82%|████████▏ | 1030/1256 [46:25<10:04,  2.67s/it]\u001b[A\n",
            " 82%|████████▏ | 1031/1256 [46:27<10:00,  2.67s/it]\u001b[A\n",
            " 82%|████████▏ | 1032/1256 [46:30<10:04,  2.70s/it]\u001b[A\n",
            " 82%|████████▏ | 1033/1256 [46:33<09:58,  2.68s/it]\u001b[A\n",
            " 82%|████████▏ | 1034/1256 [46:36<10:09,  2.75s/it]\u001b[A\n",
            " 82%|████████▏ | 1035/1256 [46:39<10:10,  2.76s/it]\u001b[A\n",
            " 82%|████████▏ | 1036/1256 [46:41<10:05,  2.75s/it]\u001b[A\n",
            " 83%|████████▎ | 1037/1256 [46:44<09:58,  2.73s/it]\u001b[A\n",
            " 83%|████████▎ | 1038/1256 [46:47<09:52,  2.72s/it]\u001b[A\n",
            " 83%|████████▎ | 1039/1256 [46:50<09:58,  2.76s/it]\u001b[A\n",
            " 83%|████████▎ | 1040/1256 [46:52<09:47,  2.72s/it]\u001b[A\n",
            " 83%|████████▎ | 1041/1256 [46:55<09:40,  2.70s/it]\u001b[A\n",
            " 83%|████████▎ | 1042/1256 [46:58<09:35,  2.69s/it]\u001b[A\n",
            " 83%|████████▎ | 1043/1256 [47:00<09:34,  2.70s/it]\u001b[A\n",
            " 83%|████████▎ | 1044/1256 [47:03<09:31,  2.69s/it]\u001b[A\n",
            " 83%|████████▎ | 1045/1256 [47:06<09:36,  2.73s/it]\u001b[A\n",
            " 83%|████████▎ | 1046/1256 [47:08<09:30,  2.71s/it]\u001b[A\n",
            " 83%|████████▎ | 1047/1256 [47:11<09:25,  2.71s/it]\u001b[A\n",
            " 83%|████████▎ | 1048/1256 [47:14<09:19,  2.69s/it]\u001b[A\n",
            " 84%|████████▎ | 1049/1256 [47:16<09:15,  2.68s/it]\u001b[A"
          ],
          "name": "stderr"
        },
        {
          "output_type": "stream",
          "text": [
            "DQN Trader bought:  $ 59.099998\n"
          ],
          "name": "stdout"
        },
        {
          "output_type": "stream",
          "text": [
            "\n",
            " 84%|████████▎ | 1050/1256 [47:19<09:19,  2.72s/it]\u001b[A"
          ],
          "name": "stderr"
        },
        {
          "output_type": "stream",
          "text": [
            "DQN Trader bought:  $ 57.959999\n"
          ],
          "name": "stdout"
        },
        {
          "output_type": "stream",
          "text": [
            "\n",
            " 84%|████████▎ | 1051/1256 [47:22<09:18,  2.73s/it]\u001b[A"
          ],
          "name": "stderr"
        },
        {
          "output_type": "stream",
          "text": [
            "DQN Trader bought:  $ 57.930000\n"
          ],
          "name": "stdout"
        },
        {
          "output_type": "stream",
          "text": [
            "\n",
            " 84%|████████▍ | 1052/1256 [47:25<09:13,  2.71s/it]\u001b[A"
          ],
          "name": "stderr"
        },
        {
          "output_type": "stream",
          "text": [
            "DQN Trader bought:  $ 58.220001\n"
          ],
          "name": "stdout"
        },
        {
          "output_type": "stream",
          "text": [
            "\n",
            " 84%|████████▍ | 1053/1256 [47:27<09:07,  2.70s/it]\u001b[A"
          ],
          "name": "stderr"
        },
        {
          "output_type": "stream",
          "text": [
            "DQN Trader bought:  $ 57.759998\n"
          ],
          "name": "stdout"
        },
        {
          "output_type": "stream",
          "text": [
            "\n",
            " 84%|████████▍ | 1054/1256 [47:30<09:05,  2.70s/it]\u001b[A"
          ],
          "name": "stderr"
        },
        {
          "output_type": "stream",
          "text": [
            "DQN Trader bought:  $ 58.250000\n"
          ],
          "name": "stdout"
        },
        {
          "output_type": "stream",
          "text": [
            "\n",
            " 84%|████████▍ | 1055/1256 [47:33<09:03,  2.70s/it]\u001b[A"
          ],
          "name": "stderr"
        },
        {
          "output_type": "stream",
          "text": [
            "DQN Trader sold:  $ 58.459999  Profit: - $ 0.639999\n"
          ],
          "name": "stdout"
        },
        {
          "output_type": "stream",
          "text": [
            "\n",
            " 84%|████████▍ | 1056/1256 [47:36<09:06,  2.73s/it]\u001b[A"
          ],
          "name": "stderr"
        },
        {
          "output_type": "stream",
          "text": [
            "DQN Trader sold:  $ 57.849998  Profit: - $ 0.110001\n"
          ],
          "name": "stdout"
        },
        {
          "output_type": "stream",
          "text": [
            "\n",
            " 84%|████████▍ | 1057/1256 [47:38<08:59,  2.71s/it]\u001b[A"
          ],
          "name": "stderr"
        },
        {
          "output_type": "stream",
          "text": [
            "DQN Trader sold:  $ 58.099998  Profit: $ 0.169998\n"
          ],
          "name": "stdout"
        },
        {
          "output_type": "stream",
          "text": [
            "\n",
            " 84%|████████▍ | 1058/1256 [47:41<08:54,  2.70s/it]\u001b[A"
          ],
          "name": "stderr"
        },
        {
          "output_type": "stream",
          "text": [
            "DQN Trader sold:  $ 60.040001  Profit: $ 1.820000\n"
          ],
          "name": "stdout"
        },
        {
          "output_type": "stream",
          "text": [
            "\n",
            " 84%|████████▍ | 1059/1256 [47:43<08:48,  2.68s/it]\u001b[A"
          ],
          "name": "stderr"
        },
        {
          "output_type": "stream",
          "text": [
            "DQN Trader sold:  $ 58.060001  Profit: $ 0.300003\n"
          ],
          "name": "stdout"
        },
        {
          "output_type": "stream",
          "text": [
            "\n",
            " 84%|████████▍ | 1060/1256 [47:46<08:43,  2.67s/it]\u001b[A"
          ],
          "name": "stderr"
        },
        {
          "output_type": "stream",
          "text": [
            "DQN Trader sold:  $ 57.389999  Profit: - $ 0.860001\n"
          ],
          "name": "stdout"
        },
        {
          "output_type": "stream",
          "text": [
            "\n",
            " 84%|████████▍ | 1061/1256 [47:49<08:38,  2.66s/it]\u001b[A\n",
            " 85%|████████▍ | 1062/1256 [47:52<08:45,  2.71s/it]\u001b[A\n",
            " 85%|████████▍ | 1063/1256 [47:54<08:39,  2.69s/it]\u001b[A\n",
            " 85%|████████▍ | 1064/1256 [47:57<08:34,  2.68s/it]\u001b[A\n",
            " 85%|████████▍ | 1065/1256 [48:00<08:30,  2.67s/it]\u001b[A\n",
            " 85%|████████▍ | 1066/1256 [48:02<08:29,  2.68s/it]\u001b[A\n",
            " 85%|████████▍ | 1067/1256 [48:05<08:24,  2.67s/it]\u001b[A\n",
            " 85%|████████▌ | 1068/1256 [48:08<08:32,  2.72s/it]\u001b[A\n",
            " 85%|████████▌ | 1069/1256 [48:10<08:26,  2.71s/it]\u001b[A\n",
            " 85%|████████▌ | 1070/1256 [48:13<08:20,  2.69s/it]\u001b[A\n",
            " 85%|████████▌ | 1071/1256 [48:16<08:16,  2.68s/it]\u001b[A\n",
            " 85%|████████▌ | 1072/1256 [48:19<08:22,  2.73s/it]\u001b[A\n",
            " 85%|████████▌ | 1073/1256 [48:21<08:28,  2.78s/it]\u001b[A\n",
            " 86%|████████▌ | 1074/1256 [48:24<08:29,  2.80s/it]\u001b[A\n",
            " 86%|████████▌ | 1075/1256 [48:27<08:24,  2.79s/it]\u001b[A\n",
            " 86%|████████▌ | 1076/1256 [48:30<08:21,  2.78s/it]\u001b[A\n",
            " 86%|████████▌ | 1077/1256 [48:33<08:17,  2.78s/it]\u001b[A\n",
            " 86%|████████▌ | 1078/1256 [48:35<08:09,  2.75s/it]\u001b[A\n",
            " 86%|████████▌ | 1079/1256 [48:38<08:10,  2.77s/it]\u001b[A"
          ],
          "name": "stderr"
        },
        {
          "output_type": "stream",
          "text": [
            "DQN Trader bought:  $ 54.770000\n"
          ],
          "name": "stdout"
        },
        {
          "output_type": "stream",
          "text": [
            "\n",
            " 86%|████████▌ | 1080/1256 [48:41<08:19,  2.84s/it]\u001b[A\n",
            " 86%|████████▌ | 1081/1256 [48:44<08:18,  2.85s/it]\u001b[A"
          ],
          "name": "stderr"
        },
        {
          "output_type": "stream",
          "text": [
            "DQN Trader sold:  $ 57.919998  Profit: $ 3.149998\n"
          ],
          "name": "stdout"
        },
        {
          "output_type": "stream",
          "text": [
            "\n",
            " 86%|████████▌ | 1082/1256 [48:47<08:14,  2.84s/it]\u001b[A\n",
            " 86%|████████▌ | 1083/1256 [48:50<08:08,  2.82s/it]\u001b[A\n",
            " 86%|████████▋ | 1084/1256 [48:52<08:00,  2.80s/it]\u001b[A\n",
            " 86%|████████▋ | 1085/1256 [48:55<07:55,  2.78s/it]\u001b[A\n",
            " 86%|████████▋ | 1086/1256 [48:58<07:58,  2.81s/it]\u001b[A\n",
            " 87%|████████▋ | 1087/1256 [49:01<07:51,  2.79s/it]\u001b[A\n",
            " 87%|████████▋ | 1088/1256 [49:03<07:45,  2.77s/it]\u001b[A"
          ],
          "name": "stderr"
        },
        {
          "output_type": "stream",
          "text": [
            "DQN Trader bought:  $ 58.189999\n"
          ],
          "name": "stdout"
        },
        {
          "output_type": "stream",
          "text": [
            "\n",
            " 87%|████████▋ | 1089/1256 [49:06<07:44,  2.78s/it]\u001b[A"
          ],
          "name": "stderr"
        },
        {
          "output_type": "stream",
          "text": [
            "DQN Trader bought:  $ 56.180000\n"
          ],
          "name": "stdout"
        },
        {
          "output_type": "stream",
          "text": [
            "\n",
            " 87%|████████▋ | 1090/1256 [49:09<07:42,  2.78s/it]\u001b[A"
          ],
          "name": "stderr"
        },
        {
          "output_type": "stream",
          "text": [
            "DQN Trader bought:  $ 57.639999\n"
          ],
          "name": "stdout"
        },
        {
          "output_type": "stream",
          "text": [
            "\n",
            " 87%|████████▋ | 1091/1256 [49:12<07:47,  2.83s/it]\u001b[A"
          ],
          "name": "stderr"
        },
        {
          "output_type": "stream",
          "text": [
            "DQN Trader bought:  $ 56.480000\n"
          ],
          "name": "stdout"
        },
        {
          "output_type": "stream",
          "text": [
            "\n",
            " 87%|████████▋ | 1092/1256 [49:15<07:41,  2.81s/it]\u001b[A\n",
            " 87%|████████▋ | 1093/1256 [49:17<07:36,  2.80s/it]\u001b[A\n",
            " 87%|████████▋ | 1094/1256 [49:20<07:32,  2.79s/it]\u001b[A"
          ],
          "name": "stderr"
        },
        {
          "output_type": "stream",
          "text": [
            "DQN Trader bought:  $ 53.860001\n"
          ],
          "name": "stdout"
        },
        {
          "output_type": "stream",
          "text": [
            "\n",
            " 87%|████████▋ | 1095/1256 [49:23<07:28,  2.78s/it]\u001b[A\n",
            " 87%|████████▋ | 1096/1256 [49:26<07:27,  2.79s/it]\u001b[A"
          ],
          "name": "stderr"
        },
        {
          "output_type": "stream",
          "text": [
            "DQN Trader bought:  $ 53.290001\n"
          ],
          "name": "stdout"
        },
        {
          "output_type": "stream",
          "text": [
            "\n",
            " 87%|████████▋ | 1097/1256 [49:29<07:31,  2.84s/it]\u001b[A"
          ],
          "name": "stderr"
        },
        {
          "output_type": "stream",
          "text": [
            "DQN Trader sold:  $ 53.840000  Profit: - $ 4.349998\n"
          ],
          "name": "stdout"
        },
        {
          "output_type": "stream",
          "text": [
            "\n",
            " 87%|████████▋ | 1098/1256 [49:32<07:26,  2.83s/it]\u001b[A"
          ],
          "name": "stderr"
        },
        {
          "output_type": "stream",
          "text": [
            "DQN Trader sold:  $ 55.980000  Profit: - $ 0.200001\n"
          ],
          "name": "stdout"
        },
        {
          "output_type": "stream",
          "text": [
            "\n",
            " 88%|████████▊ | 1099/1256 [49:34<07:20,  2.81s/it]\u001b[A"
          ],
          "name": "stderr"
        },
        {
          "output_type": "stream",
          "text": [
            "DQN Trader sold:  $ 54.880001  Profit: - $ 2.759998\n"
          ],
          "name": "stdout"
        },
        {
          "output_type": "stream",
          "text": [
            "\n",
            " 88%|████████▊ | 1100/1256 [49:37<07:15,  2.79s/it]\u001b[A\n",
            " 88%|████████▊ | 1101/1256 [49:40<07:10,  2.78s/it]\u001b[A"
          ],
          "name": "stderr"
        },
        {
          "output_type": "stream",
          "text": [
            "DQN Trader sold:  $ 55.730000  Profit: - $ 0.750000\n"
          ],
          "name": "stdout"
        },
        {
          "output_type": "stream",
          "text": [
            "\n",
            " 88%|████████▊ | 1102/1256 [49:43<07:06,  2.77s/it]\u001b[A"
          ],
          "name": "stderr"
        },
        {
          "output_type": "stream",
          "text": [
            "DQN Trader sold:  $ 55.070000  Profit: $ 1.209999\n"
          ],
          "name": "stdout"
        },
        {
          "output_type": "stream",
          "text": [
            "\n",
            " 88%|████████▊ | 1103/1256 [49:46<07:09,  2.81s/it]\u001b[A"
          ],
          "name": "stderr"
        },
        {
          "output_type": "stream",
          "text": [
            "DQN Trader sold:  $ 51.830002  Profit: - $ 1.459999\n"
          ],
          "name": "stdout"
        },
        {
          "output_type": "stream",
          "text": [
            "\n",
            " 88%|████████▊ | 1104/1256 [49:48<07:03,  2.79s/it]\u001b[A"
          ],
          "name": "stderr"
        },
        {
          "output_type": "stream",
          "text": [
            "DQN Trader bought:  $ 54.509998\n"
          ],
          "name": "stdout"
        },
        {
          "output_type": "stream",
          "text": [
            "\n",
            " 88%|████████▊ | 1105/1256 [49:51<06:58,  2.77s/it]\u001b[A"
          ],
          "name": "stderr"
        },
        {
          "output_type": "stream",
          "text": [
            "DQN Trader bought:  $ 52.240002\n"
          ],
          "name": "stdout"
        },
        {
          "output_type": "stream",
          "text": [
            "\n",
            " 88%|████████▊ | 1106/1256 [49:54<06:55,  2.77s/it]\u001b[A"
          ],
          "name": "stderr"
        },
        {
          "output_type": "stream",
          "text": [
            "DQN Trader sold:  $ 48.689999  Profit: - $ 5.820000\n"
          ],
          "name": "stdout"
        },
        {
          "output_type": "stream",
          "text": [
            "\n",
            " 88%|████████▊ | 1107/1256 [49:56<06:51,  2.76s/it]\u001b[A"
          ],
          "name": "stderr"
        },
        {
          "output_type": "stream",
          "text": [
            "DQN Trader sold:  $ 52.230000  Profit: - $ 0.010002\n"
          ],
          "name": "stdout"
        },
        {
          "output_type": "stream",
          "text": [
            "\n",
            " 88%|████████▊ | 1108/1256 [49:59<06:45,  2.74s/it]\u001b[A\n",
            " 88%|████████▊ | 1109/1256 [50:02<06:49,  2.79s/it]\u001b[A"
          ],
          "name": "stderr"
        },
        {
          "output_type": "stream",
          "text": [
            "DQN Trader bought:  $ 48.540001\n"
          ],
          "name": "stdout"
        },
        {
          "output_type": "stream",
          "text": [
            "\n",
            " 88%|████████▊ | 1110/1256 [50:05<06:43,  2.76s/it]\u001b[A"
          ],
          "name": "stderr"
        },
        {
          "output_type": "stream",
          "text": [
            "DQN Trader sold:  $ 44.369999  Profit: - $ 4.170002\n"
          ],
          "name": "stdout"
        },
        {
          "output_type": "stream",
          "text": [
            "\n",
            " 88%|████████▊ | 1111/1256 [50:08<06:38,  2.75s/it]\u001b[A\n",
            " 89%|████████▊ | 1112/1256 [50:10<06:37,  2.76s/it]\u001b[A\n",
            " 89%|████████▊ | 1113/1256 [50:13<06:34,  2.76s/it]\u001b[A\n",
            " 89%|████████▊ | 1114/1256 [50:16<06:39,  2.82s/it]\u001b[A\n",
            " 89%|████████▉ | 1115/1256 [50:19<06:35,  2.80s/it]\u001b[A\n",
            " 89%|████████▉ | 1116/1256 [50:22<06:36,  2.83s/it]\u001b[A\n",
            " 89%|████████▉ | 1117/1256 [50:24<06:31,  2.82s/it]\u001b[A\n",
            " 89%|████████▉ | 1118/1256 [50:27<06:29,  2.82s/it]\u001b[A\n",
            " 89%|████████▉ | 1119/1256 [50:30<06:23,  2.80s/it]\u001b[A\n",
            " 89%|████████▉ | 1120/1256 [50:33<06:26,  2.84s/it]\u001b[A\n",
            " 89%|████████▉ | 1121/1256 [50:36<06:21,  2.82s/it]\u001b[A\n",
            " 89%|████████▉ | 1122/1256 [50:39<06:17,  2.82s/it]\u001b[A\n",
            " 89%|████████▉ | 1123/1256 [50:41<06:14,  2.81s/it]\u001b[A\n",
            " 89%|████████▉ | 1124/1256 [50:44<06:14,  2.84s/it]\u001b[A\n",
            " 90%|████████▉ | 1125/1256 [50:47<06:16,  2.87s/it]\u001b[A\n",
            " 90%|████████▉ | 1126/1256 [50:50<06:11,  2.85s/it]\u001b[A\n",
            " 90%|████████▉ | 1127/1256 [50:53<06:04,  2.83s/it]\u001b[A\n",
            " 90%|████████▉ | 1128/1256 [50:56<05:59,  2.81s/it]\u001b[A\n",
            " 90%|████████▉ | 1129/1256 [50:58<05:54,  2.79s/it]\u001b[A\n",
            " 90%|████████▉ | 1130/1256 [51:01<05:50,  2.78s/it]\u001b[A\n",
            " 90%|█████████ | 1131/1256 [51:04<05:51,  2.81s/it]\u001b[A\n",
            " 90%|█████████ | 1132/1256 [51:07<05:45,  2.78s/it]\u001b[A\n",
            " 90%|█████████ | 1133/1256 [51:09<05:40,  2.77s/it]\u001b[A\n",
            " 90%|█████████ | 1134/1256 [51:12<05:37,  2.77s/it]\u001b[A\n",
            " 90%|█████████ | 1135/1256 [51:15<05:32,  2.75s/it]\u001b[A\n",
            " 90%|█████████ | 1136/1256 [51:18<05:29,  2.75s/it]\u001b[A\n",
            " 91%|█████████ | 1137/1256 [51:21<05:33,  2.80s/it]\u001b[A\n",
            " 91%|█████████ | 1138/1256 [51:23<05:27,  2.77s/it]\u001b[A\n",
            " 91%|█████████ | 1139/1256 [51:26<05:22,  2.76s/it]\u001b[A\n",
            " 91%|█████████ | 1140/1256 [51:29<05:19,  2.75s/it]\u001b[A\n",
            " 91%|█████████ | 1141/1256 [51:31<05:15,  2.74s/it]\u001b[A\n",
            " 91%|█████████ | 1142/1256 [51:34<05:11,  2.74s/it]\u001b[A"
          ],
          "name": "stderr"
        },
        {
          "output_type": "stream",
          "text": [
            "DQN Trader bought:  $ 52.150002\n"
          ],
          "name": "stdout"
        },
        {
          "output_type": "stream",
          "text": [
            "\n",
            " 91%|█████████ | 1143/1256 [51:37<05:12,  2.77s/it]\u001b[A"
          ],
          "name": "stderr"
        },
        {
          "output_type": "stream",
          "text": [
            "DQN Trader bought:  $ 51.709999\n"
          ],
          "name": "stdout"
        },
        {
          "output_type": "stream",
          "text": [
            "\n",
            " 91%|█████████ | 1144/1256 [51:40<05:09,  2.77s/it]\u001b[A"
          ],
          "name": "stderr"
        },
        {
          "output_type": "stream",
          "text": [
            "DQN Trader bought:  $ 52.130001\n"
          ],
          "name": "stdout"
        },
        {
          "output_type": "stream",
          "text": [
            "\n",
            " 91%|█████████ | 1145/1256 [51:43<05:08,  2.78s/it]\u001b[A"
          ],
          "name": "stderr"
        },
        {
          "output_type": "stream",
          "text": [
            "DQN Trader sold:  $ 52.330002  Profit: $ 0.180000\n"
          ],
          "name": "stdout"
        },
        {
          "output_type": "stream",
          "text": [
            "\n",
            " 91%|█████████ | 1146/1256 [51:45<05:07,  2.80s/it]\u001b[A"
          ],
          "name": "stderr"
        },
        {
          "output_type": "stream",
          "text": [
            "DQN Trader sold:  $ 52.910000  Profit: $ 1.200001\n"
          ],
          "name": "stdout"
        },
        {
          "output_type": "stream",
          "text": [
            "\n",
            " 91%|█████████▏| 1147/1256 [51:48<05:01,  2.77s/it]\u001b[A"
          ],
          "name": "stderr"
        },
        {
          "output_type": "stream",
          "text": [
            "DQN Trader sold:  $ 52.400002  Profit: $ 0.270000\n"
          ],
          "name": "stdout"
        },
        {
          "output_type": "stream",
          "text": [
            "\n",
            " 91%|█████████▏| 1148/1256 [51:51<04:58,  2.76s/it]\u001b[A\n",
            " 91%|█████████▏| 1149/1256 [51:54<04:59,  2.80s/it]\u001b[A\n",
            " 92%|█████████▏| 1150/1256 [51:56<04:54,  2.78s/it]\u001b[A\n",
            " 92%|█████████▏| 1151/1256 [51:59<04:49,  2.76s/it]\u001b[A\n",
            " 92%|█████████▏| 1152/1256 [52:02<04:45,  2.75s/it]\u001b[A\n",
            " 92%|█████████▏| 1153/1256 [52:05<04:43,  2.75s/it]\u001b[A\n",
            " 92%|█████████▏| 1154/1256 [52:08<04:45,  2.80s/it]\u001b[A\n",
            " 92%|█████████▏| 1155/1256 [52:10<04:39,  2.77s/it]\u001b[A\n",
            " 92%|█████████▏| 1156/1256 [52:13<04:37,  2.77s/it]\u001b[A\n",
            " 92%|█████████▏| 1157/1256 [52:16<04:34,  2.77s/it]\u001b[A\n",
            " 92%|█████████▏| 1158/1256 [52:19<04:31,  2.77s/it]\u001b[A\n",
            " 92%|█████████▏| 1159/1256 [52:21<04:28,  2.77s/it]\u001b[A\n",
            " 92%|█████████▏| 1160/1256 [52:24<04:29,  2.80s/it]\u001b[A\n",
            " 92%|█████████▏| 1161/1256 [52:27<04:26,  2.80s/it]\u001b[A\n",
            " 93%|█████████▎| 1162/1256 [52:30<04:22,  2.79s/it]\u001b[A\n",
            " 93%|█████████▎| 1163/1256 [52:33<04:19,  2.79s/it]\u001b[A\n",
            " 93%|█████████▎| 1164/1256 [52:35<04:15,  2.77s/it]\u001b[A\n",
            " 93%|█████████▎| 1165/1256 [52:38<04:12,  2.77s/it]\u001b[A\n",
            " 93%|█████████▎| 1166/1256 [52:41<04:11,  2.79s/it]\u001b[A\n",
            " 93%|█████████▎| 1167/1256 [52:44<04:07,  2.78s/it]\u001b[A\n",
            " 93%|█████████▎| 1168/1256 [52:46<04:04,  2.77s/it]\u001b[A\n",
            " 93%|█████████▎| 1169/1256 [52:49<04:00,  2.77s/it]\u001b[A\n",
            " 93%|█████████▎| 1170/1256 [52:52<03:57,  2.76s/it]\u001b[A\n",
            " 93%|█████████▎| 1171/1256 [52:55<03:54,  2.76s/it]\u001b[A\n",
            " 93%|█████████▎| 1172/1256 [52:58<03:55,  2.81s/it]\u001b[A\n",
            " 93%|█████████▎| 1173/1256 [53:00<03:51,  2.78s/it]\u001b[A\n",
            " 93%|█████████▎| 1174/1256 [53:03<03:47,  2.78s/it]\u001b[A\n",
            " 94%|█████████▎| 1175/1256 [53:06<03:44,  2.77s/it]\u001b[A\n",
            " 94%|█████████▎| 1176/1256 [53:09<03:40,  2.75s/it]\u001b[A\n",
            " 94%|█████████▎| 1177/1256 [53:11<03:36,  2.74s/it]\u001b[A\n",
            " 94%|█████████▍| 1178/1256 [53:14<03:37,  2.79s/it]\u001b[A\n",
            " 94%|█████████▍| 1179/1256 [53:17<03:34,  2.78s/it]\u001b[A\n",
            " 94%|█████████▍| 1180/1256 [53:20<03:30,  2.77s/it]\u001b[A\n",
            " 94%|█████████▍| 1181/1256 [53:22<03:27,  2.77s/it]\u001b[A"
          ],
          "name": "stderr"
        },
        {
          "output_type": "stream",
          "text": [
            "DQN Trader bought:  $ 56.389999\n"
          ],
          "name": "stdout"
        },
        {
          "output_type": "stream",
          "text": [
            "\n",
            " 94%|█████████▍| 1182/1256 [53:25<03:25,  2.77s/it]\u001b[A"
          ],
          "name": "stderr"
        },
        {
          "output_type": "stream",
          "text": [
            "DQN Trader bought:  $ 56.770000\n"
          ],
          "name": "stdout"
        },
        {
          "output_type": "stream",
          "text": [
            "\n",
            " 94%|█████████▍| 1183/1256 [53:28<03:25,  2.81s/it]\u001b[A"
          ],
          "name": "stderr"
        },
        {
          "output_type": "stream",
          "text": [
            "DQN Trader sold:  $ 56.820000  Profit: $ 0.430000\n"
          ],
          "name": "stdout"
        },
        {
          "output_type": "stream",
          "text": [
            "\n",
            " 94%|█████████▍| 1184/1256 [53:31<03:21,  2.80s/it]\u001b[A"
          ],
          "name": "stderr"
        },
        {
          "output_type": "stream",
          "text": [
            "DQN Trader sold:  $ 58.619999  Profit: $ 1.849998\n"
          ],
          "name": "stdout"
        },
        {
          "output_type": "stream",
          "text": [
            "\n",
            " 94%|█████████▍| 1185/1256 [53:34<03:18,  2.80s/it]\u001b[A\n",
            " 94%|█████████▍| 1186/1256 [53:36<03:15,  2.79s/it]\u001b[A\n",
            " 95%|█████████▍| 1187/1256 [53:39<03:11,  2.78s/it]\u001b[A\n",
            " 95%|█████████▍| 1188/1256 [53:42<03:07,  2.76s/it]\u001b[A\n",
            " 95%|█████████▍| 1189/1256 [53:45<03:08,  2.81s/it]\u001b[A\n",
            " 95%|█████████▍| 1190/1256 [53:48<03:04,  2.80s/it]\u001b[A\n",
            " 95%|█████████▍| 1191/1256 [53:51<03:04,  2.84s/it]\u001b[A\n",
            " 95%|█████████▍| 1192/1256 [53:53<03:02,  2.86s/it]\u001b[A\n",
            " 95%|█████████▍| 1193/1256 [53:56<03:00,  2.87s/it]\u001b[A\n",
            " 95%|█████████▌| 1194/1256 [53:59<02:57,  2.86s/it]\u001b[A\n",
            " 95%|█████████▌| 1195/1256 [54:02<02:55,  2.87s/it]\u001b[A\n",
            " 95%|█████████▌| 1196/1256 [54:05<02:50,  2.85s/it]\u001b[A\n",
            " 95%|█████████▌| 1197/1256 [54:08<02:46,  2.83s/it]\u001b[A\n",
            " 95%|█████████▌| 1198/1256 [54:10<02:42,  2.80s/it]\u001b[A\n",
            " 95%|█████████▌| 1199/1256 [54:13<02:39,  2.79s/it]\u001b[A\n",
            " 96%|█████████▌| 1200/1256 [54:16<02:35,  2.78s/it]\u001b[A\n",
            " 96%|█████████▌| 1201/1256 [54:19<02:34,  2.81s/it]\u001b[A\n",
            " 96%|█████████▌| 1202/1256 [54:22<02:31,  2.80s/it]\u001b[A\n",
            " 96%|█████████▌| 1203/1256 [54:24<02:27,  2.78s/it]\u001b[A\n",
            " 96%|█████████▌| 1204/1256 [54:27<02:24,  2.78s/it]\u001b[A"
          ],
          "name": "stderr"
        },
        {
          "output_type": "stream",
          "text": [
            "DQN Trader bought:  $ 78.889999\n"
          ],
          "name": "stdout"
        },
        {
          "output_type": "stream",
          "text": [
            "\n",
            " 96%|█████████▌| 1205/1256 [54:30<02:20,  2.76s/it]\u001b[A"
          ],
          "name": "stderr"
        },
        {
          "output_type": "stream",
          "text": [
            "DQN Trader sold:  $ 78.949997  Profit: $ 0.059998\n"
          ],
          "name": "stdout"
        },
        {
          "output_type": "stream",
          "text": [
            "\n",
            " 96%|█████████▌| 1206/1256 [54:33<02:18,  2.77s/it]\u001b[A"
          ],
          "name": "stderr"
        },
        {
          "output_type": "stream",
          "text": [
            "DQN Trader bought:  $ 80.190002\n"
          ],
          "name": "stdout"
        },
        {
          "output_type": "stream",
          "text": [
            "\n",
            " 96%|█████████▌| 1207/1256 [54:36<02:17,  2.81s/it]\u001b[A"
          ],
          "name": "stderr"
        },
        {
          "output_type": "stream",
          "text": [
            "DQN Trader bought:  $ 81.629997\n"
          ],
          "name": "stdout"
        },
        {
          "output_type": "stream",
          "text": [
            "\n",
            " 96%|█████████▌| 1208/1256 [54:38<02:13,  2.79s/it]\u001b[A"
          ],
          "name": "stderr"
        },
        {
          "output_type": "stream",
          "text": [
            "DQN Trader sold:  $ 80.519997  Profit: $ 0.329994\n"
          ],
          "name": "stdout"
        },
        {
          "output_type": "stream",
          "text": [
            "\n",
            " 96%|█████████▋| 1209/1256 [54:41<02:10,  2.78s/it]\u001b[A"
          ],
          "name": "stderr"
        },
        {
          "output_type": "stream",
          "text": [
            "DQN Trader sold:  $ 80.029999  Profit: - $ 1.599998\n"
          ],
          "name": "stdout"
        },
        {
          "output_type": "stream",
          "text": [
            "\n",
            " 96%|█████████▋| 1210/1256 [54:44<02:07,  2.78s/it]\u001b[A\n",
            " 96%|█████████▋| 1211/1256 [54:47<02:05,  2.79s/it]\u001b[A\n",
            " 96%|█████████▋| 1212/1256 [54:50<02:04,  2.82s/it]\u001b[A\n",
            " 97%|█████████▋| 1213/1256 [54:52<02:00,  2.81s/it]\u001b[A\n",
            " 97%|█████████▋| 1214/1256 [54:55<01:57,  2.79s/it]\u001b[A\n",
            " 97%|█████████▋| 1215/1256 [54:58<01:54,  2.79s/it]\u001b[A\n",
            " 97%|█████████▋| 1216/1256 [55:01<01:50,  2.77s/it]\u001b[A\n",
            " 97%|█████████▋| 1217/1256 [55:03<01:47,  2.75s/it]\u001b[A\n",
            " 97%|█████████▋| 1218/1256 [55:06<01:46,  2.80s/it]\u001b[A\n",
            " 97%|█████████▋| 1219/1256 [55:09<01:43,  2.79s/it]\u001b[A\n",
            " 97%|█████████▋| 1220/1256 [55:12<01:39,  2.78s/it]\u001b[A\n",
            " 97%|█████████▋| 1221/1256 [55:14<01:36,  2.76s/it]\u001b[A\n",
            " 97%|█████████▋| 1222/1256 [55:17<01:33,  2.75s/it]\u001b[A\n",
            " 97%|█████████▋| 1223/1256 [55:20<01:30,  2.76s/it]\u001b[A\n",
            " 97%|█████████▋| 1224/1256 [55:23<01:29,  2.79s/it]\u001b[A\n",
            " 98%|█████████▊| 1225/1256 [55:26<01:26,  2.77s/it]\u001b[A\n",
            " 98%|█████████▊| 1226/1256 [55:28<01:23,  2.78s/it]\u001b[A\n",
            " 98%|█████████▊| 1227/1256 [55:31<01:20,  2.77s/it]\u001b[A\n",
            " 98%|█████████▊| 1228/1256 [55:34<01:17,  2.75s/it]\u001b[A\n",
            " 98%|█████████▊| 1229/1256 [55:37<01:15,  2.78s/it]\u001b[A"
          ],
          "name": "stderr"
        },
        {
          "output_type": "stream",
          "text": [
            "DQN Trader bought:  $ 78.910004\n"
          ],
          "name": "stdout"
        },
        {
          "output_type": "stream",
          "text": [
            "\n",
            " 98%|█████████▊| 1230/1256 [55:39<01:11,  2.77s/it]\u001b[A"
          ],
          "name": "stderr"
        },
        {
          "output_type": "stream",
          "text": [
            "DQN Trader sold:  $ 77.320000  Profit: - $ 1.590004\n"
          ],
          "name": "stdout"
        },
        {
          "output_type": "stream",
          "text": [
            "\n",
            " 98%|█████████▊| 1231/1256 [55:42<01:08,  2.75s/it]\u001b[A"
          ],
          "name": "stderr"
        },
        {
          "output_type": "stream",
          "text": [
            "DQN Trader bought:  $ 79.400002\n"
          ],
          "name": "stdout"
        },
        {
          "output_type": "stream",
          "text": [
            "\n",
            " 98%|█████████▊| 1232/1256 [55:45<01:05,  2.74s/it]\u001b[A"
          ],
          "name": "stderr"
        },
        {
          "output_type": "stream",
          "text": [
            "DQN Trader bought:  $ 78.900002\n"
          ],
          "name": "stdout"
        },
        {
          "output_type": "stream",
          "text": [
            "\n",
            " 98%|█████████▊| 1233/1256 [55:48<01:02,  2.74s/it]\u001b[A"
          ],
          "name": "stderr"
        },
        {
          "output_type": "stream",
          "text": [
            "DQN Trader sold:  $ 78.820000  Profit: - $ 0.580002\n"
          ],
          "name": "stdout"
        },
        {
          "output_type": "stream",
          "text": [
            "\n",
            " 98%|█████████▊| 1234/1256 [55:50<01:00,  2.73s/it]\u001b[A"
          ],
          "name": "stderr"
        },
        {
          "output_type": "stream",
          "text": [
            "DQN Trader sold:  $ 80.500000  Profit: $ 1.599998\n"
          ],
          "name": "stdout"
        },
        {
          "output_type": "stream",
          "text": [
            "\n",
            " 98%|█████████▊| 1235/1256 [55:53<00:58,  2.77s/it]\u001b[A\n",
            " 98%|█████████▊| 1236/1256 [55:56<00:55,  2.75s/it]\u001b[A\n",
            " 98%|█████████▊| 1237/1256 [55:58<00:51,  2.74s/it]\u001b[A\n",
            " 99%|█████████▊| 1238/1256 [56:01<00:49,  2.73s/it]\u001b[A"
          ],
          "name": "stderr"
        },
        {
          "output_type": "stream",
          "text": [
            "DQN Trader bought:  $ 80.230003\n"
          ],
          "name": "stdout"
        },
        {
          "output_type": "stream",
          "text": [
            "\n",
            " 99%|█████████▊| 1239/1256 [56:04<00:46,  2.73s/it]\u001b[A"
          ],
          "name": "stderr"
        },
        {
          "output_type": "stream",
          "text": [
            "DQN Trader bought:  $ 80.589996\n"
          ],
          "name": "stdout"
        },
        {
          "output_type": "stream",
          "text": [
            "\n",
            " 99%|█████████▊| 1240/1256 [56:07<00:43,  2.74s/it]\u001b[A"
          ],
          "name": "stderr"
        },
        {
          "output_type": "stream",
          "text": [
            "DQN Trader bought:  $ 80.480003\n"
          ],
          "name": "stdout"
        },
        {
          "output_type": "stream",
          "text": [
            "\n",
            " 99%|█████████▉| 1241/1256 [56:10<00:42,  2.81s/it]\u001b[A"
          ],
          "name": "stderr"
        },
        {
          "output_type": "stream",
          "text": [
            "DQN Trader bought:  $ 77.919998\n"
          ],
          "name": "stdout"
        },
        {
          "output_type": "stream",
          "text": [
            "\n",
            " 99%|█████████▉| 1242/1256 [56:12<00:38,  2.78s/it]\u001b[A"
          ],
          "name": "stderr"
        },
        {
          "output_type": "stream",
          "text": [
            "DQN Trader bought:  $ 78.379997\n"
          ],
          "name": "stdout"
        },
        {
          "output_type": "stream",
          "text": [
            "\n",
            " 99%|█████████▉| 1243/1256 [56:15<00:35,  2.76s/it]\u001b[A"
          ],
          "name": "stderr"
        },
        {
          "output_type": "stream",
          "text": [
            "DQN Trader sold:  $ 78.879997  Profit: - $ 1.350006\n"
          ],
          "name": "stdout"
        },
        {
          "output_type": "stream",
          "text": [
            "\n",
            " 99%|█████████▉| 1244/1256 [56:18<00:32,  2.74s/it]\u001b[A"
          ],
          "name": "stderr"
        },
        {
          "output_type": "stream",
          "text": [
            "DQN Trader bought:  $ 79.769997\n"
          ],
          "name": "stdout"
        },
        {
          "output_type": "stream",
          "text": [
            "\n",
            " 99%|█████████▉| 1245/1256 [56:21<00:30,  2.74s/it]\u001b[A"
          ],
          "name": "stderr"
        },
        {
          "output_type": "stream",
          "text": [
            "DQN Trader sold:  $ 80.510002  Profit: - $ 0.079994\n"
          ],
          "name": "stdout"
        },
        {
          "output_type": "stream",
          "text": [
            "\n",
            " 99%|█████████▉| 1246/1256 [56:23<00:27,  2.73s/it]\u001b[A"
          ],
          "name": "stderr"
        },
        {
          "output_type": "stream",
          "text": [
            "DQN Trader sold:  $ 81.070000  Profit: $ 0.589996\n"
          ],
          "name": "stdout"
        },
        {
          "output_type": "stream",
          "text": [
            "\n",
            " 99%|█████████▉| 1247/1256 [56:26<00:24,  2.75s/it]\u001b[A"
          ],
          "name": "stderr"
        },
        {
          "output_type": "stream",
          "text": [
            "DQN Trader sold:  $ 82.620003  Profit: $ 4.700005\n"
          ],
          "name": "stdout"
        },
        {
          "output_type": "stream",
          "text": [
            "\n",
            " 99%|█████████▉| 1248/1256 [56:29<00:22,  2.75s/it]\u001b[A"
          ],
          "name": "stderr"
        },
        {
          "output_type": "stream",
          "text": [
            "DQN Trader sold:  $ 80.800003  Profit: $ 2.420006\n"
          ],
          "name": "stdout"
        },
        {
          "output_type": "stream",
          "text": [
            "\n",
            " 99%|█████████▉| 1249/1256 [56:32<00:19,  2.75s/it]\u001b[A"
          ],
          "name": "stderr"
        },
        {
          "output_type": "stream",
          "text": [
            "DQN Trader sold:  $ 84.540001  Profit: $ 4.770004\n"
          ],
          "name": "stdout"
        },
        {
          "output_type": "stream",
          "text": [
            "\n",
            "100%|█████████▉| 1250/1256 [56:34<00:16,  2.74s/it]\u001b[A\n",
            "100%|█████████▉| 1251/1256 [56:37<00:13,  2.72s/it]\u001b[A\n",
            "100%|█████████▉| 1252/1256 [56:40<00:11,  2.75s/it]\u001b[A\n",
            "100%|█████████▉| 1253/1256 [56:42<00:08,  2.74s/it]\u001b[A\n",
            "100%|█████████▉| 1254/1256 [56:45<00:05,  2.73s/it]\u001b[A\n",
            "100%|█████████▉| 1255/1256 [56:48<00:02,  2.74s/it]\u001b[A"
          ],
          "name": "stderr"
        },
        {
          "output_type": "stream",
          "text": [
            "########################\n",
            "TOTAL PROFIT: 535.2000064849854\n",
            "########################\n"
          ],
          "name": "stdout"
        },
        {
          "output_type": "stream",
          "text": [
            "\n",
            "100%|██████████| 1256/1256 [56:51<00:00,  2.72s/it]\n"
          ],
          "name": "stderr"
        }
      ]
    },
    {
      "cell_type": "markdown",
      "metadata": {
        "id": "FD3wZciB-BTG"
      },
      "source": [
        "在程式自動交易之外, 另外以ConV1D隔日收盤價預測做驗證以對程式交易的方向覆核\n"
      ]
    },
    {
      "cell_type": "code",
      "metadata": {
        "id": "jPJVy1NN3CS8"
      },
      "source": [
        "scaler = StandardScaler()\n",
        "scaled_data = scaler.fit_transform(np.array(data).reshape(-1,1)) # 將訓練資料做normalization\n"
      ],
      "execution_count": null,
      "outputs": []
    },
    {
      "cell_type": "code",
      "metadata": {
        "id": "IUE8kr6tmARF"
      },
      "source": [
        "# 此function協助以window_size來整理資料\n",
        "def window_data(scaled_data, data, window_size):\n",
        "    X = []\n",
        "    y = []\n",
        "    i = 0\n",
        "    while (i + window_size) <= len(data) - 1:\n",
        "        X.append(scaled_data[i:i+window_size])\n",
        "        y.append(data[i+window_size]) # y值使用無scaled過的值\n",
        "        i += 1\n",
        "    assert len(X) == len(y)\n",
        "    return np.array(X), np.array(y)\n",
        "\n",
        "X,y = window_data(scaled_data,data, window_size) # 以window_size整理資料"
      ],
      "execution_count": null,
      "outputs": []
    },
    {
      "cell_type": "code",
      "metadata": {
        "id": "QKW5VtJmBy5O",
        "outputId": "6c5921b2-c867-453b-c092-41c94442560b",
        "colab": {
          "base_uri": "https://localhost:8080/",
          "height": 34
        }
      },
      "source": [
        "sep_idx= round(len(X)*0.9) # 90%做訓練,10%做test \n",
        "X_train = X[:sep_idx].reshape(-1,10,1)\n",
        "y_train= y[:sep_idx].reshape(-1,1)\n",
        "X_test = X[sep_idx:].reshape(-1,10,1)\n",
        "y_test = y[sep_idx:].reshape(-1,1)\n",
        "print(X_train.shape, y_train.shape, X_test.shape, y_test.shape)"
      ],
      "execution_count": null,
      "outputs": [
        {
          "output_type": "stream",
          "text": [
            "(1122, 10, 1) (1122, 1) (125, 10, 1) (125, 1)\n"
          ],
          "name": "stdout"
        }
      ]
    },
    {
      "cell_type": "code",
      "metadata": {
        "id": "eB19xYlNZ6ee",
        "outputId": "0daa1683-b4e5-40f2-93d7-e15d474592f2",
        "colab": {
          "base_uri": "https://localhost:8080/",
          "height": 289
        }
      },
      "source": [
        "from tensorflow.keras.models import Sequential, Model\n",
        "from tensorflow.keras.layers import Input,Dense, Activation, Conv1D, Flatten\n",
        "\n",
        "model = Sequential()\n",
        "inputs = Input(shape=(window_size,))\n",
        "model.add(Conv1D(input_shape=(window_size, 1), filters = 16, kernel_size=3, strides=1, \\\n",
        "                 activation='relu'))\n",
        "model.add(Conv1D(filters = 16, kernel_size=3, strides=1, \\\n",
        "                 activation='relu'))\n",
        "model.add(Flatten())\n",
        "model.add(Dense(1)) #輸出一個預測值\n",
        "model.summary()"
      ],
      "execution_count": null,
      "outputs": [
        {
          "output_type": "stream",
          "text": [
            "Model: \"sequential_1\"\n",
            "_________________________________________________________________\n",
            "Layer (type)                 Output Shape              Param #   \n",
            "=================================================================\n",
            "conv1d (Conv1D)              (None, 8, 16)             64        \n",
            "_________________________________________________________________\n",
            "conv1d_1 (Conv1D)            (None, 6, 16)             784       \n",
            "_________________________________________________________________\n",
            "flatten (Flatten)            (None, 96)                0         \n",
            "_________________________________________________________________\n",
            "dense_5 (Dense)              (None, 1)                 97        \n",
            "=================================================================\n",
            "Total params: 945\n",
            "Trainable params: 945\n",
            "Non-trainable params: 0\n",
            "_________________________________________________________________\n"
          ],
          "name": "stdout"
        }
      ]
    },
    {
      "cell_type": "code",
      "metadata": {
        "id": "rW854UvwhJ8d",
        "outputId": "997e30a9-8cb4-4c84-f42d-b88b68d7dcd0",
        "colab": {
          "base_uri": "https://localhost:8080/",
          "height": 1000
        }
      },
      "source": [
        "opt = tf.keras.optimizers.Adam(lr=0.001, decay=1e-6, clipvalue=5) # 使用adam做optimizer\n",
        "model.compile( loss='mse', optimizer=opt, metrics=['mse'] )\n",
        "model.fit(X_train, y_train, epochs=100)#, validation_data=(X_test, y_test))"
      ],
      "execution_count": null,
      "outputs": [
        {
          "output_type": "stream",
          "text": [
            "Epoch 1/100\n",
            "36/36 [==============================] - 0s 3ms/step - loss: 1446.4043 - mse: 1446.4043\n",
            "Epoch 2/100\n",
            "36/36 [==============================] - 0s 2ms/step - loss: 1338.2332 - mse: 1338.2332\n",
            "Epoch 3/100\n",
            "36/36 [==============================] - 0s 3ms/step - loss: 1067.8296 - mse: 1067.8296\n",
            "Epoch 4/100\n",
            "36/36 [==============================] - 0s 2ms/step - loss: 693.0980 - mse: 693.0980\n",
            "Epoch 5/100\n",
            "36/36 [==============================] - 0s 2ms/step - loss: 431.3968 - mse: 431.3968\n",
            "Epoch 6/100\n",
            "36/36 [==============================] - 0s 2ms/step - loss: 307.6350 - mse: 307.6350\n",
            "Epoch 7/100\n",
            "36/36 [==============================] - 0s 2ms/step - loss: 224.2442 - mse: 224.2442\n",
            "Epoch 8/100\n",
            "36/36 [==============================] - 0s 3ms/step - loss: 139.1577 - mse: 139.1577\n",
            "Epoch 9/100\n",
            "36/36 [==============================] - 0s 3ms/step - loss: 72.2116 - mse: 72.2116\n",
            "Epoch 10/100\n",
            "36/36 [==============================] - 0s 2ms/step - loss: 28.3407 - mse: 28.3407\n",
            "Epoch 11/100\n",
            "36/36 [==============================] - 0s 2ms/step - loss: 9.2780 - mse: 9.2780\n",
            "Epoch 12/100\n",
            "36/36 [==============================] - 0s 2ms/step - loss: 4.4608 - mse: 4.4608\n",
            "Epoch 13/100\n",
            "36/36 [==============================] - 0s 2ms/step - loss: 2.3743 - mse: 2.3743\n",
            "Epoch 14/100\n",
            "36/36 [==============================] - 0s 3ms/step - loss: 1.8252 - mse: 1.8252\n",
            "Epoch 15/100\n",
            "36/36 [==============================] - 0s 2ms/step - loss: 1.6631 - mse: 1.6631\n",
            "Epoch 16/100\n",
            "36/36 [==============================] - 0s 2ms/step - loss: 1.6328 - mse: 1.6328\n",
            "Epoch 17/100\n",
            "36/36 [==============================] - 0s 2ms/step - loss: 1.6096 - mse: 1.6096\n",
            "Epoch 18/100\n",
            "36/36 [==============================] - 0s 3ms/step - loss: 1.5825 - mse: 1.5825\n",
            "Epoch 19/100\n",
            "36/36 [==============================] - 0s 3ms/step - loss: 1.5970 - mse: 1.5970\n",
            "Epoch 20/100\n",
            "36/36 [==============================] - 0s 3ms/step - loss: 1.5888 - mse: 1.5888\n",
            "Epoch 21/100\n",
            "36/36 [==============================] - 0s 2ms/step - loss: 1.5351 - mse: 1.5351\n",
            "Epoch 22/100\n",
            "36/36 [==============================] - 0s 2ms/step - loss: 1.5729 - mse: 1.5729\n",
            "Epoch 23/100\n",
            "36/36 [==============================] - 0s 2ms/step - loss: 1.5139 - mse: 1.5139\n",
            "Epoch 24/100\n",
            "36/36 [==============================] - 0s 3ms/step - loss: 1.5317 - mse: 1.5317\n",
            "Epoch 25/100\n",
            "36/36 [==============================] - 0s 2ms/step - loss: 1.4902 - mse: 1.4902\n",
            "Epoch 26/100\n",
            "36/36 [==============================] - 0s 2ms/step - loss: 1.4789 - mse: 1.4789\n",
            "Epoch 27/100\n",
            "36/36 [==============================] - 0s 2ms/step - loss: 1.4663 - mse: 1.4663\n",
            "Epoch 28/100\n",
            "36/36 [==============================] - 0s 2ms/step - loss: 1.4612 - mse: 1.4612\n",
            "Epoch 29/100\n",
            "36/36 [==============================] - 0s 3ms/step - loss: 1.4956 - mse: 1.4956\n",
            "Epoch 30/100\n",
            "36/36 [==============================] - 0s 2ms/step - loss: 1.4366 - mse: 1.4366\n",
            "Epoch 31/100\n",
            "36/36 [==============================] - 0s 3ms/step - loss: 1.4384 - mse: 1.4384\n",
            "Epoch 32/100\n",
            "36/36 [==============================] - 0s 2ms/step - loss: 1.4563 - mse: 1.4563\n",
            "Epoch 33/100\n",
            "36/36 [==============================] - 0s 2ms/step - loss: 1.4035 - mse: 1.4035\n",
            "Epoch 34/100\n",
            "36/36 [==============================] - 0s 2ms/step - loss: 1.4232 - mse: 1.4232\n",
            "Epoch 35/100\n",
            "36/36 [==============================] - 0s 3ms/step - loss: 1.3856 - mse: 1.3856\n",
            "Epoch 36/100\n",
            "36/36 [==============================] - 0s 2ms/step - loss: 1.4186 - mse: 1.4186\n",
            "Epoch 37/100\n",
            "36/36 [==============================] - 0s 2ms/step - loss: 1.3794 - mse: 1.3794\n",
            "Epoch 38/100\n",
            "36/36 [==============================] - 0s 2ms/step - loss: 1.4016 - mse: 1.4016\n",
            "Epoch 39/100\n",
            "36/36 [==============================] - 0s 2ms/step - loss: 1.3385 - mse: 1.3385\n",
            "Epoch 40/100\n",
            "36/36 [==============================] - 0s 3ms/step - loss: 1.3441 - mse: 1.3441\n",
            "Epoch 41/100\n",
            "36/36 [==============================] - 0s 2ms/step - loss: 1.3468 - mse: 1.3468\n",
            "Epoch 42/100\n",
            "36/36 [==============================] - 0s 2ms/step - loss: 1.3200 - mse: 1.3200\n",
            "Epoch 43/100\n",
            "36/36 [==============================] - 0s 2ms/step - loss: 1.3145 - mse: 1.3145\n",
            "Epoch 44/100\n",
            "36/36 [==============================] - 0s 2ms/step - loss: 1.3120 - mse: 1.3120\n",
            "Epoch 45/100\n",
            "36/36 [==============================] - 0s 2ms/step - loss: 1.2928 - mse: 1.2928\n",
            "Epoch 46/100\n",
            "36/36 [==============================] - 0s 3ms/step - loss: 1.3093 - mse: 1.3093\n",
            "Epoch 47/100\n",
            "36/36 [==============================] - 0s 2ms/step - loss: 1.2733 - mse: 1.2733\n",
            "Epoch 48/100\n",
            "36/36 [==============================] - 0s 2ms/step - loss: 1.2683 - mse: 1.2683\n",
            "Epoch 49/100\n",
            "36/36 [==============================] - 0s 2ms/step - loss: 1.2676 - mse: 1.2676\n",
            "Epoch 50/100\n",
            "36/36 [==============================] - 0s 2ms/step - loss: 1.2778 - mse: 1.2778\n",
            "Epoch 51/100\n",
            "36/36 [==============================] - 0s 3ms/step - loss: 1.2643 - mse: 1.2643\n",
            "Epoch 52/100\n",
            "36/36 [==============================] - 0s 2ms/step - loss: 1.2128 - mse: 1.2128\n",
            "Epoch 53/100\n",
            "36/36 [==============================] - 0s 3ms/step - loss: 1.2117 - mse: 1.2117\n",
            "Epoch 54/100\n",
            "36/36 [==============================] - 0s 2ms/step - loss: 1.1727 - mse: 1.1727\n",
            "Epoch 55/100\n",
            "36/36 [==============================] - 0s 2ms/step - loss: 1.1824 - mse: 1.1824\n",
            "Epoch 56/100\n",
            "36/36 [==============================] - 0s 3ms/step - loss: 1.1654 - mse: 1.1654\n",
            "Epoch 57/100\n",
            "36/36 [==============================] - 0s 2ms/step - loss: 1.1237 - mse: 1.1237\n",
            "Epoch 58/100\n",
            "36/36 [==============================] - 0s 2ms/step - loss: 1.1380 - mse: 1.1380\n",
            "Epoch 59/100\n",
            "36/36 [==============================] - 0s 2ms/step - loss: 1.1856 - mse: 1.1856\n",
            "Epoch 60/100\n",
            "36/36 [==============================] - 0s 2ms/step - loss: 1.1023 - mse: 1.1023\n",
            "Epoch 61/100\n",
            "36/36 [==============================] - 0s 3ms/step - loss: 1.1197 - mse: 1.1197\n",
            "Epoch 62/100\n",
            "36/36 [==============================] - 0s 2ms/step - loss: 1.1316 - mse: 1.1316\n",
            "Epoch 63/100\n",
            "36/36 [==============================] - 0s 2ms/step - loss: 1.0854 - mse: 1.0854\n",
            "Epoch 64/100\n",
            "36/36 [==============================] - 0s 2ms/step - loss: 1.0752 - mse: 1.0752\n",
            "Epoch 65/100\n",
            "36/36 [==============================] - 0s 2ms/step - loss: 1.0776 - mse: 1.0776\n",
            "Epoch 66/100\n",
            "36/36 [==============================] - 0s 2ms/step - loss: 1.0781 - mse: 1.0781\n",
            "Epoch 67/100\n",
            "36/36 [==============================] - 0s 3ms/step - loss: 1.0227 - mse: 1.0227\n",
            "Epoch 68/100\n",
            "36/36 [==============================] - 0s 2ms/step - loss: 0.9957 - mse: 0.9957\n",
            "Epoch 69/100\n",
            "36/36 [==============================] - 0s 2ms/step - loss: 1.0516 - mse: 1.0516\n",
            "Epoch 70/100\n",
            "36/36 [==============================] - 0s 2ms/step - loss: 1.0545 - mse: 1.0545\n",
            "Epoch 71/100\n",
            "36/36 [==============================] - 0s 3ms/step - loss: 0.9711 - mse: 0.9711\n",
            "Epoch 72/100\n",
            "36/36 [==============================] - 0s 3ms/step - loss: 0.9989 - mse: 0.9989\n",
            "Epoch 73/100\n",
            "36/36 [==============================] - 0s 2ms/step - loss: 0.9288 - mse: 0.9288\n",
            "Epoch 74/100\n",
            "36/36 [==============================] - 0s 2ms/step - loss: 0.9265 - mse: 0.9265\n",
            "Epoch 75/100\n",
            "36/36 [==============================] - 0s 2ms/step - loss: 0.9083 - mse: 0.9083\n",
            "Epoch 76/100\n",
            "36/36 [==============================] - 0s 2ms/step - loss: 0.9004 - mse: 0.9004\n",
            "Epoch 77/100\n",
            "36/36 [==============================] - 0s 2ms/step - loss: 0.8932 - mse: 0.8932\n",
            "Epoch 78/100\n",
            "36/36 [==============================] - 0s 3ms/step - loss: 0.9411 - mse: 0.9411\n",
            "Epoch 79/100\n",
            "36/36 [==============================] - 0s 2ms/step - loss: 0.9417 - mse: 0.9417\n",
            "Epoch 80/100\n",
            "36/36 [==============================] - 0s 2ms/step - loss: 0.8750 - mse: 0.8750\n",
            "Epoch 81/100\n",
            "36/36 [==============================] - 0s 2ms/step - loss: 0.8567 - mse: 0.8567\n",
            "Epoch 82/100\n",
            "36/36 [==============================] - 0s 2ms/step - loss: 0.9076 - mse: 0.9076\n",
            "Epoch 83/100\n",
            "36/36 [==============================] - 0s 3ms/step - loss: 0.8515 - mse: 0.8515\n",
            "Epoch 84/100\n",
            "36/36 [==============================] - 0s 2ms/step - loss: 0.8984 - mse: 0.8984\n",
            "Epoch 85/100\n",
            "36/36 [==============================] - 0s 2ms/step - loss: 0.8347 - mse: 0.8347\n",
            "Epoch 86/100\n",
            "36/36 [==============================] - 0s 2ms/step - loss: 0.8392 - mse: 0.8392\n",
            "Epoch 87/100\n",
            "36/36 [==============================] - 0s 2ms/step - loss: 0.8082 - mse: 0.8082\n",
            "Epoch 88/100\n",
            "36/36 [==============================] - 0s 3ms/step - loss: 0.8036 - mse: 0.8036\n",
            "Epoch 89/100\n",
            "36/36 [==============================] - 0s 3ms/step - loss: 0.7914 - mse: 0.7914\n",
            "Epoch 90/100\n",
            "36/36 [==============================] - 0s 2ms/step - loss: 0.8067 - mse: 0.8067\n",
            "Epoch 91/100\n",
            "36/36 [==============================] - 0s 3ms/step - loss: 0.7660 - mse: 0.7660\n",
            "Epoch 92/100\n",
            "36/36 [==============================] - 0s 2ms/step - loss: 0.8839 - mse: 0.8839\n",
            "Epoch 93/100\n",
            "36/36 [==============================] - 0s 3ms/step - loss: 0.7774 - mse: 0.7774\n",
            "Epoch 94/100\n",
            "36/36 [==============================] - 0s 2ms/step - loss: 0.7513 - mse: 0.7513\n",
            "Epoch 95/100\n",
            "36/36 [==============================] - 0s 2ms/step - loss: 0.7271 - mse: 0.7271\n",
            "Epoch 96/100\n",
            "36/36 [==============================] - 0s 3ms/step - loss: 0.7394 - mse: 0.7394\n",
            "Epoch 97/100\n",
            "36/36 [==============================] - 0s 2ms/step - loss: 0.7452 - mse: 0.7452\n",
            "Epoch 98/100\n",
            "36/36 [==============================] - 0s 3ms/step - loss: 0.7799 - mse: 0.7799\n",
            "Epoch 99/100\n",
            "36/36 [==============================] - 0s 3ms/step - loss: 0.7495 - mse: 0.7495\n",
            "Epoch 100/100\n",
            "36/36 [==============================] - 0s 2ms/step - loss: 0.7205 - mse: 0.7205\n"
          ],
          "name": "stdout"
        },
        {
          "output_type": "execute_result",
          "data": {
            "text/plain": [
              "<tensorflow.python.keras.callbacks.History at 0x7fe47aeddcc0>"
            ]
          },
          "metadata": {
            "tags": []
          },
          "execution_count": 30
        }
      ]
    },
    {
      "cell_type": "code",
      "metadata": {
        "id": "WfpLp4WJai4s"
      },
      "source": [
        "pred_test= model.predict(X_test) # 預測"
      ],
      "execution_count": null,
      "outputs": []
    },
    {
      "cell_type": "code",
      "metadata": {
        "id": "2CAxzHDgc9NO",
        "outputId": "c15c7e15-3fbe-4929-e7dc-a4a49fb9c0d3",
        "colab": {
          "base_uri": "https://localhost:8080/",
          "height": 428
        }
      },
      "source": [
        "# 預測結果圖示\n",
        "plt.figure(figsize=(16, 7))\n",
        "plt.plot(data.index, data, label='Original data')\n",
        "plt.plot(data[sep_idx+window_size:].index, pred_test, label='Predict result')\n",
        "plt.legend()\n",
        "plt.show()"
      ],
      "execution_count": null,
      "outputs": [
        {
          "output_type": "display_data",
          "data": {
            "image/png": "[encoded data removed]",
            "text/plain": [
              "<Figure size 1152x504 with 1 Axes>"
            ]
          },
          "metadata": {
            "tags": [],
            "needs_background": "light"
          }
        }
      ]
    },
    {
      "cell_type": "code",
      "metadata": {
        "id": "H7hTJ0HxBbfJ"
      },
      "source": [
        ""
      ],
      "execution_count": null,
      "outputs": []
    }
  ]
}